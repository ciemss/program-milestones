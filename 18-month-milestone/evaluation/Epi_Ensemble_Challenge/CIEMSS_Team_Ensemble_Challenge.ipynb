{
 "cells": [
  {
   "cell_type": "markdown",
   "id": "5ab42061-ad65-4117-945a-c6fe2bc36a8b",
   "metadata": {},
   "source": [
    "# Ensemble Challenge (18-month Evaluation)\n",
    "\n",
    "## Timepoint: July 19, 2021. \n",
    "\n",
    "## Setting: New York State upon the arrival of the Delta variant, vaccines available"
   ]
  },
  {
   "cell_type": "markdown",
   "id": "2945a8ab-49d5-44c8-bca5-7dcdb2501cf7",
   "metadata": {},
   "source": [
    "### Load dependencies"
   ]
  },
  {
   "cell_type": "code",
   "execution_count": 1,
   "id": "866b5743-df07-4d3e-962d-35a6c916e6dd",
   "metadata": {},
   "outputs": [],
   "source": [
    "import pandas as pd\n",
    "\n",
    "import pyciemss\n",
    "import pyciemss.visuals.plots as plots\n",
    "import pyciemss.visuals.vega as vega\n",
    "import pyciemss.visuals.trajectories as trajectories\n",
    "from pyciemss.integration_utils.result_processing import cdc_format"
   ]
  },
  {
   "cell_type": "markdown",
   "id": "52e06fbd-9b84-46b0-bc48-32ecd7bc7a64",
   "metadata": {},
   "source": [
    "# Process data"
   ]
  },
  {
   "cell_type": "code",
   "execution_count": 2,
   "id": "8d5df367-9080-4267-9f31-96fb4f918371",
   "metadata": {},
   "outputs": [],
   "source": [
    "location = \"New York State\"\n",
    "# BETTER_NAMES = {'Cases': 'Infected',\n",
    "#                 'Hospitalizations': 'Hospitalized',\n",
    "#                 'Deaths': 'Dead'}\n",
    "# ## instantiate, making sure no dates are skipped between start and end (could be found dynamically)\n",
    "# full_dataset = pd.DataFrame({'date':pd.date_range(start='1/22/2020', end='3/29/2024')})\n",
    "\n",
    "# ## fill the instantiated dataset\n",
    "# for i in ['Cases','Hospitalizations','Deaths']:\n",
    "#     all_data = pd.read_csv(f'https://media.githubusercontent.com/media/reichlab/covid19-forecast-hub/master/data-truth/truth-Incident%20{i}.csv')\n",
    "#     subset   = all_data[all_data.location_name == location].groupby(\"date\")[\"value\"].sum().reset_index()\n",
    "#     subset.date = pd.to_datetime(subset.date)\n",
    "#     subset['cumsum'] = subset.value.cumsum()\n",
    "#     full_dataset = full_dataset.merge(subset[['date','cumsum']], how='outer', on='date').rename(columns={'cumsum':BETTER_NAMES[i]})\n",
    "\n",
    "# full_dataset[(full_dataset.date >= '2021-06-01') & (full_dataset.date < '2021-09-06')].reset_index(drop=True).reset_index(names=['Timestamp']).drop(['date'],axis=1)\n",
    "\n",
    "## Save full dataset\n",
    "# full_dataset.to_csv('full_dataset.csv', index=False)\n",
    "full_dataset = pd.read_csv('full_dataset.csv')\n",
    "\n",
    "## Define a function to select a subset of the data\n",
    "def get_data_between(start='2021-06-01',end='2021-09-06'):\n",
    "    return full_dataset[(full_dataset.date >= start) & (full_dataset.date < end)].reset_index(drop=True).reset_index(names=['Timestamp']).drop(['date'],axis=1)"
   ]
  },
  {
   "cell_type": "markdown",
   "id": "326ad8fd-1239-4696-a0e5-f296368d3319",
   "metadata": {},
   "source": [
    "### Define a function to process output to CDC format"
   ]
  },
  {
   "cell_type": "code",
   "execution_count": 11,
   "id": "25e356d2-1c0b-428e-8057-f32fbf3ab564",
   "metadata": {},
   "outputs": [],
   "source": [
    "def save_results_cdc_format(result, start_date, location, train_end_point):\n",
    "    ensemble_data = cdc_format(\n",
    "        result[\"ensemble_quantiles\"],\n",
    "        solution_string_mapping = {\n",
    "            \"Cumulative_cases_state\": \"cum cases\",\n",
    "            \"Cumulative_hosp_state\": \"cum hosp\",\n",
    "            \"Deceased_state\": \"cum death\",\n",
    "        },\n",
    "        forecast_start_date=start_date,\n",
    "        location=location,\n",
    "        drop_column_names=[\n",
    "            \"timepoint_id\",\n",
    "            \"number_days\",\n",
    "            \"inc_cum\",\n",
    "            \"output\",\n",
    "        ],\n",
    "        train_end_point=train_end_point,\n",
    "    )\n",
    "    return ensemble_data"
   ]
  },
  {
   "cell_type": "markdown",
   "id": "a94d16dd-5f06-4ce8-aca1-ff2c075b21ba",
   "metadata": {},
   "source": [
    "### Define a function to plot results"
   ]
  },
  {
   "cell_type": "code",
   "execution_count": 4,
   "id": "69abd5f9-40a1-409f-b46f-08de0b28cfd6",
   "metadata": {},
   "outputs": [],
   "source": [
    "def plot_results_and_data(results, data):\n",
    "    # Plot the result for cumulative cases, hospitalizations, and deaths\n",
    "    nice_labels={\"deceased_state\": \"Deaths\", \"Cumulative_hosp_state\": \"Cumul Hosp\", \"Cumulative_cases_state\": \"Cumul Cases\"}\n",
    "    schema = plots.trajectories(results[\"data\"], \n",
    "                                keep=[\"deceased_state\", \"Cumulative_hosp_state\", \"Cumulative_cases_state\"], \n",
    "                                relabel=nice_labels,\n",
    "                                points=data.drop(columns=['Timestamp']).reset_index(drop=True)\n",
    "                               )\n",
    "    # plots.save_schema(schema, \"_schema.json\")\n",
    "    # plots.ipy_display(schema, dpi=150)\n",
    "    return schema\n",
    "\n",
    "def plot_all_results(results):\n",
    "    # Plot the result for all state variables\n",
    "    schema = plots.trajectories(results[\"data\"], keep=\".*_state\")\n",
    "    return schema"
   ]
  },
  {
   "cell_type": "markdown",
   "id": "b528f591-1ff0-4cdd-81af-6041c17da172",
   "metadata": {},
   "source": [
    "# Gather models"
   ]
  },
  {
   "cell_type": "code",
   "execution_count": 5,
   "id": "82212d43-7a1f-4716-89fc-d963759d1973",
   "metadata": {},
   "outputs": [],
   "source": [
    "# See `Model_Kitchen.ipynb` for model derivation\n",
    "model1 = \"SEIRHD_age_structured_petrinet.json\"\n",
    "model2 = \"SEIRHD_vacc_var_petrinet.json\"\n",
    "model3 = \"SEIRHD_base_petrinet.json\"\n",
    "# model4 = \"SEIRHD_time_varying_transmission_petrinet.json\""
   ]
  },
  {
   "cell_type": "markdown",
   "id": "a08130ce-0ae6-49f8-93c5-3057b738b287",
   "metadata": {},
   "source": [
    "### Define solution mappings for each model"
   ]
  },
  {
   "cell_type": "code",
   "execution_count": 6,
   "id": "5d8c24bc-9033-471f-b07f-542e9eef4741",
   "metadata": {},
   "outputs": [],
   "source": [
    "def solution_mapping(model_solution: dict) -> dict:\n",
    "    # solution mapping for model1 and model2 and model3 (they all have the same set of observables)\n",
    "    mapped_dict = {}\n",
    "    mapped_dict[\"Susceptible\"] = model_solution[\"susceptible\"]\n",
    "    mapped_dict[\"Exposed\"] = model_solution[\"exposed\"]\n",
    "    mapped_dict[\"Infected\"] = model_solution[\"infected\"]\n",
    "    mapped_dict[\"Recovered\"] = model_solution[\"recovered\"]\n",
    "    mapped_dict[\"Hospitalized\"] = model_solution[\"hospitalized\"]\n",
    "    mapped_dict[\"Deceased\"] = model_solution[\"deceased\"]\n",
    "    mapped_dict[\"Cumulative_cases\"] = model_solution[\"all_cases\"]\n",
    "    mapped_dict[\"Cumulative_hosp\"] = model_solution[\"all_hosp\"]\n",
    "    return mapped_dict"
   ]
  },
  {
   "cell_type": "markdown",
   "id": "788682d8-0a54-4ae1-b573-94f3f8e50aad",
   "metadata": {},
   "source": [
    "### Set model paths and parameters for sampling"
   ]
  },
  {
   "cell_type": "code",
   "execution_count": 7,
   "id": "65053c42-0c8d-4ce3-ab68-34fe2d8229ce",
   "metadata": {},
   "outputs": [],
   "source": [
    "num_iterations = 10\n",
    "num_samples = 20\n",
    "start_time = 0.0\n",
    "logging_step_size = 1.0\n",
    "\n",
    "single_model_paths = [[model1], [model2], [model3]]\n",
    "model_paths = [model1, model2, model3]\n",
    "\n",
    "single_solution_mapping = [lambda x : x]\n",
    "solution_mappings = [solution_mapping, solution_mapping, solution_mapping]\n",
    "\n",
    "single_data_mapping = {'Infected': 'Cumulative_cases', 'Hospitalized': 'Cumulative_hosp', 'Dead': 'deceased'}\n",
    "data_mapping = {'Infected': 'Cumulative_cases', 'Hospitalized': 'Cumulative_hosp', 'Dead': 'Deceased'}"
   ]
  },
  {
   "cell_type": "markdown",
   "id": "71689628-f1d1-42ca-bbd5-21d2b23b7c64",
   "metadata": {},
   "source": [
    "# (1) Forecast 1: 07/19/2021 - 08/16/2021"
   ]
  },
  {
   "cell_type": "code",
   "execution_count": 8,
   "id": "97a444f6-a09a-4e18-9a02-d7f02fc862a2",
   "metadata": {},
   "outputs": [],
   "source": [
    "dataset = get_data_between('2021-06-01', '2021-07-18')\n",
    "end_time = len(dataset) + 28.0\n",
    "train_end_point = len(dataset) - 1.0"
   ]
  },
  {
   "cell_type": "markdown",
   "id": "089ea7c6-7155-4ad9-bfe3-a3e492af8b99",
   "metadata": {},
   "source": [
    "## (A) Calibrate each model as an ensemble of a single model "
   ]
  },
  {
   "cell_type": "markdown",
   "id": "874f0995-9e4c-4633-ba47-a5cb394a5934",
   "metadata": {},
   "source": [
    "### Model 1"
   ]
  },
  {
   "cell_type": "code",
   "execution_count": null,
   "id": "4608bca7-6507-4b68-92fc-dbcacb4d9b4e",
   "metadata": {},
   "outputs": [],
   "source": [
    "## Calibrate the model to data\n",
    "calibrated_results = pyciemss.ensemble_calibrate(single_model_paths[0], single_solution_mapping, dataset, \n",
    "                                                 data_mapping=single_data_mapping, num_iterations=num_iterations)\n",
    "parameter_estimates = calibrated_results[\"inferred_parameters\"]\n",
    "# print(parameter_estimates())\n",
    "\n",
    "## Sample the calibrated model\n",
    "calibrated_ensemble_result = pyciemss.ensemble_sample(single_model_paths[0], single_solution_mapping, \n",
    "                                                      end_time, logging_step_size, num_samples, \n",
    "                                                      start_time=start_time, inferred_parameters=parameter_estimates)\n",
    "\n",
    "# ## Save results\n",
    "# save_results_cdc_format(calibrated_ensemble_result, \"2021-07-19\", location).to_csv('ensemble1_forecast_0719.csv', index=False)\n",
    "\n",
    "## Display results\n",
    "display(calibrated_ensemble_result['data'].head())\n",
    "schema = plot_results_and_data(calibrated_ensemble_result, dataset)\n",
    "# schema = plot_all_results(calibrated_ensemble_result)\n",
    "plots.save_schema(schema, \"_schema.json\")\n",
    "plots.ipy_display(schema, dpi=150)"
   ]
  },
  {
   "cell_type": "markdown",
   "id": "38a4433d-0565-4874-9b36-aac89336d9d1",
   "metadata": {},
   "source": [
    "### Model 2"
   ]
  },
  {
   "cell_type": "code",
   "execution_count": 12,
   "id": "7dc511f9-52c0-4965-a7b0-dee142bf9392",
   "metadata": {},
   "outputs": [
    {
     "name": "stderr",
     "output_type": "stream",
     "text": [
      "/Users/altu809/Projects/pyciemss/pyciemss/integration_utils/result_processing.py:277: UserWarning: cdc_format only works for time_unit=daystime_unit will default to days and overwrite previous time_unit.\n",
      "  warnings.warn(\n",
      "/Users/altu809/Projects/pyciemss/pyciemss/integration_utils/result_processing.py:330: FutureWarning: errors='ignore' is deprecated and will raise in a future version. Use to_datetime without passing `errors` and catch exceptions explicitly instead\n",
      "  q_ensemble_data[\"forecast_date\"] = pd.to_datetime(\n"
     ]
    },
    {
     "ename": "KeyError",
     "evalue": "\"['inc_cum'] not found in axis\"",
     "output_type": "error",
     "traceback": [
      "\u001b[0;31m---------------------------------------------------------------------------\u001b[0m",
      "\u001b[0;31mKeyError\u001b[0m                                  Traceback (most recent call last)",
      "Cell \u001b[0;32mIn[12], line 14\u001b[0m\n\u001b[1;32m      1\u001b[0m \u001b[38;5;66;03m# ## Calibrate the model to data\u001b[39;00m\n\u001b[1;32m      2\u001b[0m \u001b[38;5;66;03m# calibrated_results = pyciemss.ensemble_calibrate(single_model_paths[1], single_solution_mapping, dataset, \u001b[39;00m\n\u001b[1;32m      3\u001b[0m \u001b[38;5;66;03m#                                                  data_mapping=single_data_mapping, num_iterations=num_iterations)\u001b[39;00m\n\u001b[0;32m   (...)\u001b[0m\n\u001b[1;32m     12\u001b[0m \n\u001b[1;32m     13\u001b[0m \u001b[38;5;66;03m## Save results\u001b[39;00m\n\u001b[0;32m---> 14\u001b[0m \u001b[43msave_results_cdc_format\u001b[49m\u001b[43m(\u001b[49m\u001b[43mcalibrated_ensemble_result\u001b[49m\u001b[43m,\u001b[49m\u001b[43m \u001b[49m\u001b[38;5;124;43m\"\u001b[39;49m\u001b[38;5;124;43m2021-07-19\u001b[39;49m\u001b[38;5;124;43m\"\u001b[39;49m\u001b[43m,\u001b[49m\u001b[43m \u001b[49m\u001b[43mlocation\u001b[49m\u001b[43m,\u001b[49m\u001b[43m \u001b[49m\u001b[43mtrain_end_point\u001b[49m\u001b[43m)\u001b[49m\u001b[38;5;241m.\u001b[39mto_csv(\u001b[38;5;124m'\u001b[39m\u001b[38;5;124mensemble1_forecast_0719.csv\u001b[39m\u001b[38;5;124m'\u001b[39m, index\u001b[38;5;241m=\u001b[39m\u001b[38;5;28;01mFalse\u001b[39;00m)\n\u001b[1;32m     16\u001b[0m \u001b[38;5;66;03m## Display results\u001b[39;00m\n\u001b[1;32m     17\u001b[0m \u001b[38;5;66;03m# display(calibrated_ensemble_result['data'].head())\u001b[39;00m\n\u001b[1;32m     18\u001b[0m schema \u001b[38;5;241m=\u001b[39m plot_results_and_data(calibrated_ensemble_result, dataset)\n",
      "Cell \u001b[0;32mIn[11], line 2\u001b[0m, in \u001b[0;36msave_results_cdc_format\u001b[0;34m(result, start_date, location, train_end_point)\u001b[0m\n\u001b[1;32m      1\u001b[0m \u001b[38;5;28;01mdef\u001b[39;00m \u001b[38;5;21msave_results_cdc_format\u001b[39m(result, start_date, location, train_end_point):\n\u001b[0;32m----> 2\u001b[0m     ensemble_data \u001b[38;5;241m=\u001b[39m \u001b[43mcdc_format\u001b[49m\u001b[43m(\u001b[49m\n\u001b[1;32m      3\u001b[0m \u001b[43m        \u001b[49m\u001b[43mresult\u001b[49m\u001b[43m[\u001b[49m\u001b[38;5;124;43m\"\u001b[39;49m\u001b[38;5;124;43mensemble_quantiles\u001b[39;49m\u001b[38;5;124;43m\"\u001b[39;49m\u001b[43m]\u001b[49m\u001b[43m,\u001b[49m\n\u001b[1;32m      4\u001b[0m \u001b[43m        \u001b[49m\u001b[43msolution_string_mapping\u001b[49m\u001b[43m \u001b[49m\u001b[38;5;241;43m=\u001b[39;49m\u001b[43m \u001b[49m\u001b[43m{\u001b[49m\n\u001b[1;32m      5\u001b[0m \u001b[43m            \u001b[49m\u001b[38;5;124;43m\"\u001b[39;49m\u001b[38;5;124;43mCumulative_cases_state\u001b[39;49m\u001b[38;5;124;43m\"\u001b[39;49m\u001b[43m:\u001b[49m\u001b[43m \u001b[49m\u001b[38;5;124;43m\"\u001b[39;49m\u001b[38;5;124;43mcum cases\u001b[39;49m\u001b[38;5;124;43m\"\u001b[39;49m\u001b[43m,\u001b[49m\n\u001b[1;32m      6\u001b[0m \u001b[43m            \u001b[49m\u001b[38;5;124;43m\"\u001b[39;49m\u001b[38;5;124;43mCumulative_hosp_state\u001b[39;49m\u001b[38;5;124;43m\"\u001b[39;49m\u001b[43m:\u001b[49m\u001b[43m \u001b[49m\u001b[38;5;124;43m\"\u001b[39;49m\u001b[38;5;124;43mcum hosp\u001b[39;49m\u001b[38;5;124;43m\"\u001b[39;49m\u001b[43m,\u001b[49m\n\u001b[1;32m      7\u001b[0m \u001b[43m            \u001b[49m\u001b[38;5;124;43m\"\u001b[39;49m\u001b[38;5;124;43mDeceased_state\u001b[39;49m\u001b[38;5;124;43m\"\u001b[39;49m\u001b[43m:\u001b[49m\u001b[43m \u001b[49m\u001b[38;5;124;43m\"\u001b[39;49m\u001b[38;5;124;43mcum death\u001b[39;49m\u001b[38;5;124;43m\"\u001b[39;49m\u001b[43m,\u001b[49m\n\u001b[1;32m      8\u001b[0m \u001b[43m        \u001b[49m\u001b[43m}\u001b[49m\u001b[43m,\u001b[49m\n\u001b[1;32m      9\u001b[0m \u001b[43m        \u001b[49m\u001b[43mforecast_start_date\u001b[49m\u001b[38;5;241;43m=\u001b[39;49m\u001b[43mstart_date\u001b[49m\u001b[43m,\u001b[49m\n\u001b[1;32m     10\u001b[0m \u001b[43m        \u001b[49m\u001b[43mlocation\u001b[49m\u001b[38;5;241;43m=\u001b[39;49m\u001b[43mlocation\u001b[49m\u001b[43m,\u001b[49m\n\u001b[1;32m     11\u001b[0m \u001b[43m        \u001b[49m\u001b[43mdrop_column_names\u001b[49m\u001b[38;5;241;43m=\u001b[39;49m\u001b[43m[\u001b[49m\n\u001b[1;32m     12\u001b[0m \u001b[43m            \u001b[49m\u001b[38;5;124;43m\"\u001b[39;49m\u001b[38;5;124;43mtimepoint_id\u001b[39;49m\u001b[38;5;124;43m\"\u001b[39;49m\u001b[43m,\u001b[49m\n\u001b[1;32m     13\u001b[0m \u001b[43m            \u001b[49m\u001b[38;5;124;43m\"\u001b[39;49m\u001b[38;5;124;43mnumber_days\u001b[39;49m\u001b[38;5;124;43m\"\u001b[39;49m\u001b[43m,\u001b[49m\n\u001b[1;32m     14\u001b[0m \u001b[43m            \u001b[49m\u001b[38;5;124;43m\"\u001b[39;49m\u001b[38;5;124;43minc_cum\u001b[39;49m\u001b[38;5;124;43m\"\u001b[39;49m\u001b[43m,\u001b[49m\n\u001b[1;32m     15\u001b[0m \u001b[43m            \u001b[49m\u001b[38;5;124;43m\"\u001b[39;49m\u001b[38;5;124;43moutput\u001b[39;49m\u001b[38;5;124;43m\"\u001b[39;49m\u001b[43m,\u001b[49m\n\u001b[1;32m     16\u001b[0m \u001b[43m        \u001b[49m\u001b[43m]\u001b[49m\u001b[43m,\u001b[49m\n\u001b[1;32m     17\u001b[0m \u001b[43m        \u001b[49m\u001b[43mtrain_end_point\u001b[49m\u001b[38;5;241;43m=\u001b[39;49m\u001b[43mtrain_end_point\u001b[49m\u001b[43m,\u001b[49m\n\u001b[1;32m     18\u001b[0m \u001b[43m    \u001b[49m\u001b[43m)\u001b[49m\n\u001b[1;32m     19\u001b[0m     \u001b[38;5;28;01mreturn\u001b[39;00m ensemble_data\n",
      "File \u001b[0;32m~/Projects/pyciemss/pyciemss/integration_utils/result_processing.py:342\u001b[0m, in \u001b[0;36mcdc_format\u001b[0;34m(q_ensemble_input, solution_string_mapping, time_unit, forecast_start_date, location, drop_column_names, train_end_point)\u001b[0m\n\u001b[1;32m    340\u001b[0m \u001b[38;5;66;03m# Dropping columns specified by user\u001b[39;00m\n\u001b[1;32m    341\u001b[0m \u001b[38;5;28;01mif\u001b[39;00m drop_column_names:\n\u001b[0;32m--> 342\u001b[0m     q_ensemble_data \u001b[38;5;241m=\u001b[39m \u001b[43mq_ensemble_data\u001b[49m\u001b[38;5;241;43m.\u001b[39;49m\u001b[43mdrop\u001b[49m\u001b[43m(\u001b[49m\u001b[43mcolumns\u001b[49m\u001b[38;5;241;43m=\u001b[39;49m\u001b[43mdrop_column_names\u001b[49m\u001b[43m)\u001b[49m\n\u001b[1;32m    343\u001b[0m \u001b[38;5;28;01mreturn\u001b[39;00m q_ensemble_data\n",
      "File \u001b[0;32m~/anaconda3/lib/python3.10/site-packages/pandas/core/frame.py:5568\u001b[0m, in \u001b[0;36mDataFrame.drop\u001b[0;34m(self, labels, axis, index, columns, level, inplace, errors)\u001b[0m\n\u001b[1;32m   5420\u001b[0m \u001b[38;5;28;01mdef\u001b[39;00m \u001b[38;5;21mdrop\u001b[39m(\n\u001b[1;32m   5421\u001b[0m     \u001b[38;5;28mself\u001b[39m,\n\u001b[1;32m   5422\u001b[0m     labels: IndexLabel \u001b[38;5;241m|\u001b[39m \u001b[38;5;28;01mNone\u001b[39;00m \u001b[38;5;241m=\u001b[39m \u001b[38;5;28;01mNone\u001b[39;00m,\n\u001b[0;32m   (...)\u001b[0m\n\u001b[1;32m   5429\u001b[0m     errors: IgnoreRaise \u001b[38;5;241m=\u001b[39m \u001b[38;5;124m\"\u001b[39m\u001b[38;5;124mraise\u001b[39m\u001b[38;5;124m\"\u001b[39m,\n\u001b[1;32m   5430\u001b[0m ) \u001b[38;5;241m-\u001b[39m\u001b[38;5;241m>\u001b[39m DataFrame \u001b[38;5;241m|\u001b[39m \u001b[38;5;28;01mNone\u001b[39;00m:\n\u001b[1;32m   5431\u001b[0m \u001b[38;5;250m    \u001b[39m\u001b[38;5;124;03m\"\"\"\u001b[39;00m\n\u001b[1;32m   5432\u001b[0m \u001b[38;5;124;03m    Drop specified labels from rows or columns.\u001b[39;00m\n\u001b[1;32m   5433\u001b[0m \n\u001b[0;32m   (...)\u001b[0m\n\u001b[1;32m   5566\u001b[0m \u001b[38;5;124;03m            weight  1.0     0.8\u001b[39;00m\n\u001b[1;32m   5567\u001b[0m \u001b[38;5;124;03m    \"\"\"\u001b[39;00m\n\u001b[0;32m-> 5568\u001b[0m     \u001b[38;5;28;01mreturn\u001b[39;00m \u001b[38;5;28;43msuper\u001b[39;49m\u001b[43m(\u001b[49m\u001b[43m)\u001b[49m\u001b[38;5;241;43m.\u001b[39;49m\u001b[43mdrop\u001b[49m\u001b[43m(\u001b[49m\n\u001b[1;32m   5569\u001b[0m \u001b[43m        \u001b[49m\u001b[43mlabels\u001b[49m\u001b[38;5;241;43m=\u001b[39;49m\u001b[43mlabels\u001b[49m\u001b[43m,\u001b[49m\n\u001b[1;32m   5570\u001b[0m \u001b[43m        \u001b[49m\u001b[43maxis\u001b[49m\u001b[38;5;241;43m=\u001b[39;49m\u001b[43maxis\u001b[49m\u001b[43m,\u001b[49m\n\u001b[1;32m   5571\u001b[0m \u001b[43m        \u001b[49m\u001b[43mindex\u001b[49m\u001b[38;5;241;43m=\u001b[39;49m\u001b[43mindex\u001b[49m\u001b[43m,\u001b[49m\n\u001b[1;32m   5572\u001b[0m \u001b[43m        \u001b[49m\u001b[43mcolumns\u001b[49m\u001b[38;5;241;43m=\u001b[39;49m\u001b[43mcolumns\u001b[49m\u001b[43m,\u001b[49m\n\u001b[1;32m   5573\u001b[0m \u001b[43m        \u001b[49m\u001b[43mlevel\u001b[49m\u001b[38;5;241;43m=\u001b[39;49m\u001b[43mlevel\u001b[49m\u001b[43m,\u001b[49m\n\u001b[1;32m   5574\u001b[0m \u001b[43m        \u001b[49m\u001b[43minplace\u001b[49m\u001b[38;5;241;43m=\u001b[39;49m\u001b[43minplace\u001b[49m\u001b[43m,\u001b[49m\n\u001b[1;32m   5575\u001b[0m \u001b[43m        \u001b[49m\u001b[43merrors\u001b[49m\u001b[38;5;241;43m=\u001b[39;49m\u001b[43merrors\u001b[49m\u001b[43m,\u001b[49m\n\u001b[1;32m   5576\u001b[0m \u001b[43m    \u001b[49m\u001b[43m)\u001b[49m\n",
      "File \u001b[0;32m~/anaconda3/lib/python3.10/site-packages/pandas/core/generic.py:4785\u001b[0m, in \u001b[0;36mNDFrame.drop\u001b[0;34m(self, labels, axis, index, columns, level, inplace, errors)\u001b[0m\n\u001b[1;32m   4783\u001b[0m \u001b[38;5;28;01mfor\u001b[39;00m axis, labels \u001b[38;5;129;01min\u001b[39;00m axes\u001b[38;5;241m.\u001b[39mitems():\n\u001b[1;32m   4784\u001b[0m     \u001b[38;5;28;01mif\u001b[39;00m labels \u001b[38;5;129;01mis\u001b[39;00m \u001b[38;5;129;01mnot\u001b[39;00m \u001b[38;5;28;01mNone\u001b[39;00m:\n\u001b[0;32m-> 4785\u001b[0m         obj \u001b[38;5;241m=\u001b[39m \u001b[43mobj\u001b[49m\u001b[38;5;241;43m.\u001b[39;49m\u001b[43m_drop_axis\u001b[49m\u001b[43m(\u001b[49m\u001b[43mlabels\u001b[49m\u001b[43m,\u001b[49m\u001b[43m \u001b[49m\u001b[43maxis\u001b[49m\u001b[43m,\u001b[49m\u001b[43m \u001b[49m\u001b[43mlevel\u001b[49m\u001b[38;5;241;43m=\u001b[39;49m\u001b[43mlevel\u001b[49m\u001b[43m,\u001b[49m\u001b[43m \u001b[49m\u001b[43merrors\u001b[49m\u001b[38;5;241;43m=\u001b[39;49m\u001b[43merrors\u001b[49m\u001b[43m)\u001b[49m\n\u001b[1;32m   4787\u001b[0m \u001b[38;5;28;01mif\u001b[39;00m inplace:\n\u001b[1;32m   4788\u001b[0m     \u001b[38;5;28mself\u001b[39m\u001b[38;5;241m.\u001b[39m_update_inplace(obj)\n",
      "File \u001b[0;32m~/anaconda3/lib/python3.10/site-packages/pandas/core/generic.py:4827\u001b[0m, in \u001b[0;36mNDFrame._drop_axis\u001b[0;34m(self, labels, axis, level, errors, only_slice)\u001b[0m\n\u001b[1;32m   4825\u001b[0m         new_axis \u001b[38;5;241m=\u001b[39m axis\u001b[38;5;241m.\u001b[39mdrop(labels, level\u001b[38;5;241m=\u001b[39mlevel, errors\u001b[38;5;241m=\u001b[39merrors)\n\u001b[1;32m   4826\u001b[0m     \u001b[38;5;28;01melse\u001b[39;00m:\n\u001b[0;32m-> 4827\u001b[0m         new_axis \u001b[38;5;241m=\u001b[39m \u001b[43maxis\u001b[49m\u001b[38;5;241;43m.\u001b[39;49m\u001b[43mdrop\u001b[49m\u001b[43m(\u001b[49m\u001b[43mlabels\u001b[49m\u001b[43m,\u001b[49m\u001b[43m \u001b[49m\u001b[43merrors\u001b[49m\u001b[38;5;241;43m=\u001b[39;49m\u001b[43merrors\u001b[49m\u001b[43m)\u001b[49m\n\u001b[1;32m   4828\u001b[0m     indexer \u001b[38;5;241m=\u001b[39m axis\u001b[38;5;241m.\u001b[39mget_indexer(new_axis)\n\u001b[1;32m   4830\u001b[0m \u001b[38;5;66;03m# Case for non-unique axis\u001b[39;00m\n\u001b[1;32m   4831\u001b[0m \u001b[38;5;28;01melse\u001b[39;00m:\n",
      "File \u001b[0;32m~/anaconda3/lib/python3.10/site-packages/pandas/core/indexes/base.py:7070\u001b[0m, in \u001b[0;36mIndex.drop\u001b[0;34m(self, labels, errors)\u001b[0m\n\u001b[1;32m   7068\u001b[0m \u001b[38;5;28;01mif\u001b[39;00m mask\u001b[38;5;241m.\u001b[39many():\n\u001b[1;32m   7069\u001b[0m     \u001b[38;5;28;01mif\u001b[39;00m errors \u001b[38;5;241m!=\u001b[39m \u001b[38;5;124m\"\u001b[39m\u001b[38;5;124mignore\u001b[39m\u001b[38;5;124m\"\u001b[39m:\n\u001b[0;32m-> 7070\u001b[0m         \u001b[38;5;28;01mraise\u001b[39;00m \u001b[38;5;167;01mKeyError\u001b[39;00m(\u001b[38;5;124mf\u001b[39m\u001b[38;5;124m\"\u001b[39m\u001b[38;5;132;01m{\u001b[39;00mlabels[mask]\u001b[38;5;241m.\u001b[39mtolist()\u001b[38;5;132;01m}\u001b[39;00m\u001b[38;5;124m not found in axis\u001b[39m\u001b[38;5;124m\"\u001b[39m)\n\u001b[1;32m   7071\u001b[0m     indexer \u001b[38;5;241m=\u001b[39m indexer[\u001b[38;5;241m~\u001b[39mmask]\n\u001b[1;32m   7072\u001b[0m \u001b[38;5;28;01mreturn\u001b[39;00m \u001b[38;5;28mself\u001b[39m\u001b[38;5;241m.\u001b[39mdelete(indexer)\n",
      "\u001b[0;31mKeyError\u001b[0m: \"['inc_cum'] not found in axis\""
     ]
    }
   ],
   "source": [
    "# ## Calibrate the model to data\n",
    "# calibrated_results = pyciemss.ensemble_calibrate(single_model_paths[1], single_solution_mapping, dataset, \n",
    "#                                                  data_mapping=single_data_mapping, num_iterations=num_iterations)\n",
    "# parameter_estimates = calibrated_results[\"inferred_parameters\"]\n",
    "# # print(parameter_estimates())\n",
    "\n",
    "# ## Sample the calibrated model\n",
    "# calibrated_ensemble_result = pyciemss.ensemble_sample(single_model_paths[1], single_solution_mapping, \n",
    "#                                                       end_time, logging_step_size, num_samples, \n",
    "#                                                       start_time=start_time, inferred_parameters=parameter_estimates)\n",
    "\n",
    "\n",
    "## Save results\n",
    "save_results_cdc_format(calibrated_ensemble_result, \"2021-07-19\", location, train_end_point).to_csv('ensemble1_forecast_0719.csv', index=False)\n",
    "\n",
    "## Display results\n",
    "# display(calibrated_ensemble_result['data'].head())\n",
    "schema = plot_results_and_data(calibrated_ensemble_result, dataset)\n",
    "# schema = plot_all_results(calibrated_ensemble_result)\n",
    "plots.save_schema(schema, \"_schema.json\")\n",
    "plots.ipy_display(schema, dpi=150)"
   ]
  },
  {
   "cell_type": "markdown",
   "id": "75281515-9356-45fc-bd5d-db0b05cf5032",
   "metadata": {},
   "source": [
    "### Model 3"
   ]
  },
  {
   "cell_type": "code",
   "execution_count": null,
   "id": "83f9b0c9-e5b4-411d-a50b-ffc2010a0858",
   "metadata": {},
   "outputs": [],
   "source": [
    "## Calibrate the model to data\n",
    "calibrated_results = pyciemss.ensemble_calibrate(single_model_paths[2], single_solution_mapping, dataset, \n",
    "                                                 data_mapping=single_data_mapping, num_iterations=num_iterations)\n",
    "parameter_estimates = calibrated_results[\"inferred_parameters\"]\n",
    "# print(parameter_estimates())\n",
    "\n",
    "## Sample the calibrated model\n",
    "calibrated_ensemble_result = pyciemss.ensemble_sample(single_model_paths[2], single_solution_mapping, \n",
    "                                                      end_time, logging_step_size, num_samples, \n",
    "                                                      start_time=start_time, inferred_parameters=parameter_estimates)\n",
    "\n",
    "## Save results\n",
    "# save_results_cdc_format(calibrated_ensemble_result, \"2021-07-19\", location).to_csv('ensemble1_forecast_0719.csv', index=False)\n",
    "\n",
    "## Display results\n",
    "# display(calibrated_ensemble_result['data'].head())\n",
    "schema = plot_results_and_data(calibrated_ensemble_result, dataset)\n",
    "# schema = plot_all_results(calibrated_ensemble_result)\n",
    "plots.save_schema(schema, \"_schema.json\")\n",
    "plots.ipy_display(schema, dpi=150)"
   ]
  },
  {
   "cell_type": "markdown",
   "id": "fbf0892d-5891-4b91-b7fa-1bcfbc0789f0",
   "metadata": {},
   "source": [
    "## (B) Calibrate an ensemble of multiple models"
   ]
  },
  {
   "cell_type": "code",
   "execution_count": null,
   "id": "ca111623-c661-4dc1-a34a-07e454dba0b5",
   "metadata": {},
   "outputs": [],
   "source": [
    "## Calibrate the model to data\n",
    "calibrated_results = pyciemss.ensemble_calibrate(model_paths, solution_mappings, dataset, \n",
    "                                                 data_mapping=data_mapping, num_iterations=num_iterations)\n",
    "parameter_estimates = calibrated_results[\"inferred_parameters\"]\n",
    "# print(parameter_estimates())\n",
    "\n",
    "## Sample the calibrated model\n",
    "ensemble_result = pyciemss.ensemble_sample(model_paths, solution_mappings, end_time, \n",
    "                                           logging_step_size, num_samples, start_time=start_time)\n",
    "\n",
    "## Save results\n",
    "save_results_cdc_format(calibrated_ensemble_result, \"2021-07-19\", location).to_csv('ensemble3_forecast_0719.csv', index=False)\n",
    "\n",
    "## Display results\n",
    "# display(ensemble_result['data'].head())\n",
    "schema = plot_results_and_data(calibrated_ensemble_result, dataset)\n",
    "# schema = plot_all_results(calibrated_ensemble_result)\n",
    "plots.save_schema(schema, \"_schema.json\")\n",
    "plots.ipy_display(schema, dpi=150)"
   ]
  },
  {
   "cell_type": "markdown",
   "id": "db1d1f93-4900-4b47-943b-633633c9ba2d",
   "metadata": {},
   "source": [
    "# (2) Forecast 2: 07/26/2021 - 08/23/2021"
   ]
  },
  {
   "cell_type": "code",
   "execution_count": null,
   "id": "34335bbe-53bf-4cd8-9e49-6ac47498671c",
   "metadata": {},
   "outputs": [],
   "source": [
    "dataset = get_data_between('2021-06-01', '2021-07-25')\n",
    "end_time = len(dataset) + 29.0"
   ]
  },
  {
   "cell_type": "markdown",
   "id": "d5d08996-06bc-4768-98e0-40341e63eae5",
   "metadata": {},
   "source": [
    "## (A) Calibrate an ensemble of a single model"
   ]
  },
  {
   "cell_type": "code",
   "execution_count": null,
   "id": "ed396959-1c8b-4b73-97ec-821a77177f57",
   "metadata": {},
   "outputs": [],
   "source": [
    "## Calibrate the model to data\n",
    "calibrated_results = pyciemss.ensemble_calibrate(single_model_paths[1], single_solution_mapping, dataset, \n",
    "                                                 data_mapping=single_data_mapping, num_iterations=num_iterations)\n",
    "parameter_estimates = calibrated_results[\"inferred_parameters\"]\n",
    "# print(parameter_estimates())\n",
    "\n",
    "## Sample the calibrated model\n",
    "calibrated_ensemble_result = pyciemss.ensemble_sample(single_model_paths[1], single_solution_mapping, \n",
    "                                                      end_time, logging_step_size, num_samples, \n",
    "                                                      start_time=start_time, inferred_parameters=parameter_estimates)\n",
    "\n",
    "## Save results\n",
    "save_results_cdc_format(calibrated_ensemble_result, \"2021-07-26\", location).to_csv('ensemble1_forecast_0726.csv', index=False)\n",
    "\n",
    "## Display results\n",
    "# display(calibrated_ensemble_result['data'].head())\n",
    "schema = plot_results_and_data(calibrated_ensemble_result, dataset)\n",
    "# schema = plot_all_results(calibrated_ensemble_result)\n",
    "plots.save_schema(schema, \"_schema.json\")\n",
    "plots.ipy_display(schema, dpi=150)"
   ]
  },
  {
   "cell_type": "markdown",
   "id": "623d7adf-7f49-469c-a387-b97eeea3cbdb",
   "metadata": {},
   "source": [
    "## (B) Calibrate an ensemble of multiple models"
   ]
  },
  {
   "cell_type": "code",
   "execution_count": null,
   "id": "e39739c0-f614-42c8-afb4-9bcae0255a62",
   "metadata": {},
   "outputs": [],
   "source": [
    "## Calibrate the model to data\n",
    "calibrated_results = pyciemss.ensemble_calibrate(model_paths, solution_mappings, dataset, \n",
    "                                                 data_mapping=data_mapping, num_iterations=num_iterations)\n",
    "parameter_estimates = calibrated_results[\"inferred_parameters\"]\n",
    "# print(parameter_estimates())\n",
    "\n",
    "## Sample the calibrated model\n",
    "ensemble_result = pyciemss.ensemble_sample(model_paths, solution_mappings, end_time, \n",
    "                                           logging_step_size, num_samples, start_time=start_time)\n",
    "\n",
    "## Save results\n",
    "save_results_cdc_format(calibrated_ensemble_result, \"2021-07-26\", location).to_csv('ensemble3_forecast_0726.csv', index=False)\n",
    "\n",
    "## Display results\n",
    "# display(ensemble_result['data'].head())\n",
    "schema = plot_results_and_data(calibrated_ensemble_result, dataset)\n",
    "# schema = plot_all_results(calibrated_ensemble_result)\n",
    "plots.save_schema(schema, \"_schema.json\")\n",
    "plots.ipy_display(schema, dpi=150)"
   ]
  },
  {
   "cell_type": "markdown",
   "id": "4b0e67a5-12fd-42b6-9915-22e11cbe3298",
   "metadata": {},
   "source": [
    "# (3) Forecast 3: 08/02/2021 - 08/30/2021"
   ]
  },
  {
   "cell_type": "code",
   "execution_count": null,
   "id": "e16af4f0-cc94-490e-bd34-429269355ada",
   "metadata": {},
   "outputs": [],
   "source": [
    "dataset = get_data_between('2021-06-01', '2021-08-01')\n",
    "end_time = len(dataset) + 29.0"
   ]
  },
  {
   "cell_type": "markdown",
   "id": "8f4dc822-c9fc-4831-8c60-d21c10afaca4",
   "metadata": {},
   "source": [
    "## (A) Calibrate an ensemble of a single model"
   ]
  },
  {
   "cell_type": "code",
   "execution_count": null,
   "id": "8c54c25c-1c5e-44cb-90c7-052dd8493a4c",
   "metadata": {},
   "outputs": [],
   "source": [
    "## Calibrate the model to data\n",
    "calibrated_results = pyciemss.ensemble_calibrate(single_model_paths[1], single_solution_mapping, dataset, \n",
    "                                                 data_mapping=single_data_mapping, num_iterations=num_iterations)\n",
    "parameter_estimates = calibrated_results[\"inferred_parameters\"]\n",
    "# print(parameter_estimates())\n",
    "\n",
    "## Sample the calibrated model\n",
    "calibrated_ensemble_result = pyciemss.ensemble_sample(single_model_paths[1], single_solution_mapping, \n",
    "                                                      end_time, logging_step_size, num_samples, \n",
    "                                                      start_time=start_time, inferred_parameters=parameter_estimates)\n",
    "\n",
    "## Save results\n",
    "save_results_cdc_format(calibrated_ensemble_result, \"2021-08-02\", location).to_csv('ensemble1_forecast_0802.csv', index=False)\n",
    "\n",
    "## Display results\n",
    "# display(calibrated_ensemble_result['data'].head())\n",
    "schema = plot_results_and_data(calibrated_ensemble_result, dataset)\n",
    "# schema = plot_all_results(calibrated_ensemble_result)\n",
    "plots.save_schema(schema, \"_schema.json\")\n",
    "plots.ipy_display(schema, dpi=150)"
   ]
  },
  {
   "cell_type": "markdown",
   "id": "99314248-9f18-4f92-aa3f-437fb45e0305",
   "metadata": {},
   "source": [
    "## (B) Calibrate an ensemble of multiple models"
   ]
  },
  {
   "cell_type": "code",
   "execution_count": null,
   "id": "91bb28f1-40d8-4b28-97f6-d03dd4a4d8f2",
   "metadata": {},
   "outputs": [],
   "source": [
    "## Calibrate the model to data\n",
    "calibrated_results = pyciemss.ensemble_calibrate(model_paths, solution_mappings, dataset, \n",
    "                                                 data_mapping=data_mapping, num_iterations=num_iterations)\n",
    "parameter_estimates = calibrated_results[\"inferred_parameters\"]\n",
    "# print(parameter_estimates())\n",
    "\n",
    "## Sample the calibrated model\n",
    "ensemble_result = pyciemss.ensemble_sample(model_paths, solution_mappings, end_time, \n",
    "                                           logging_step_size, num_samples, start_time=start_time)\n",
    "\n",
    "## Save results\n",
    "save_results_cdc_format(calibrated_ensemble_result, \"2021-08-02\", location).to_csv('ensemble3_forecast_0802.csv', index=False)\n",
    "\n",
    "## Display results\n",
    "# display(ensemble_result['data'].head())\n",
    "schema = plot_results_and_data(calibrated_ensemble_result, dataset)\n",
    "# schema = plot_all_results(calibrated_ensemble_result)\n",
    "plots.save_schema(schema, \"_schema.json\")\n",
    "plots.ipy_display(schema, dpi=150)"
   ]
  },
  {
   "cell_type": "markdown",
   "id": "0d0ec58c-fd80-4ff4-96ca-c2460926ba68",
   "metadata": {},
   "source": [
    "# (4) Forecast 4: 08/09/2021 - 09/06/2021"
   ]
  },
  {
   "cell_type": "code",
   "execution_count": null,
   "id": "e96f6f43-65eb-4a0c-9477-86e50eab7a06",
   "metadata": {},
   "outputs": [],
   "source": [
    "dataset = get_data_between('2021-06-01', '2021-08-08')\n",
    "end_time = len(dataset) + 29.0"
   ]
  },
  {
   "cell_type": "markdown",
   "id": "6734a752-cbee-49c5-99e2-e765e467a113",
   "metadata": {},
   "source": [
    "## (A) Calibrate an ensemble of a single model"
   ]
  },
  {
   "cell_type": "code",
   "execution_count": null,
   "id": "ddd67b4d-65bc-44b2-8cd4-d4f49dd527e6",
   "metadata": {},
   "outputs": [],
   "source": [
    "## Calibrate the model to data\n",
    "calibrated_results = pyciemss.ensemble_calibrate(single_model_paths[1], single_solution_mapping, dataset, \n",
    "                                                 data_mapping=single_data_mapping, num_iterations=num_iterations)\n",
    "parameter_estimates = calibrated_results[\"inferred_parameters\"]\n",
    "# print(parameter_estimates())\n",
    "\n",
    "## Sample the calibrated model\n",
    "calibrated_ensemble_result = pyciemss.ensemble_sample(single_model_paths[1], single_solution_mapping, \n",
    "                                                      end_time, logging_step_size, num_samples, \n",
    "                                                      start_time=start_time, inferred_parameters=parameter_estimates)\n",
    "\n",
    "## Save results\n",
    "save_results_cdc_format(calibrated_ensemble_result, \"2021-08-09\", location).to_csv('ensemble1_forecast_0809.csv', index=False)\n",
    "\n",
    "## Display results\n",
    "# display(calibrated_ensemble_result['data'].head())\n",
    "schema = plot_results_and_data(calibrated_ensemble_result, dataset)\n",
    "# schema = plot_all_results(calibrated_ensemble_result)\n",
    "plots.save_schema(schema, \"_schema.json\")\n",
    "plots.ipy_display(schema, dpi=150)"
   ]
  },
  {
   "cell_type": "markdown",
   "id": "8d9ebec7-d05f-4afa-a863-a821a55d6698",
   "metadata": {},
   "source": [
    "## (B) Calibrate an ensemble of multiple models"
   ]
  },
  {
   "cell_type": "code",
   "execution_count": null,
   "id": "ba584d12-3edc-40fd-9641-b73828024a74",
   "metadata": {},
   "outputs": [],
   "source": [
    "## Calibrate the model to data\n",
    "calibrated_results = pyciemss.ensemble_calibrate(model_paths, solution_mappings, dataset, \n",
    "                                                 data_mapping=data_mapping, num_iterations=num_iterations)\n",
    "parameter_estimates = calibrated_results[\"inferred_parameters\"]\n",
    "# print(parameter_estimates())\n",
    "\n",
    "## Sample the calibrated model\n",
    "ensemble_result = pyciemss.ensemble_sample(model_paths, solution_mappings, end_time, \n",
    "                                           logging_step_size, num_samples, start_time=start_time)\n",
    "\n",
    "## Save results\n",
    "save_results_cdc_format(calibrated_ensemble_result, \"2021-08-09\", location).to_csv('ensemble3_forecast_0809.csv', index=False)\n",
    "\n",
    "## Display results\n",
    "# display(ensemble_result['data'].head())\n",
    "schema = plot_results_and_data(calibrated_ensemble_result, dataset)\n",
    "# schema = plot_all_results(calibrated_ensemble_result)\n",
    "plots.save_schema(schema, \"_schema.json\")\n",
    "plots.ipy_display(schema, dpi=150)"
   ]
  },
  {
   "cell_type": "code",
   "execution_count": null,
   "id": "59423d67-92f8-480d-a416-ad8cb7b8554f",
   "metadata": {},
   "outputs": [],
   "source": []
  }
 ],
 "metadata": {
  "kernelspec": {
   "display_name": "Python 3 (ipykernel)",
   "language": "python",
   "name": "python3"
  },
  "language_info": {
   "codemirror_mode": {
    "name": "ipython",
    "version": 3
   },
   "file_extension": ".py",
   "mimetype": "text/x-python",
   "name": "python",
   "nbconvert_exporter": "python",
   "pygments_lexer": "ipython3",
   "version": "3.10.9"
  }
 },
 "nbformat": 4,
 "nbformat_minor": 5
}
