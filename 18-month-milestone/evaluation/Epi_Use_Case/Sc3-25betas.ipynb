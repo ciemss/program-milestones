{
 "cells": [
  {
   "cell_type": "markdown",
   "id": "4c7e0483-41e0-4935-bfc6-9553ea9245fc",
   "metadata": {},
   "source": [
    "# Scenario 3: Causal Reasoning with Interventions"
   ]
  },
  {
   "cell_type": "markdown",
   "id": "d3213dd8-d26e-4522-8a25-fdb849d466c6",
   "metadata": {},
   "source": [
    "### Load dependencies"
   ]
  },
  {
   "cell_type": "code",
   "execution_count": 1,
   "id": "6dd05596-43eb-4383-903c-0add7415c788",
   "metadata": {},
   "outputs": [],
   "source": [
    "import os\n",
    "import json\n",
    "import sympy\n",
    "import pyciemss\n",
    "import torch\n",
    "import pyro\n",
    "import pyro.distributions as dist\n",
    "\n",
    "import pyciemss.visuals.plots as plots\n",
    "import pyciemss.visuals.vega as vega\n",
    "import pyciemss.visuals.trajectories as trajectories\n",
    "\n",
    "from mira.metamodel import *\n",
    "from mira.examples.concepts import susceptible, exposed, infected, recovered\n",
    "from mira.modeling import Model\n",
    "from mira.modeling.amr.petrinet import AMRPetriNetModel, template_model_to_petrinet_json\n",
    "from mira.metamodel.io import model_to_json_file, model_from_json_file\n",
    "from pathlib import Path"
   ]
  },
  {
   "cell_type": "markdown",
   "id": "01856d6d-3a8a-47d0-a515-d27675b52634",
   "metadata": {
    "jp-MarkdownHeadingCollapsed": true
   },
   "source": [
    "## Build SEIR model"
   ]
  },
  {
   "cell_type": "code",
   "execution_count": 2,
   "id": "d16ed7e7-fb84-47de-9c36-5fca4efcf1d9",
   "metadata": {},
   "outputs": [],
   "source": [
    "# Define units\n",
    "person_units = lambda: Unit(expression=sympy.Symbol('person'))\n",
    "day_units = lambda: Unit(expression=sympy.Symbol('day'))\n",
    "per_day_units = lambda: Unit(expression=1/sympy.Symbol('day'))\n",
    "dimensionless_units = lambda: Unit(expression=sympy.Integer('1'))\n",
    "per_day_per_person_units = lambda: Unit(expression=1/(sympy.Symbol('day')*sympy.Symbol('person')))"
   ]
  },
  {
   "cell_type": "code",
   "execution_count": 3,
   "id": "4e48e5d9-198d-4d7f-8c6c-d108bc6d1e88",
   "metadata": {},
   "outputs": [],
   "source": [
    "# Define and stratify concepts\n",
    "_susceptible = Concept(name='S', units=person_units(), identifiers={'ido': '0000514'})\n",
    "_exposed = Concept(name='E', units=person_units(), identifiers={'apollosv': '00000154'})\n",
    "_infected = Concept(name='I', units=person_units(), identifiers={'ido': '0000511'})\n",
    "_recovered = Concept(name='R', units=person_units(), identifiers={'ido': '0000592'})\n",
    "\n",
    "c = {\n",
    "    'S_y': _susceptible.with_context(status=\"young\"),\n",
    "    'S_m': _susceptible.with_context(status=\"middle\"),\n",
    "    'S_o': _susceptible.with_context(status=\"young\"),\n",
    "    'E_y': _exposed.with_context(status=\"young\"),\n",
    "    'E_m': _exposed.with_context(status=\"middle\"),\n",
    "    'E_o': _exposed.with_context(status=\"old\"),\n",
    "    'I_y': _infected.with_context(status=\"young\"),\n",
    "    'I_m': _infected.with_context(status=\"middle\"),\n",
    "    'I_o': _infected.with_context(status=\"old\"),\n",
    "    'R_y': _recovered.with_context(status=\"young\"),\n",
    "    'R_m': _recovered.with_context(status=\"middle\"),\n",
    "    'R_o': _recovered.with_context(status=\"old\"),\n",
    "}\n",
    "c['S_y'].name = 'S_y'\n",
    "c['S_m'].name = 'S_m'\n",
    "c['S_o'].name = 'S_o'\n",
    "c['E_y'].name = 'E_y'\n",
    "c['E_m'].name = 'E_m'\n",
    "c['E_o'].name = 'E_o'\n",
    "c['I_y'].name = 'I_y'\n",
    "c['I_m'].name = 'I_m'\n",
    "c['I_o'].name = 'I_o'\n",
    "c['R_y'].name = 'R_y'\n",
    "c['R_m'].name = 'R_m'\n",
    "c['R_o'].name = 'R_o'"
   ]
  },
  {
   "cell_type": "code",
   "execution_count": 4,
   "id": "5ec6486f-5ab2-4f5e-a22b-e979821aa99b",
   "metadata": {},
   "outputs": [],
   "source": [
    "# Define parameters\n",
    "parameters = {\n",
    "    'beta': Parameter(name='beta', value=sympy.Float(0.2), units=per_day_units()),  # Infection rate\n",
    "    'N': Parameter(name='total_population', value=sympy.Float(37742307.0), units=per_day_units()),  # Total population\n",
    "    'mew': Parameter(name='mew', value=sympy.Float(0.0), units=per_day_units()),  # Mask efficacy\n",
    "    'mcw': Parameter(name='mcw', value=sympy.Float(0.0), units=per_day_units()),  # Mask compliance\n",
    "    'r_EI': Parameter(name='r_EI', value=sympy.Float(0.08), units=per_day_units()),  # Rate of progressing E -> I\n",
    "    'r_IR': Parameter(name='r_IR', value=sympy.Float(0.06), units=per_day_units()),  # Rate of progressing I -> R\n",
    "    'Myy': Parameter(name='Myy', value=sympy.Float(38.62), units=per_day_units()),  # Contact rate young -> young\n",
    "    'Mym': Parameter(name='Mym', value=sympy.Float(20.56), units=per_day_units()),  # Contact rate young -> middle\n",
    "    'Myo': Parameter(name='Myo', value=sympy.Float(6.12), units=per_day_units()),  # Contact rate young -> old\n",
    "    'Mmy': Parameter(name='Mmy', value=sympy.Float(20.56), units=per_day_units()),  # Contact rate middle -> young\n",
    "    'Mmm': Parameter(name='Mmm', value=sympy.Float(28.22), units=per_day_units()),  # Contact rate middle -> middle\n",
    "    'Mmo': Parameter(name='Mmo', value=sympy.Float(11.6), units=per_day_units()),  # Contact rate middle -> old\n",
    "    'Moy': Parameter(name='Moy', value=sympy.Float(6.12), units=per_day_units()),  # Contact rate old -> young\n",
    "    'Mom': Parameter(name='Mom', value=sympy.Float(11.6), units=per_day_units()),  # Contact rate old -> middle\n",
    "    'Moo': Parameter(name='Moo', value=sympy.Float(20.01), units=per_day_units()),  # Contact rate old -> old\n",
    "}"
   ]
  },
  {
   "cell_type": "code",
   "execution_count": 5,
   "id": "a55430ff-2071-4eb4-875b-b37fadbb82e9",
   "metadata": {},
   "outputs": [],
   "source": [
    "# Define variables\n",
    "S_y, S_m, S_o, E_y, E_m, E_o, I_y, I_m, I_o, R_y, R_m, R_o, beta, N, mew, mcw, r_EI, r_IR, Myy, Mym, Myo, Mmy, Mmm, Mmo, Moy, Mom, Moo = \\\n",
    "    sympy.symbols(\n",
    "        'S_y S_m S_o E_y E_m E_o I_y I_m I_o R_y R_m R_o beta N mew mcw r_EI r_IR Myy Mym Myo Mmy Mmm Mmo Moy Mom Moo'\n",
    "    )"
   ]
  },
  {
   "cell_type": "code",
   "execution_count": 6,
   "id": "1588b37f-4d2e-49f0-bf34-5e5bd1a4bbaa",
   "metadata": {},
   "outputs": [],
   "source": [
    "# Set initial values\n",
    "initials = {\n",
    "    \"S_y\": Initial(concept=Concept(name=\"S_y\"), expression=sympy.Float(10305660.0)),\n",
    "    \"S_m\": Initial(concept=Concept(name=\"S_m\"), expression=sympy.Float(15281905.0)),\n",
    "    \"S_o\": Initial(concept=Concept(name=\"S_o\"), expression=sympy.Float(12154442.0)),\n",
    "    \"E_y\": Initial(concept=Concept(name=\"E_y\"), expression=sympy.Float(50.0)),\n",
    "    \"E_m\": Initial(concept=Concept(name=\"E_m\"), expression=sympy.Float(50.0)),\n",
    "    \"E_o\": Initial(concept=Concept(name=\"E_o\"), expression=sympy.Float(50.0)),\n",
    "    \"I_y\": Initial(concept=Concept(name=\"I_y\"), expression=sympy.Float(50.0)),\n",
    "    \"I_m\": Initial(concept=Concept(name=\"I_m\"), expression=sympy.Float(50.0)),\n",
    "    \"I_o\": Initial(concept=Concept(name=\"I_o\"), expression=sympy.Float(50.0)),\n",
    "    \"R_y\": Initial(concept=Concept(name=\"R_y\"), expression=sympy.Float(0.0)),\n",
    "    \"R_m\": Initial(concept=Concept(name=\"R_m\"), expression=sympy.Float(0.0)),\n",
    "    \"R_o\": Initial(concept=Concept(name=\"R_o\"), expression=sympy.Float(0.0)),\n",
    "}"
   ]
  },
  {
   "cell_type": "code",
   "execution_count": 7,
   "id": "801dbe52-6329-4422-8350-f7e16ebf30ba",
   "metadata": {},
   "outputs": [],
   "source": [
    "# Define templates\n",
    "##### S -> E\n",
    "# Sy -> Ey by Iy\n",
    "syeyiy = ControlledConversion(\n",
    "    subject=c['S_y'],\n",
    "    outcome=c['E_y'],\n",
    "    controller=c['I_y'],\n",
    "    rate_law=beta*S_y*(1 - mew*mcw)*(Myy*I_y) / N\n",
    ")\n",
    "# Sy -> Ey by Im\n",
    "syeyim = ControlledConversion(\n",
    "    subject=c['S_y'],\n",
    "    outcome=c['E_y'],\n",
    "    controller=c['I_m'],\n",
    "    rate_law=beta*S_y*(1 - mew*mcw)*(Mym*I_m) / N\n",
    ")\n",
    "# Sy -> Ey by Io\n",
    "syeyio = ControlledConversion(\n",
    "    subject=c['S_y'],\n",
    "    outcome=c['E_y'],\n",
    "    controller=c['I_o'],\n",
    "    rate_law=beta*S_y*(1 - mew*mcw)*(Myo*I_o) / N\n",
    ")\n",
    "\n",
    "# Sm -> Em by Iy\n",
    "smemiy = ControlledConversion(\n",
    "    subject=c['S_m'],\n",
    "    outcome=c['E_m'],\n",
    "    controller=c['I_y'],\n",
    "    rate_law=beta*S_m*(1 - mew*mcw)*(Mmy*I_y) / N\n",
    ")\n",
    "# Sm -> Em by Im\n",
    "smemim = ControlledConversion(\n",
    "    subject=c['S_m'],\n",
    "    outcome=c['E_m'],\n",
    "    controller=c['I_m'],\n",
    "    rate_law=beta*S_m*(1 - mew*mcw)*(Mmm*I_m) / N\n",
    ")\n",
    "# Sm -> Em by Io\n",
    "smemio = ControlledConversion(\n",
    "    subject=c['S_m'],\n",
    "    outcome=c['E_m'],\n",
    "    controller=c['I_o'],\n",
    "    rate_law=beta*S_m*(1 - mew*mcw)*(Mmo*I_o) / N\n",
    ")\n",
    "\n",
    "# So -> Eo by Iy\n",
    "soeoiy = ControlledConversion(\n",
    "    subject=c['S_o'],\n",
    "    outcome=c['E_o'],\n",
    "    controller=c['I_y'],\n",
    "    rate_law=beta*S_o*(1 - mew*mcw)*(Moy*I_y) / N\n",
    ")\n",
    "# So -> Eo by Im\n",
    "soeoim = ControlledConversion(\n",
    "    subject=c['S_o'],\n",
    "    outcome=c['E_o'],\n",
    "    controller=c['I_m'],\n",
    "    rate_law=beta*S_o*(1 - mew*mcw)*(Mom*I_m) / N\n",
    ")\n",
    "# So -> Eo by Io\n",
    "soeoio = ControlledConversion(\n",
    "    subject=c['S_o'],\n",
    "    outcome=c['E_o'],\n",
    "    controller=c['I_o'],\n",
    "    rate_law=beta*S_o*(1 - mew*mcw)*(Moo*I_o) / N\n",
    ")\n",
    "\n",
    "#### E -> I\n",
    "# Ey -> Iy\n",
    "eyiy = NaturalConversion(\n",
    "    subject=c['E_y'],\n",
    "    outcome=c['I_y'],\n",
    "    rate_law=r_EI*E_y\n",
    ")\n",
    "# Em -> Im\n",
    "emim = NaturalConversion(\n",
    "    subject=c['E_m'],\n",
    "    outcome=c['I_m'],\n",
    "    rate_law=r_EI*E_m\n",
    ")\n",
    "# Eo -> Io\n",
    "eoio = NaturalConversion(\n",
    "    subject=c['E_o'],\n",
    "    outcome=c['I_o'],\n",
    "    rate_law=r_EI*E_o\n",
    ")\n",
    "\n",
    "#### I -> R\n",
    "# Iy -> Ry\n",
    "iyry = NaturalConversion(\n",
    "    subject=c['I_y'],\n",
    "    outcome=c['R_y'],\n",
    "    rate_law=r_IR*I_y\n",
    ")\n",
    "# Im -> Rm\n",
    "imrm = NaturalConversion(\n",
    "    subject=c['I_m'],\n",
    "    outcome=c['R_m'],\n",
    "    rate_law=r_IR*I_m\n",
    ")\n",
    "# Io -> Ro\n",
    "ioro = NaturalConversion(\n",
    "    subject=c['I_o'],\n",
    "    outcome=c['R_o'],\n",
    "    rate_law=r_IR*I_o\n",
    ")"
   ]
  },
  {
   "cell_type": "code",
   "execution_count": 8,
   "id": "55d35774-2fd4-4d8f-a1e5-2ae3c1328d81",
   "metadata": {},
   "outputs": [],
   "source": [
    "# Define template model\n",
    "seir_model = TemplateModel(\n",
    "    templates=[\n",
    "        syeyiy,\n",
    "        syeyim,\n",
    "        syeyio,\n",
    "        smemiy,\n",
    "        smemim,\n",
    "        smemio,\n",
    "        soeoiy,\n",
    "        soeoim,\n",
    "        soeoio,\n",
    "        eyiy,\n",
    "        emim,\n",
    "        eoio,\n",
    "        iyry,\n",
    "        imrm,\n",
    "        ioro,\n",
    "    ],\n",
    "    parameters=parameters,\n",
    "    initials=initials,\n",
    "    time=Time(name='t', units=day_units()),\n",
    "    annotations=Annotations(name='EPI EVAL Scenario 3')\n",
    ")\n",
    "\n",
    "# Save as JSON\n",
    "with open(\"SEIR_model.json\", 'w') as fh:\n",
    "    json.dump(template_model_to_petrinet_json(seir_model), fh, indent=1)\n",
    "\n",
    "# NOTE! Parameter distributions and observables added by HAND"
   ]
  },
  {
   "cell_type": "markdown",
   "id": "e4cdbd4e-1f5e-4be8-bbf5-8fe77baa0972",
   "metadata": {},
   "source": [
    "## Select and simulate SEIR model"
   ]
  },
  {
   "cell_type": "code",
   "execution_count": 2,
   "id": "02445246-c825-4810-979f-ed90b25f5cd0",
   "metadata": {},
   "outputs": [
    {
     "data": {
      "text/html": [
       "<div>\n",
       "<style scoped>\n",
       "    .dataframe tbody tr th:only-of-type {\n",
       "        vertical-align: middle;\n",
       "    }\n",
       "\n",
       "    .dataframe tbody tr th {\n",
       "        vertical-align: top;\n",
       "    }\n",
       "\n",
       "    .dataframe thead th {\n",
       "        text-align: right;\n",
       "    }\n",
       "</style>\n",
       "<table border=\"1\" class=\"dataframe\">\n",
       "  <thead>\n",
       "    <tr style=\"text-align: right;\">\n",
       "      <th></th>\n",
       "      <th>timepoint_id</th>\n",
       "      <th>sample_id</th>\n",
       "      <th>timepoint_unknown</th>\n",
       "      <th>persistent_beta_param</th>\n",
       "      <th>E_m_state</th>\n",
       "      <th>E_o_state</th>\n",
       "      <th>E_y_state</th>\n",
       "      <th>I_m_state</th>\n",
       "      <th>I_o_state</th>\n",
       "      <th>I_y_state</th>\n",
       "      <th>R_m_state</th>\n",
       "      <th>R_o_state</th>\n",
       "      <th>R_y_state</th>\n",
       "      <th>S_m_state</th>\n",
       "      <th>S_o_state</th>\n",
       "      <th>S_y_state</th>\n",
       "      <th>susceptible_observable_state</th>\n",
       "      <th>exposed_observable_state</th>\n",
       "      <th>infected_observable_state</th>\n",
       "      <th>recovered_observable_state</th>\n",
       "    </tr>\n",
       "  </thead>\n",
       "  <tbody>\n",
       "    <tr>\n",
       "      <th>0</th>\n",
       "      <td>0</td>\n",
       "      <td>0</td>\n",
       "      <td>10.0</td>\n",
       "      <td>0.277308</td>\n",
       "      <td>1.024360e+05</td>\n",
       "      <td>4.193165e+04</td>\n",
       "      <td>7.338473e+04</td>\n",
       "      <td>1.271934e+04</td>\n",
       "      <td>5.307462e+03</td>\n",
       "      <td>9.126413e+03</td>\n",
       "      <td>1.295349e+03</td>\n",
       "      <td>5.672813e+02</td>\n",
       "      <td>9.375847e+02</td>\n",
       "      <td>1.516555e+07</td>\n",
       "      <td>1.210674e+07</td>\n",
       "      <td>1.022231e+07</td>\n",
       "      <td>3.749460e+07</td>\n",
       "      <td>2.177524e+05</td>\n",
       "      <td>2.715322e+04</td>\n",
       "      <td>2.800215e+03</td>\n",
       "    </tr>\n",
       "    <tr>\n",
       "      <th>1</th>\n",
       "      <td>1</td>\n",
       "      <td>0</td>\n",
       "      <td>20.0</td>\n",
       "      <td>0.277308</td>\n",
       "      <td>1.033244e+07</td>\n",
       "      <td>6.261352e+06</td>\n",
       "      <td>7.058744e+06</td>\n",
       "      <td>2.244602e+06</td>\n",
       "      <td>1.127867e+06</td>\n",
       "      <td>1.567331e+06</td>\n",
       "      <td>3.155226e+05</td>\n",
       "      <td>1.434824e+05</td>\n",
       "      <td>2.229942e+05</td>\n",
       "      <td>2.389439e+06</td>\n",
       "      <td>4.621841e+06</td>\n",
       "      <td>1.456692e+06</td>\n",
       "      <td>8.467972e+06</td>\n",
       "      <td>2.365254e+07</td>\n",
       "      <td>4.939800e+06</td>\n",
       "      <td>6.819992e+05</td>\n",
       "    </tr>\n",
       "    <tr>\n",
       "      <th>2</th>\n",
       "      <td>2</td>\n",
       "      <td>0</td>\n",
       "      <td>30.0</td>\n",
       "      <td>0.277308</td>\n",
       "      <td>5.807176e+06</td>\n",
       "      <td>5.187424e+06</td>\n",
       "      <td>3.879749e+06</td>\n",
       "      <td>6.257908e+06</td>\n",
       "      <td>4.819712e+06</td>\n",
       "      <td>4.227388e+06</td>\n",
       "      <td>3.216917e+06</td>\n",
       "      <td>2.147278e+06</td>\n",
       "      <td>2.198624e+06</td>\n",
       "      <td>4.241291e-02</td>\n",
       "      <td>1.257454e+02</td>\n",
       "      <td>1.909757e-02</td>\n",
       "      <td>1.258069e+02</td>\n",
       "      <td>1.487435e+07</td>\n",
       "      <td>1.530501e+07</td>\n",
       "      <td>7.562819e+06</td>\n",
       "    </tr>\n",
       "    <tr>\n",
       "      <th>3</th>\n",
       "      <td>3</td>\n",
       "      <td>0</td>\n",
       "      <td>40.0</td>\n",
       "      <td>0.277308</td>\n",
       "      <td>2.609333e+06</td>\n",
       "      <td>2.330921e+06</td>\n",
       "      <td>1.743283e+06</td>\n",
       "      <td>5.745267e+06</td>\n",
       "      <td>4.709399e+06</td>\n",
       "      <td>3.863910e+06</td>\n",
       "      <td>6.927397e+06</td>\n",
       "      <td>5.114220e+06</td>\n",
       "      <td>4.698560e+06</td>\n",
       "      <td>3.125679e-12</td>\n",
       "      <td>6.909079e-05</td>\n",
       "      <td>1.329067e-12</td>\n",
       "      <td>6.909079e-05</td>\n",
       "      <td>6.683537e+06</td>\n",
       "      <td>1.431858e+07</td>\n",
       "      <td>1.674018e+07</td>\n",
       "    </tr>\n",
       "    <tr>\n",
       "      <th>4</th>\n",
       "      <td>4</td>\n",
       "      <td>0</td>\n",
       "      <td>50.0</td>\n",
       "      <td>0.277308</td>\n",
       "      <td>1.172448e+06</td>\n",
       "      <td>1.047350e+06</td>\n",
       "      <td>7.833081e+05</td>\n",
       "      <td>4.191402e+06</td>\n",
       "      <td>3.512118e+06</td>\n",
       "      <td>2.814265e+06</td>\n",
       "      <td>9.918150e+06</td>\n",
       "      <td>7.595072e+06</td>\n",
       "      <td>6.708188e+06</td>\n",
       "      <td>1.899293e-20</td>\n",
       "      <td>5.014651e-10</td>\n",
       "      <td>8.286765e-21</td>\n",
       "      <td>5.014651e-10</td>\n",
       "      <td>3.003106e+06</td>\n",
       "      <td>1.051778e+07</td>\n",
       "      <td>2.422141e+07</td>\n",
       "    </tr>\n",
       "  </tbody>\n",
       "</table>\n",
       "</div>"
      ],
      "text/plain": [
       "   timepoint_id  sample_id timepoint_unknown  persistent_beta_param  \\\n",
       "0             0          0              10.0               0.277308   \n",
       "1             1          0              20.0               0.277308   \n",
       "2             2          0              30.0               0.277308   \n",
       "3             3          0              40.0               0.277308   \n",
       "4             4          0              50.0               0.277308   \n",
       "\n",
       "      E_m_state     E_o_state     E_y_state     I_m_state     I_o_state  \\\n",
       "0  1.024360e+05  4.193165e+04  7.338473e+04  1.271934e+04  5.307462e+03   \n",
       "1  1.033244e+07  6.261352e+06  7.058744e+06  2.244602e+06  1.127867e+06   \n",
       "2  5.807176e+06  5.187424e+06  3.879749e+06  6.257908e+06  4.819712e+06   \n",
       "3  2.609333e+06  2.330921e+06  1.743283e+06  5.745267e+06  4.709399e+06   \n",
       "4  1.172448e+06  1.047350e+06  7.833081e+05  4.191402e+06  3.512118e+06   \n",
       "\n",
       "      I_y_state     R_m_state     R_o_state     R_y_state     S_m_state  \\\n",
       "0  9.126413e+03  1.295349e+03  5.672813e+02  9.375847e+02  1.516555e+07   \n",
       "1  1.567331e+06  3.155226e+05  1.434824e+05  2.229942e+05  2.389439e+06   \n",
       "2  4.227388e+06  3.216917e+06  2.147278e+06  2.198624e+06  4.241291e-02   \n",
       "3  3.863910e+06  6.927397e+06  5.114220e+06  4.698560e+06  3.125679e-12   \n",
       "4  2.814265e+06  9.918150e+06  7.595072e+06  6.708188e+06  1.899293e-20   \n",
       "\n",
       "      S_o_state     S_y_state  susceptible_observable_state  \\\n",
       "0  1.210674e+07  1.022231e+07                  3.749460e+07   \n",
       "1  4.621841e+06  1.456692e+06                  8.467972e+06   \n",
       "2  1.257454e+02  1.909757e-02                  1.258069e+02   \n",
       "3  6.909079e-05  1.329067e-12                  6.909079e-05   \n",
       "4  5.014651e-10  8.286765e-21                  5.014651e-10   \n",
       "\n",
       "   exposed_observable_state  infected_observable_state  \\\n",
       "0              2.177524e+05               2.715322e+04   \n",
       "1              2.365254e+07               4.939800e+06   \n",
       "2              1.487435e+07               1.530501e+07   \n",
       "3              6.683537e+06               1.431858e+07   \n",
       "4              3.003106e+06               1.051778e+07   \n",
       "\n",
       "   recovered_observable_state  \n",
       "0                2.800215e+03  \n",
       "1                6.819992e+05  \n",
       "2                7.562819e+06  \n",
       "3                1.674018e+07  \n",
       "4                2.422141e+07  "
      ]
     },
     "metadata": {},
     "output_type": "display_data"
    }
   ],
   "source": [
    "model1 = \"SEIR_model.json\"\n",
    "start_time = 0.0\n",
    "end_time = 150.0\n",
    "logging_step_size = 10.0\n",
    "num_samples = 100\n",
    "\n",
    "result1 = pyciemss.sample(model1, end_time, logging_step_size, num_samples, start_time=start_time)\n",
    "display(result1['data'].head())\n",
    "\n",
    "# Plot results for all states\n",
    "schema = plots.trajectories(result1[\"data\"], keep=\".*observable_state\")\n",
    "plots.save_schema(schema, \"_schema.json\")"
   ]
  },
  {
   "cell_type": "code",
   "execution_count": 3,
   "id": "486693fa-0e0e-47a9-9c58-5842131b8710",
   "metadata": {},
   "outputs": [
    {
     "data": {
      "image/png": "[encoded data removed]",
      "text/plain": [
       "<IPython.core.display.Image object>"
      ]
     },
     "execution_count": 3,
     "metadata": {},
     "output_type": "execute_result"
    }
   ],
   "source": [
    "plots.ipy_display(schema)"
   ]
  },
  {
   "cell_type": "code",
   "execution_count": 44,
   "id": "ff804ad7-b4e3-4c4a-9c99-b77de80a69f2",
   "metadata": {},
   "outputs": [
    {
     "data": {
      "image/png": "[encoded data removed]",
      "text/plain": [
       "<Figure size 640x480 with 1 Axes>"
      ]
     },
     "metadata": {},
     "output_type": "display_data"
    }
   ],
   "source": [
    "## Load required data\n",
    "import pandas as pd\n",
    "dataset = pd.read_csv(\"./Scenario 3 Supplementary/S3SimulationRuns.csv\")\n",
    "run_n = dataset[dataset.run==1].drop(['run',\n",
    "                                      'R1','R2','R3',\n",
    "                                      'S1','S2','S3',\n",
    "                                      'E1','E2','E3'],axis=1)\n",
    "y = [\"_y\",\"_m\",\"_o\"]\n",
    "x = {\"time\":\"Timestamp\"}\n",
    "x|= {\"S\"+str(i+1):\"S\"+y[i] for i in range(3)}\n",
    "x|= {\"E\"+str(i+1):\"E\"+y[i] for i in range(3)}\n",
    "x|= {\"I\"+str(i+1):\"I\"+y[i] for i in range(3)}\n",
    "x|= {\"R\"+str(i+1):\"R\"+y[i] for i in range(3)}\n",
    "run_n = run_n.rename(columns=x)\n",
    "# run_n['I_sum'] = run_n.apply(lambda row: row.I_y+row.I_m+row.I_o, axis=1)\n",
    "\n",
    "## Recreate the Scenario Figure (mostly)\n",
    "agegroup = \"1\"\n",
    "import seaborn as sns\n",
    "import matplotlib.pyplot as plt\n",
    "fig, ax = plt.subplots()\n",
    "sns.lineplot(data=dataset.pivot(index=\"time\", columns=\"run\", values=\"S\"+agegroup),\n",
    "             palette='Greys', alpha=.7, ax=ax)\n",
    "sns.lineplot(data=dataset.pivot(index=\"time\", columns=\"run\", values=\"E\"+agegroup),\n",
    "             palette='Greens', alpha=.7, ax=ax)\n",
    "sns.lineplot(data=dataset.pivot(index=\"time\", columns=\"run\", values=\"I\"+agegroup),\n",
    "             palette='Blues', alpha=.7, ax=ax)\n",
    "sns.lineplot(data=dataset.pivot(index=\"time\", columns=\"run\", values=\"R\"+agegroup),\n",
    "             palette='YlOrBr', alpha=.7, ax=ax)\n",
    "ax.get_legend().remove()"
   ]
  },
  {
   "cell_type": "code",
   "execution_count": 45,
   "id": "aa9f3b43-23a0-4106-81a4-115ae42681fd",
   "metadata": {},
   "outputs": [
    {
     "data": {
      "text/html": [
       "<div>\n",
       "<style scoped>\n",
       "    .dataframe tbody tr th:only-of-type {\n",
       "        vertical-align: middle;\n",
       "    }\n",
       "\n",
       "    .dataframe tbody tr th {\n",
       "        vertical-align: top;\n",
       "    }\n",
       "\n",
       "    .dataframe thead th {\n",
       "        text-align: right;\n",
       "    }\n",
       "</style>\n",
       "<table border=\"1\" class=\"dataframe\">\n",
       "  <thead>\n",
       "    <tr style=\"text-align: right;\">\n",
       "      <th></th>\n",
       "      <th>Timestamp</th>\n",
       "      <th>I_y</th>\n",
       "      <th>I_m</th>\n",
       "      <th>I_o</th>\n",
       "    </tr>\n",
       "  </thead>\n",
       "  <tbody>\n",
       "    <tr>\n",
       "      <th>0</th>\n",
       "      <td>0</td>\n",
       "      <td>50.000000</td>\n",
       "      <td>50.000000</td>\n",
       "      <td>50.000000</td>\n",
       "    </tr>\n",
       "    <tr>\n",
       "      <th>1</th>\n",
       "      <td>1</td>\n",
       "      <td>54.768440</td>\n",
       "      <td>56.236214</td>\n",
       "      <td>53.504963</td>\n",
       "    </tr>\n",
       "    <tr>\n",
       "      <th>2</th>\n",
       "      <td>2</td>\n",
       "      <td>67.125439</td>\n",
       "      <td>73.025243</td>\n",
       "      <td>62.006228</td>\n",
       "    </tr>\n",
       "    <tr>\n",
       "      <th>3</th>\n",
       "      <td>3</td>\n",
       "      <td>88.079043</td>\n",
       "      <td>101.792736</td>\n",
       "      <td>76.032978</td>\n",
       "    </tr>\n",
       "    <tr>\n",
       "      <th>4</th>\n",
       "      <td>4</td>\n",
       "      <td>119.905323</td>\n",
       "      <td>145.741121</td>\n",
       "      <td>96.857405</td>\n",
       "    </tr>\n",
       "    <tr>\n",
       "      <th>...</th>\n",
       "      <td>...</td>\n",
       "      <td>...</td>\n",
       "      <td>...</td>\n",
       "      <td>...</td>\n",
       "    </tr>\n",
       "    <tr>\n",
       "      <th>146</th>\n",
       "      <td>146</td>\n",
       "      <td>93899.681247</td>\n",
       "      <td>143757.159315</td>\n",
       "      <td>190702.985551</td>\n",
       "    </tr>\n",
       "    <tr>\n",
       "      <th>147</th>\n",
       "      <td>147</td>\n",
       "      <td>88749.605594</td>\n",
       "      <td>135880.603903</td>\n",
       "      <td>180558.121568</td>\n",
       "    </tr>\n",
       "    <tr>\n",
       "      <th>148</th>\n",
       "      <td>148</td>\n",
       "      <td>83874.991837</td>\n",
       "      <td>128424.684284</td>\n",
       "      <td>170931.516318</td>\n",
       "    </tr>\n",
       "    <tr>\n",
       "      <th>149</th>\n",
       "      <td>149</td>\n",
       "      <td>79261.677800</td>\n",
       "      <td>121367.829646</td>\n",
       "      <td>161798.477581</td>\n",
       "    </tr>\n",
       "    <tr>\n",
       "      <th>150</th>\n",
       "      <td>150</td>\n",
       "      <td>74896.181604</td>\n",
       "      <td>114689.500549</td>\n",
       "      <td>153135.335506</td>\n",
       "    </tr>\n",
       "  </tbody>\n",
       "</table>\n",
       "<p>151 rows × 4 columns</p>\n",
       "</div>"
      ],
      "text/plain": [
       "     Timestamp           I_y            I_m            I_o\n",
       "0            0     50.000000      50.000000      50.000000\n",
       "1            1     54.768440      56.236214      53.504963\n",
       "2            2     67.125439      73.025243      62.006228\n",
       "3            3     88.079043     101.792736      76.032978\n",
       "4            4    119.905323     145.741121      96.857405\n",
       "..         ...           ...            ...            ...\n",
       "146        146  93899.681247  143757.159315  190702.985551\n",
       "147        147  88749.605594  135880.603903  180558.121568\n",
       "148        148  83874.991837  128424.684284  170931.516318\n",
       "149        149  79261.677800  121367.829646  161798.477581\n",
       "150        150  74896.181604  114689.500549  153135.335506\n",
       "\n",
       "[151 rows x 4 columns]"
      ]
     },
     "metadata": {},
     "output_type": "display_data"
    }
   ],
   "source": [
    "display(run_n)"
   ]
  },
  {
   "cell_type": "code",
   "execution_count": 46,
   "id": "8aadea0f-920d-44b4-999c-64b0561847df",
   "metadata": {},
   "outputs": [
    {
     "name": "stderr",
     "output_type": "stream",
     "text": [
      "/Users/krue284/Local Files/pyciemss/pyciemss/integration_utils/observation.py:49: FutureWarning: DataFrame.applymap has been deprecated. Use DataFrame.map instead.\n",
      "  if not data_df.applymap(lambda x: isinstance(x, (int, float))).all().all():\n"
     ]
    },
    {
     "name": "stdout",
     "output_type": "stream",
     "text": [
      "Data printout: This dataset contains 150 rows of data. The first column, Timestamp, begins at 0 and ends at 150. The subsequent columns are named: I_y, I_m, I_o\n",
      "CPU times: user 12min 39s, sys: 12.4 s, total: 12min 52s\n",
      "Wall time: 12min 53s\n"
     ]
    },
    {
     "data": {
      "text/plain": [
       "{'persistent_beta': tensor(0.1413, grad_fn=<ExpandBackward0>)}"
      ]
     },
     "execution_count": 46,
     "metadata": {},
     "output_type": "execute_result"
    }
   ],
   "source": [
    "num_iterations = 100\n",
    "data_mapping = {\"I_y\": \"I_y\",\"I_m\":\"I_m\",\"I_o\":\"I_o\"}\n",
    "# data_mapping = {\"I_sum\":\"infected_observable_state\"}\n",
    "%time calibrated_results = pyciemss.calibrate(model1, run_n, data_mapping=data_mapping, num_iterations=num_iterations)\n",
    "parameter_estimates = calibrated_results[\"inferred_parameters\"]\n",
    "parameter_estimates()"
   ]
  },
  {
   "cell_type": "code",
   "execution_count": 48,
   "id": "9872d019-7f4c-4039-9c4b-a0d9a5113a28",
   "metadata": {},
   "outputs": [
    {
     "name": "stdout",
     "output_type": "stream",
     "text": [
      "\n"
     ]
    },
    {
     "data": {
      "application/vnd.vega.v5+json": {
       "$schema": "https://vega.github.io/schema/vega/v5.json",
       "axes": [
        {
         "name": "x_axis",
         "orient": "bottom",
         "scale": "xscale",
         "zindex": 100
        },
        {
         "name": "y_axis",
         "orient": "left",
         "scale": "yscale",
         "zindex": 100
        }
       ],
       "data": [
        {
         "name": "distributions",
         "transform": [
          {
           "sort": {
            "field": [
             "trajectory",
             "timepoint"
            ]
           },
           "type": "collect"
          }
         ],
         "values": [
          {
           "lower": 1462.9581237792968,
           "timepoint": 5,
           "trajectory": "E_m_state",
           "upper": 1625.2714538574219
          },
          {
           "lower": 10352.749072265626,
           "timepoint": 10,
           "trajectory": "E_m_state",
           "upper": 12377.735546875
          },
          {
           "lower": 71527.6609375,
           "timepoint": 15,
           "trajectory": "E_m_state",
           "upper": 92061.77773437499
          },
          {
           "lower": 481990.915625,
           "timepoint": 20,
           "trajectory": "E_m_state",
           "upper": 662206.709375
          },
          {
           "lower": 2821879.3625,
           "timepoint": 25,
           "trajectory": "E_m_state",
           "upper": 3878690.85
          },
          {
           "lower": 8605146.55,
           "timepoint": 30,
           "trajectory": "E_m_state",
           "upper": 9504523
          },
          {
           "lower": 7909794,
           "timepoint": 35,
           "trajectory": "E_m_state",
           "upper": 8545057.95
          },
          {
           "lower": 5327585.7,
           "timepoint": 40,
           "trajectory": "E_m_state",
           "upper": 5828194.55
          },
          {
           "lower": 3571272.7125,
           "timepoint": 45,
           "trajectory": "E_m_state",
           "upper": 3907362.65
          },
          {
           "lower": 2393894.6125,
           "timepoint": 50,
           "trajectory": "E_m_state",
           "upper": 2619188.275
          },
          {
           "lower": 1604676.14375,
           "timepoint": 55,
           "trajectory": "E_m_state",
           "upper": 1755690.84375
          },
          {
           "lower": 1075646.53125,
           "timepoint": 60,
           "trajectory": "E_m_state",
           "upper": 1176876.14375
          },
          {
           "lower": 721027.265625,
           "timepoint": 65,
           "trajectory": "E_m_state",
           "upper": 788883.53125
          },
          {
           "lower": 483319.0375,
           "timepoint": 70,
           "trajectory": "E_m_state",
           "upper": 528804.128125
          },
          {
           "lower": 323978.421875,
           "timepoint": 75,
           "trajectory": "E_m_state",
           "upper": 354468.1703125
          },
          {
           "lower": 217169.28984375,
           "timepoint": 80,
           "trajectory": "E_m_state",
           "upper": 237607.15390625
          },
          {
           "lower": 145572.9265625,
           "timepoint": 85,
           "trajectory": "E_m_state",
           "upper": 159272.80703125
          },
          {
           "lower": 97580.50625,
           "timepoint": 90,
           "trajectory": "E_m_state",
           "upper": 106763.75390625
          },
          {
           "lower": 65410.1322265625,
           "timepoint": 95,
           "trajectory": "E_m_state",
           "upper": 71565.88828125
          },
          {
           "lower": 43845.7236328125,
           "timepoint": 100,
           "trajectory": "E_m_state",
           "upper": 47972.0482421875
          },
          {
           "lower": 29390.66806640625,
           "timepoint": 105,
           "trajectory": "E_m_state",
           "upper": 32156.62724609375
          },
          {
           "lower": 19701.161328125,
           "timepoint": 110,
           "trajectory": "E_m_state",
           "upper": 21555.218359375
          },
          {
           "lower": 13206.079150390626,
           "timepoint": 115,
           "trajectory": "E_m_state",
           "upper": 14448.904248046874
          },
          {
           "lower": 8852.29453125,
           "timepoint": 120,
           "trajectory": "E_m_state",
           "upper": 9685.3900390625
          },
          {
           "lower": 5933.8729248046875,
           "timepoint": 125,
           "trajectory": "E_m_state",
           "upper": 6492.31162109375
          },
          {
           "lower": 3977.5953125,
           "timepoint": 130,
           "trajectory": "E_m_state",
           "upper": 4351.928002929688
          },
          {
           "lower": 2666.2611328125,
           "timepoint": 135,
           "trajectory": "E_m_state",
           "upper": 2917.1836669921877
          },
          {
           "lower": 1787.2489501953125,
           "timepoint": 140,
           "trajectory": "E_m_state",
           "upper": 1955.446466064453
          },
          {
           "lower": 1198.0285400390626,
           "timepoint": 145,
           "trajectory": "E_m_state",
           "upper": 1310.7750427246094
          },
          {
           "lower": 686.5164825439454,
           "timepoint": 5,
           "trajectory": "E_o_state",
           "upper": 757.9437805175781
          },
          {
           "lower": 4371.221166992187,
           "timepoint": 10,
           "trajectory": "E_o_state",
           "upper": 5206.141064453125
          },
          {
           "lower": 29204.93642578125,
           "timepoint": 15,
           "trajectory": "E_o_state",
           "upper": 37539.003125
          },
          {
           "lower": 196520.9875,
           "timepoint": 20,
           "trajectory": "E_o_state",
           "upper": 270930.41875
          },
          {
           "lower": 1219468.2375,
           "timepoint": 25,
           "trajectory": "E_o_state",
           "upper": 1729010.05
          },
          {
           "lower": 4879876.8,
           "timepoint": 30,
           "trajectory": "E_o_state",
           "upper": 5996413.175
          },
          {
           "lower": 7045300.1,
           "timepoint": 35,
           "trajectory": "E_o_state",
           "upper": 7212005.7
          },
          {
           "lower": 5035011.65,
           "timepoint": 40,
           "trajectory": "E_o_state",
           "upper": 5516898.55
          },
          {
           "lower": 3385398.4875,
           "timepoint": 45,
           "trajectory": "E_o_state",
           "upper": 3731793.7875
          },
          {
           "lower": 2269546.1125,
           "timepoint": 50,
           "trajectory": "E_o_state",
           "upper": 2502538.075
          },
          {
           "lower": 1521327.2,
           "timepoint": 55,
           "trajectory": "E_o_state",
           "upper": 1677536.125
          },
          {
           "lower": 1019776.81875,
           "timepoint": 60,
           "trajectory": "E_o_state",
           "upper": 1124486.91875
          },
          {
           "lower": 683577.021875,
           "timepoint": 65,
           "trajectory": "E_o_state",
           "upper": 753766.31875
          },
          {
           "lower": 458214.8390625,
           "timepoint": 70,
           "trajectory": "E_o_state",
           "upper": 505264.4265625
          },
          {
           "lower": 307150.946875,
           "timepoint": 75,
           "trajectory": "E_o_state",
           "upper": 338689.209375
          },
          {
           "lower": 205889.421875,
           "timepoint": 80,
           "trajectory": "E_o_state",
           "upper": 227030.0140625
          },
          {
           "lower": 138011.8046875,
           "timepoint": 85,
           "trajectory": "E_o_state",
           "upper": 152182.78359375
          },
          {
           "lower": 92512.070703125,
           "timepoint": 90,
           "trajectory": "E_o_state",
           "upper": 102011.166796875
          },
          {
           "lower": 62012.6986328125,
           "timepoint": 95,
           "trajectory": "E_o_state",
           "upper": 68380.13828125
          },
          {
           "lower": 41568.3576171875,
           "timepoint": 100,
           "trajectory": "E_o_state",
           "upper": 45836.5767578125
          },
          {
           "lower": 27864.1017578125,
           "timepoint": 105,
           "trajectory": "E_o_state",
           "upper": 30725.17431640625
          },
          {
           "lower": 18677.85478515625,
           "timepoint": 110,
           "trajectory": "E_o_state",
           "upper": 20595.708203125
          },
          {
           "lower": 12520.1490234375,
           "timepoint": 115,
           "trajectory": "E_o_state",
           "upper": 13805.71240234375
          },
          {
           "lower": 8392.505810546874,
           "timepoint": 120,
           "trajectory": "E_o_state",
           "upper": 9254.2533203125
          },
          {
           "lower": 5625.6666015625,
           "timepoint": 125,
           "trajectory": "E_o_state",
           "upper": 6203.3070068359375
          },
          {
           "lower": 3770.9939208984374,
           "timepoint": 130,
           "trajectory": "E_o_state",
           "upper": 4158.200634765625
          },
          {
           "lower": 2527.7748291015623,
           "timepoint": 135,
           "trajectory": "E_o_state",
           "upper": 2787.325305175781
          },
          {
           "lower": 1694.4178588867187,
           "timepoint": 140,
           "trajectory": "E_o_state",
           "upper": 1868.4004272460938
          },
          {
           "lower": 1135.8024108886718,
           "timepoint": 145,
           "trajectory": "E_o_state",
           "upper": 1252.4263000488281
          },
          {
           "lower": 1064.333514404297,
           "timepoint": 5,
           "trajectory": "E_y_state",
           "upper": 1180.8987060546874
          },
          {
           "lower": 7423.357690429688,
           "timepoint": 10,
           "trajectory": "E_y_state",
           "upper": 8873.174755859374
          },
          {
           "lower": 51253.496484375,
           "timepoint": 15,
           "trajectory": "E_y_state",
           "upper": 65970.04765625
          },
          {
           "lower": 345282.625,
           "timepoint": 20,
           "trajectory": "E_y_state",
           "upper": 474159.7015625
          },
          {
           "lower": 2005423.775,
           "timepoint": 25,
           "trajectory": "E_y_state",
           "upper": 2744919.925
          },
          {
           "lower": 5914764.225,
           "timepoint": 30,
           "trajectory": "E_y_state",
           "upper": 6464425.725
          },
          {
           "lower": 5265752.9,
           "timepoint": 35,
           "trajectory": "E_y_state",
           "upper": 5696875.075
          },
          {
           "lower": 3543438.35,
           "timepoint": 40,
           "trajectory": "E_y_state",
           "upper": 3874313.8625
          },
          {
           "lower": 2375279.7125,
           "timepoint": 45,
           "trajectory": "E_y_state",
           "upper": 2597339.5875
          },
          {
           "lower": 1592196.96875,
           "timepoint": 50,
           "trajectory": "E_y_state",
           "upper": 1741050.7375
          },
          {
           "lower": 1067282.29375,
           "timepoint": 55,
           "trajectory": "E_y_state",
           "upper": 1167060.38125
          },
          {
           "lower": 715420.684375,
           "timepoint": 60,
           "trajectory": "E_y_state",
           "upper": 782304.465625
          },
          {
           "lower": 479560.8015625,
           "timepoint": 65,
           "trajectory": "E_y_state",
           "upper": 524394.325
          },
          {
           "lower": 321459.33125,
           "timepoint": 70,
           "trajectory": "E_y_state",
           "upper": 351511.8328125
          },
          {
           "lower": 215480.64921875,
           "timepoint": 75,
           "trajectory": "E_y_state",
           "upper": 235625.51953125
          },
          {
           "lower": 144440.96953125,
           "timepoint": 80,
           "trajectory": "E_y_state",
           "upper": 157944.54140625
          },
          {
           "lower": 96821.6796875,
           "timepoint": 85,
           "trajectory": "E_y_state",
           "upper": 105873.384765625
          },
          {
           "lower": 64901.5212890625,
           "timepoint": 90,
           "trajectory": "E_y_state",
           "upper": 70969.018359375
          },
          {
           "lower": 43504.783203125,
           "timepoint": 95,
           "trajectory": "E_y_state",
           "upper": 47571.980078125
          },
          {
           "lower": 29162.1283203125,
           "timepoint": 100,
           "trajectory": "E_y_state",
           "upper": 31888.45732421875
          },
          {
           "lower": 19547.95966796875,
           "timepoint": 105,
           "trajectory": "E_y_state",
           "upper": 21375.46962890625
          },
          {
           "lower": 13103.3978515625,
           "timepoint": 110,
           "trajectory": "E_y_state",
           "upper": 14328.405224609374
          },
          {
           "lower": 8783.464599609375,
           "timepoint": 115,
           "trajectory": "E_y_state",
           "upper": 9604.6177734375
          },
          {
           "lower": 5887.73486328125,
           "timepoint": 120,
           "trajectory": "E_y_state",
           "upper": 6438.169995117188
          },
          {
           "lower": 3946.66533203125,
           "timepoint": 125,
           "trajectory": "E_y_state",
           "upper": 4315.633374023438
          },
          {
           "lower": 2645.5284057617187,
           "timepoint": 130,
           "trajectory": "E_y_state",
           "upper": 2892.854443359375
          },
          {
           "lower": 1773.3509155273437,
           "timepoint": 135,
           "trajectory": "E_y_state",
           "upper": 1939.1391052246095
          },
          {
           "lower": 1188.7134948730468,
           "timepoint": 140,
           "trajectory": "E_y_state",
           "upper": 1299.8437805175781
          },
          {
           "lower": 796.8179656982422,
           "timepoint": 145,
           "trajectory": "E_y_state",
           "upper": 871.31142578125
          },
          {
           "lower": 251.99240341186524,
           "timepoint": 5,
           "trajectory": "I_m_state",
           "upper": 271.12913513183594
          },
          {
           "lower": 1835.3832275390625,
           "timepoint": 10,
           "trajectory": "I_m_state",
           "upper": 2125.3037719726562
          },
          {
           "lower": 12811.1298828125,
           "timepoint": 15,
           "trajectory": "I_m_state",
           "upper": 15966.243945312499
          },
          {
           "lower": 87516.995703125,
           "timepoint": 20,
           "trajectory": "I_m_state",
           "upper": 116932.1796875
          },
          {
           "lower": 553169.5,
           "timepoint": 25,
           "trajectory": "I_m_state",
           "upper": 765210.7875
          },
          {
           "lower": 2424187.075,
           "timepoint": 30,
           "trajectory": "I_m_state",
           "upper": 3040311.275
          },
          {
           "lower": 4976172.95,
           "timepoint": 35,
           "trajectory": "I_m_state",
           "upper": 5385471.225
          },
          {
           "lower": 6128696,
           "timepoint": 40,
           "trajectory": "I_m_state",
           "upper": 6228725.575
          },
          {
           "lower": 6116722.75,
           "timepoint": 45,
           "trajectory": "I_m_state",
           "upper": 6183966.175
          },
          {
           "lower": 5538463.875,
           "timepoint": 50,
           "trajectory": "I_m_state",
           "upper": 5683037.275
          },
          {
           "lower": 4778035.925,
           "timepoint": 55,
           "trajectory": "I_m_state",
           "upper": 4948697.7
          },
          {
           "lower": 3992171.8875,
           "timepoint": 60,
           "trajectory": "I_m_state",
           "upper": 4161174.1125
          },
          {
           "lower": 3260798.4375,
           "timepoint": 65,
           "trajectory": "I_m_state",
           "upper": 3414544.675
          },
          {
           "lower": 2618982.675,
           "timepoint": 70,
           "trajectory": "I_m_state",
           "upper": 2752017.375
          },
          {
           "lower": 2076482.0625,
           "timepoint": 75,
           "trajectory": "I_m_state",
           "upper": 2187861.4875
          },
          {
           "lower": 1629655.66875,
           "timepoint": 80,
           "trajectory": "I_m_state",
           "upper": 1720765.90625
          },
          {
           "lower": 1268518.88125,
           "timepoint": 85,
           "trajectory": "I_m_state",
           "upper": 1341777.875
          },
          {
           "lower": 980792.575,
           "timepoint": 90,
           "trajectory": "I_m_state",
           "upper": 1038926.95625
          },
          {
           "lower": 754105.921875,
           "timepoint": 95,
           "trajectory": "I_m_state",
           "upper": 799762.9875
          },
          {
           "lower": 577100.55625,
           "timepoint": 100,
           "trajectory": "I_m_state",
           "upper": 612660.06875
          },
          {
           "lower": 439890.7765625,
           "timepoint": 105,
           "trajectory": "I_m_state",
           "upper": 467397.4953125
          },
          {
           "lower": 334166.8671875,
           "timepoint": 110,
           "trajectory": "I_m_state",
           "upper": 355324.334375
          },
          {
           "lower": 253112.665625,
           "timepoint": 115,
           "trajectory": "I_m_state",
           "upper": 269309.303125
          },
          {
           "lower": 191234.35546875,
           "timepoint": 120,
           "trajectory": "I_m_state",
           "upper": 203583.63828125
          },
          {
           "lower": 144166.30234375,
           "timepoint": 125,
           "trajectory": "I_m_state",
           "upper": 153549.74140625
          },
          {
           "lower": 108474.348828125,
           "timepoint": 130,
           "trajectory": "I_m_state",
           "upper": 115583.30078125
          },
          {
           "lower": 81481.415625,
           "timepoint": 135,
           "trajectory": "I_m_state",
           "upper": 86853.389453125
          },
          {
           "lower": 61114.7658203125,
           "timepoint": 140,
           "trajectory": "I_m_state",
           "upper": 65165.1697265625
          },
          {
           "lower": 45778.9337890625,
           "timepoint": 145,
           "trajectory": "I_m_state",
           "upper": 48826.987109375
          },
          {
           "lower": 145.78315048217775,
           "timepoint": 5,
           "trajectory": "I_o_state",
           "upper": 154.4960624694824
          },
          {
           "lower": 822.8844299316406,
           "timepoint": 10,
           "trajectory": "I_o_state",
           "upper": 944.5756988525391
          },
          {
           "lower": 5322.352026367187,
           "timepoint": 15,
           "trajectory": "I_o_state",
           "upper": 6609.10888671875
          },
          {
           "lower": 35696.097265625,
           "timepoint": 20,
           "trajectory": "I_o_state",
           "upper": 47725.9341796875
          },
          {
           "lower": 231530.71328125,
           "timepoint": 25,
           "trajectory": "I_o_state",
           "upper": 325510.41562499997
          },
          {
           "lower": 1176435.75625,
           "timepoint": 30,
           "trajectory": "I_o_state",
           "upper": 1568808.95625
          },
          {
           "lower": 3140894.4625,
           "timepoint": 35,
           "trajectory": "I_o_state",
           "upper": 3598220.5
          },
          {
           "lower": 4551802,
           "timepoint": 40,
           "trajectory": "I_o_state",
           "upper": 4743762.35
          },
          {
           "lower": 4933814.275,
           "timepoint": 45,
           "trajectory": "I_o_state",
           "upper": 4941998.075
          },
          {
           "lower": 4612345.4,
           "timepoint": 50,
           "trajectory": "I_o_state",
           "upper": 4710727.45
          },
          {
           "lower": 4056920.4625,
           "timepoint": 55,
           "trajectory": "I_o_state",
           "upper": 4195492.1
          },
          {
           "lower": 3434437.5125,
           "timepoint": 60,
           "trajectory": "I_o_state",
           "upper": 3581153.95
          },
          {
           "lower": 2831863.2875,
           "timepoint": 65,
           "trajectory": "I_o_state",
           "upper": 2970081.8625
          },
          {
           "lower": 2290659.625,
           "timepoint": 70,
           "trajectory": "I_o_state",
           "upper": 2412847.0125
          },
          {
           "lower": 1826175.91875,
           "timepoint": 75,
           "trajectory": "I_o_state",
           "upper": 1929961.68125
          },
          {
           "lower": 1439478.7375,
           "timepoint": 80,
           "trajectory": "I_o_state",
           "upper": 1525258.3
          },
          {
           "lower": 1124451.39375,
           "timepoint": 85,
           "trajectory": "I_o_state",
           "upper": 1193960.15625
          },
          {
           "lower": 871932.290625,
           "timepoint": 90,
           "trajectory": "I_o_state",
           "upper": 927421.696875
          },
          {
           "lower": 672031.146875,
           "timepoint": 95,
           "trajectory": "I_o_state",
           "upper": 715817.35625
          },
          {
           "lower": 515339.825,
           "timepoint": 100,
           "trajectory": "I_o_state",
           "upper": 549573.315625
          },
          {
           "lower": 393495.2859375,
           "timepoint": 105,
           "trajectory": "I_o_state",
           "upper": 420059.5
          },
          {
           "lower": 299365.9609375,
           "timepoint": 110,
           "trajectory": "I_o_state",
           "upper": 319852.1359375
          },
          {
           "lower": 227042.78203125,
           "timepoint": 115,
           "trajectory": "I_o_state",
           "upper": 242760.02265625
          },
          {
           "lower": 171728.02265625,
           "timepoint": 120,
           "trajectory": "I_o_state",
           "upper": 183734.26875
          },
          {
           "lower": 129585.879296875,
           "timepoint": 125,
           "trajectory": "I_o_state",
           "upper": 138723.23984375
          },
          {
           "lower": 97586.03046875,
           "timepoint": 130,
           "trajectory": "I_o_state",
           "upper": 104517.998046875
          },
          {
           "lower": 73356.86328125,
           "timepoint": 135,
           "trajectory": "I_o_state",
           "upper": 78601.41015625
          },
          {
           "lower": 55056.914453125,
           "timepoint": 140,
           "trajectory": "I_o_state",
           "upper": 59015.3568359375
          },
          {
           "lower": 41264.978125,
           "timepoint": 145,
           "trajectory": "I_o_state",
           "upper": 44246.53125
          },
          {
           "lower": 196.54267807006835,
           "timepoint": 5,
           "trajectory": "I_y_state",
           "upper": 210.33730545043946
          },
          {
           "lower": 1330.9730102539063,
           "timepoint": 10,
           "trajectory": "I_y_state",
           "upper": 1538.6468994140625
          },
          {
           "lower": 9191.108642578125,
           "timepoint": 15,
           "trajectory": "I_y_state",
           "upper": 11451.71328125
          },
          {
           "lower": 62721.4958984375,
           "timepoint": 20,
           "trajectory": "I_y_state",
           "upper": 83784.283984375
          },
          {
           "lower": 394883.7078125,
           "timepoint": 25,
           "trajectory": "I_y_state",
           "upper": 545049.471875
          },
          {
           "lower": 1698719.3625,
           "timepoint": 30,
           "trajectory": "I_y_state",
           "upper": 2116430.9
          },
          {
           "lower": 3402869.2625,
           "timepoint": 35,
           "trajectory": "I_y_state",
           "upper": 3668364.1625
          },
          {
           "lower": 4145559.0125,
           "timepoint": 40,
           "trajectory": "I_y_state",
           "upper": 4207116.075
          },
          {
           "lower": 4115945.425,
           "timepoint": 45,
           "trajectory": "I_y_state",
           "upper": 4163739.7875
          },
          {
           "lower": 3718982.2375,
           "timepoint": 50,
           "trajectory": "I_y_state",
           "upper": 3817006.0625
          },
          {
           "lower": 3204080.725,
           "timepoint": 55,
           "trajectory": "I_y_state",
           "upper": 3318664.9125
          },
          {
           "lower": 2674603.8375,
           "timepoint": 60,
           "trajectory": "I_y_state",
           "upper": 2787634.725
          },
          {
           "lower": 2183138.6625,
           "timepoint": 65,
           "trajectory": "I_y_state",
           "upper": 2285735.475
          },
          {
           "lower": 1752541.5125,
           "timepoint": 70,
           "trajectory": "I_y_state",
           "upper": 1841188.4875
          },
          {
           "lower": 1388963.65625,
           "timepoint": 75,
           "trajectory": "I_y_state",
           "upper": 1463109.90625
          },
          {
           "lower": 1089733.68125,
           "timepoint": 80,
           "trajectory": "I_y_state",
           "upper": 1150343.44375
          },
          {
           "lower": 848025.85,
           "timepoint": 85,
           "trajectory": "I_y_state",
           "upper": 896734.50625
          },
          {
           "lower": 655535.871875,
           "timepoint": 90,
           "trajectory": "I_y_state",
           "upper": 694172.59375
          },
          {
           "lower": 503934.7546875,
           "timepoint": 95,
           "trajectory": "I_y_state",
           "upper": 534268.621875
          },
          {
           "lower": 385591.8875,
           "timepoint": 100,
           "trajectory": "I_y_state",
           "upper": 409210.7453125
          },
          {
           "lower": 293877.0984375,
           "timepoint": 105,
           "trajectory": "I_y_state",
           "upper": 312143.196875
          },
          {
           "lower": 223221.82734375,
           "timepoint": 110,
           "trajectory": "I_y_state",
           "upper": 237269.14375
          },
          {
           "lower": 169061.91171875,
           "timepoint": 115,
           "trajectory": "I_y_state",
           "upper": 179813.765625
          },
          {
           "lower": 127720.9984375,
           "timepoint": 120,
           "trajectory": "I_y_state",
           "upper": 135917.7421875
          },
          {
           "lower": 96278.349609375,
           "timepoint": 125,
           "trajectory": "I_y_state",
           "upper": 102505.858203125
          },
          {
           "lower": 72437.6921875,
           "timepoint": 130,
           "trajectory": "I_y_state",
           "upper": 77155.16875
          },
          {
           "lower": 54409.18046875,
           "timepoint": 135,
           "trajectory": "I_y_state",
           "upper": 57973.7263671875
          },
          {
           "lower": 40807.37421875,
           "timepoint": 140,
           "trajectory": "I_y_state",
           "upper": 43494.8265625
          },
          {
           "lower": 30566.05615234375,
           "timepoint": 145,
           "trajectory": "I_y_state",
           "upper": 32588.29765625
          },
          {
           "lower": 33.47984142303467,
           "timepoint": 5,
           "trajectory": "R_m_state",
           "upper": 35.019123268127444
          },
          {
           "lower": 273.9711944580078,
           "timepoint": 10,
           "trajectory": "R_m_state",
           "upper": 306.6074844360352
          },
          {
           "lower": 1971.4363403320312,
           "timepoint": 15,
           "trajectory": "R_m_state",
           "upper": 2369.1883056640627
          },
          {
           "lower": 13662.599609375,
           "timepoint": 20,
           "trajectory": "R_m_state",
           "upper": 17630.43310546875
          },
          {
           "lower": 90413.59453125,
           "timepoint": 25,
           "trajectory": "R_m_state",
           "upper": 123144.772265625
          },
          {
           "lower": 490460.1734375,
           "timepoint": 30,
           "trajectory": "R_m_state",
           "upper": 651370.940625
          },
          {
           "lower": 1622541.73125,
           "timepoint": 35,
           "trajectory": "R_m_state",
           "upper": 1951355.625
          },
          {
           "lower": 3324265.2875,
           "timepoint": 40,
           "trajectory": "R_m_state",
           "upper": 3725574.475
          },
          {
           "lower": 5190667.925,
           "timepoint": 45,
           "trajectory": "R_m_state",
           "upper": 5594008.25
          },
          {
           "lower": 6979769.7,
           "timepoint": 50,
           "trajectory": "R_m_state",
           "upper": 7349664.125
          },
          {
           "lower": 8577639.15,
           "timepoint": 55,
           "trajectory": "R_m_state",
           "upper": 8899280.95
          },
          {
           "lower": 9943952.1,
           "timepoint": 60,
           "trajectory": "R_m_state",
           "upper": 10214185.45
          },
          {
           "lower": 11078575.55,
           "timepoint": 65,
           "trajectory": "R_m_state",
           "upper": 11300176.95
          },
          {
           "lower": 12001195.2,
           "timepoint": 70,
           "trajectory": "R_m_state",
           "upper": 12179704.55
          },
          {
           "lower": 12739675.25,
           "timepoint": 75,
           "trajectory": "R_m_state",
           "upper": 12881538
          },
          {
           "lower": 13323631.45,
           "timepoint": 80,
           "trajectory": "R_m_state",
           "upper": 13435176.25
          },
          {
           "lower": 13780952.45,
           "timepoint": 85,
           "trajectory": "R_m_state",
           "upper": 13867910.65
          },
          {
           "lower": 14136310.8,
           "timepoint": 90,
           "trajectory": "R_m_state",
           "upper": 14203629.1
          },
          {
           "lower": 14410674.6,
           "timepoint": 95,
           "trajectory": "R_m_state",
           "upper": 14462486.65
          },
          {
           "lower": 14621366.45,
           "timepoint": 100,
           "trajectory": "R_m_state",
           "upper": 14661060.35
          },
          {
           "lower": 14782447.65,
           "timepoint": 105,
           "trajectory": "R_m_state",
           "upper": 14812721.35
          },
          {
           "lower": 14905120.3,
           "timepoint": 110,
           "trajectory": "R_m_state",
           "upper": 14928134.4
          },
          {
           "lower": 14998245.1,
           "timepoint": 115,
           "trajectory": "R_m_state",
           "upper": 15015685.45
          },
          {
           "lower": 15068743.65,
           "timepoint": 120,
           "trajectory": "R_m_state",
           "upper": 15081905.55
          },
          {
           "lower": 15121960.45,
           "timepoint": 125,
           "trajectory": "R_m_state",
           "upper": 15131902.45
          },
          {
           "lower": 15162067.45,
           "timepoint": 130,
           "trajectory": "R_m_state",
           "upper": 15169548.2
          },
          {
           "lower": 15192231.6,
           "timepoint": 135,
           "trajectory": "R_m_state",
           "upper": 15197855.85
          },
          {
           "lower": 15214879.3,
           "timepoint": 140,
           "trajectory": "R_m_state",
           "upper": 15219100.5
          },
          {
           "lower": 15231864.05,
           "timepoint": 145,
           "trajectory": "R_m_state",
           "upper": 15235028.05
          },
          {
           "lower": 24.050495910644532,
           "timepoint": 5,
           "trajectory": "R_o_state",
           "upper": 24.76962013244629
          },
          {
           "lower": 139.36151123046875,
           "timepoint": 10,
           "trajectory": "R_o_state",
           "upper": 153.3919906616211
          },
          {
           "lower": 858.6532989501953,
           "timepoint": 15,
           "trajectory": "R_o_state",
           "upper": 1022.5600708007812
          },
          {
           "lower": 5644.3806640625,
           "timepoint": 20,
           "trajectory": "R_o_state",
           "upper": 7262.990502929687
          },
          {
           "lower": 37307.27890625,
           "timepoint": 25,
           "trajectory": "R_o_state",
           "upper": 51177.100781249996
          },
          {
           "lower": 218237.58359375,
           "timepoint": 30,
           "trajectory": "R_o_state",
           "upper": 300380.921875
          },
          {
           "lower": 856939.675,
           "timepoint": 35,
           "trajectory": "R_o_state",
           "upper": 1081036.075
          },
          {
           "lower": 2039259.01875,
           "timepoint": 40,
           "trajectory": "R_o_state",
           "upper": 2361509.9625
          },
          {
           "lower": 3483423.6625,
           "timepoint": 45,
           "trajectory": "R_o_state",
           "upper": 3831538.55
          },
          {
           "lower": 4941239.6,
           "timepoint": 50,
           "trajectory": "R_o_state",
           "upper": 5272637.4
          },
          {
           "lower": 6281509.725,
           "timepoint": 55,
           "trajectory": "R_o_state",
           "upper": 6576300.125
          },
          {
           "lower": 7448902.35,
           "timepoint": 60,
           "trajectory": "R_o_state",
           "upper": 7700330.4
          },
          {
           "lower": 8430695.8,
           "timepoint": 65,
           "trajectory": "R_o_state",
           "upper": 8639100.75
          },
          {
           "lower": 9236436.35,
           "timepoint": 70,
           "trajectory": "R_o_state",
           "upper": 9405669.35
          },
          {
           "lower": 9885888.1,
           "timepoint": 75,
           "trajectory": "R_o_state",
           "upper": 10021218.55
          },
          {
           "lower": 10402258.45,
           "timepoint": 80,
           "trajectory": "R_o_state",
           "upper": 10509177.9
          },
          {
           "lower": 10808401.15,
           "timepoint": 85,
           "trajectory": "R_o_state",
           "upper": 10892082.7
          },
          {
           "lower": 11125109.45,
           "timepoint": 90,
           "trajectory": "R_o_state",
           "upper": 11190099.9
          },
          {
           "lower": 11370346.75,
           "timepoint": 95,
           "trajectory": "R_o_state",
           "upper": 11420502.5
          },
          {
           "lower": 11559133.8,
           "timepoint": 100,
           "trajectory": "R_o_state",
           "upper": 11597637.5
          },
          {
           "lower": 11703759.05,
           "timepoint": 105,
           "trajectory": "R_o_state",
           "upper": 11733186.25
          },
          {
           "lower": 11814091.15,
           "timepoint": 110,
           "trajectory": "R_o_state",
           "upper": 11836496.55
          },
          {
           "lower": 11897978.15,
           "timepoint": 115,
           "trajectory": "R_o_state",
           "upper": 11914982.9
          },
          {
           "lower": 11961559.85,
           "timepoint": 120,
           "trajectory": "R_o_state",
           "upper": 11974427.9
          },
          {
           "lower": 12009618.2,
           "timepoint": 125,
           "trajectory": "R_o_state",
           "upper": 12019334.1
          },
          {
           "lower": 12045865.9,
           "timepoint": 130,
           "trajectory": "R_o_state",
           "upper": 12053194.45
          },
          {
           "lower": 12073157.3,
           "timepoint": 135,
           "trajectory": "R_o_state",
           "upper": 12078661.55
          },
          {
           "lower": 12093659.65,
           "timepoint": 140,
           "trajectory": "R_o_state",
           "upper": 12097794.1
          },
          {
           "lower": 12109045.65,
           "timepoint": 145,
           "trajectory": "R_o_state",
           "upper": 12112145
          },
          {
           "lower": 28.505492877960204,
           "timepoint": 5,
           "trajectory": "R_y_state",
           "upper": 29.618572902679443
          },
          {
           "lower": 205.7105972290039,
           "timepoint": 10,
           "trajectory": "R_y_state",
           "upper": 229.12223587036132
          },
          {
           "lower": 1426.1318054199219,
           "timepoint": 15,
           "trajectory": "R_y_state",
           "upper": 1711.0901672363282
          },
          {
           "lower": 9807.0990234375,
           "timepoint": 20,
           "trajectory": "R_y_state",
           "upper": 12649.746923828125
          },
          {
           "lower": 64709.3880859375,
           "timepoint": 25,
           "trajectory": "R_y_state",
           "upper": 88034.184765625
          },
          {
           "lower": 347477.8859375,
           "timepoint": 30,
           "trajectory": "R_y_state",
           "upper": 459571.028125
          },
          {
           "lower": 1129311.175,
           "timepoint": 35,
           "trajectory": "R_y_state",
           "upper": 1352609.725
          },
          {
           "lower": 2285456.95,
           "timepoint": 40,
           "trajectory": "R_y_state",
           "upper": 2555144.05
          },
          {
           "lower": 3544681.075,
           "timepoint": 45,
           "trajectory": "R_y_state",
           "upper": 3814530.1125
          },
          {
           "lower": 4747718.925,
           "timepoint": 50,
           "trajectory": "R_y_state",
           "upper": 4994590.325
          },
          {
           "lower": 5820025.475,
           "timepoint": 55,
           "trajectory": "R_y_state",
           "upper": 6034402.25
          },
          {
           "lower": 6735822.35,
           "timepoint": 60,
           "trajectory": "R_y_state",
           "upper": 6915731.925
          },
          {
           "lower": 7495632.85,
           "timepoint": 65,
           "trajectory": "R_y_state",
           "upper": 7643056.275
          },
          {
           "lower": 8113065.7,
           "timepoint": 70,
           "trajectory": "R_y_state",
           "upper": 8231753.65
          },
          {
           "lower": 8607026.25,
           "timepoint": 75,
           "trajectory": "R_y_state",
           "upper": 8701313.9
          },
          {
           "lower": 8997474.05,
           "timepoint": 80,
           "trajectory": "R_y_state",
           "upper": 9071581.9
          },
          {
           "lower": 9303152.95,
           "timepoint": 85,
           "trajectory": "R_y_state",
           "upper": 9360908.2
          },
          {
           "lower": 9540621.6,
           "timepoint": 90,
           "trajectory": "R_y_state",
           "upper": 9585318.05
          },
          {
           "lower": 9723921.45,
           "timepoint": 95,
           "trajectory": "R_y_state",
           "upper": 9758315.9
          },
          {
           "lower": 9864663.35,
           "timepoint": 100,
           "trajectory": "R_y_state",
           "upper": 9890999.5
          },
          {
           "lower": 9972243.45,
           "timepoint": 105,
           "trajectory": "R_y_state",
           "upper": 9992330.5
          },
          {
           "lower": 10054166.55,
           "timepoint": 110,
           "trajectory": "R_y_state",
           "upper": 10069434.9
          },
          {
           "lower": 10116342.7,
           "timepoint": 115,
           "trajectory": "R_y_state",
           "upper": 10127911.35
          },
          {
           "lower": 10163410.15,
           "timepoint": 120,
           "trajectory": "R_y_state",
           "upper": 10172144.5
          },
          {
           "lower": 10198939.6,
           "timepoint": 125,
           "trajectory": "R_y_state",
           "upper": 10205530.95
          },
          {
           "lower": 10225715.95,
           "timepoint": 130,
           "trajectory": "R_y_state",
           "upper": 10230674.65
          },
          {
           "lower": 10245848.4,
           "timepoint": 135,
           "trajectory": "R_y_state",
           "upper": 10249572
          },
          {
           "lower": 10260969.95,
           "timepoint": 140,
           "trajectory": "R_y_state",
           "upper": 10263762.9
          },
          {
           "lower": 10272300.05,
           "timepoint": 145,
           "trajectory": "R_y_state",
           "upper": 10274392.15
          },
          {
           "lower": 15280074.65,
           "timepoint": 5,
           "trajectory": "S_m_state",
           "upper": 15280255.05
          },
          {
           "lower": 15267196.85,
           "timepoint": 10,
           "trajectory": "S_m_state",
           "upper": 15269540
          },
          {
           "lower": 15171610.45,
           "timepoint": 15,
           "trajectory": "S_m_state",
           "upper": 15195694.2
          },
          {
           "lower": 14485228.1,
           "timepoint": 20,
           "trajectory": "S_m_state",
           "upper": 14698830.15
          },
          {
           "lower": 10514961.15,
           "timepoint": 25,
           "trajectory": "S_m_state",
           "upper": 11816513.1
          },
          {
           "lower": 2085798.525,
           "timepoint": 30,
           "trajectory": "S_m_state",
           "upper": 3762209.7125
          },
          {
           "lower": 35383.6859375,
           "timepoint": 35,
           "trajectory": "S_m_state",
           "upper": 138228.10390624998
          },
          {
           "lower": 118.25455207824707,
           "timepoint": 40,
           "trajectory": "S_m_state",
           "upper": 845.650225830078
          },
          {
           "lower": 0.2693905606865883,
           "timepoint": 45,
           "trajectory": "S_m_state",
           "upper": 2.884052503108978
          },
          {
           "lower": 0.0008514795074006543,
           "timepoint": 50,
           "trajectory": "S_m_state",
           "upper": 0.011887611495330928
          },
          {
           "lower": 5.178555966267595e-06,
           "timepoint": 55,
           "trajectory": "S_m_state",
           "upper": 8.605046277807559e-05
          },
          {
           "lower": 6.741245961450204e-08,
           "timepoint": 60,
           "trajectory": "S_m_state",
           "upper": 1.2552773853258257e-06
          },
          {
           "lower": 1.8556629732824348e-09,
           "timepoint": 65,
           "trajectory": "S_m_state",
           "upper": 3.7216406845175236e-08
          },
          {
           "lower": 1.0071174137704642e-10,
           "timepoint": 70,
           "trajectory": "S_m_state",
           "upper": 2.119559161517514e-09
          },
          {
           "lower": 9.821813804974932e-12,
           "timepoint": 75,
           "trajectory": "S_m_state",
           "upper": 2.1324777638165312e-10
          },
          {
           "lower": 1.563420335033705e-12,
           "timepoint": 80,
           "trajectory": "S_m_state",
           "upper": 3.46309488030716e-11
          },
          {
           "lower": 3.71404193207428e-13,
           "timepoint": 85,
           "trajectory": "S_m_state",
           "upper": 8.332721622081318e-12
          },
          {
           "lower": 1.2169366161746564e-13,
           "timepoint": 90,
           "trajectory": "S_m_state",
           "upper": 2.7524910952911313e-12
          },
          {
           "lower": 5.145819530980858e-14,
           "timepoint": 95,
           "trajectory": "S_m_state",
           "upper": 1.169821477100402e-12
          },
          {
           "lower": 2.6581855189629312e-14,
           "timepoint": 100,
           "trajectory": "S_m_state",
           "upper": 6.062024959698625e-13
          },
          {
           "lower": 1.604740518866923e-14,
           "timepoint": 105,
           "trajectory": "S_m_state",
           "upper": 3.6666606572808773e-13
          },
          {
           "lower": 1.0928631775448038e-14,
           "timepoint": 110,
           "trajectory": "S_m_state",
           "upper": 2.4999340163082967e-13
          },
          {
           "lower": 8.16534115678552e-15,
           "timepoint": 115,
           "trajectory": "S_m_state",
           "upper": 1.8690684647237363e-13
          },
          {
           "lower": 6.549171440249212e-15,
           "timepoint": 120,
           "trajectory": "S_m_state",
           "upper": 1.4996727546855852e-13
          },
          {
           "lower": 5.544723772494804e-15,
           "timepoint": 125,
           "trajectory": "S_m_state",
           "upper": 1.2699059604446072e-13
          },
          {
           "lower": 4.891167020557897e-15,
           "timepoint": 130,
           "trajectory": "S_m_state",
           "upper": 1.1203147242365428e-13
          },
          {
           "lower": 4.450995147506473e-15,
           "timepoint": 135,
           "trajectory": "S_m_state",
           "upper": 1.019519378994563e-13
          },
          {
           "lower": 4.1467883255219506e-15,
           "timepoint": 140,
           "trajectory": "S_m_state",
           "upper": 9.498324402121195e-14
          },
          {
           "lower": 3.932451423955402e-15,
           "timepoint": 145,
           "trajectory": "S_m_state",
           "upper": 9.007183494609374e-14
          },
          {
           "lower": 12153602.95,
           "timepoint": 5,
           "trajectory": "S_o_state",
           "upper": 12153686.15
          },
          {
           "lower": 12148237.7,
           "timepoint": 10,
           "trajectory": "S_o_state",
           "upper": 12149208.75
          },
          {
           "lower": 12109371.3,
           "timepoint": 15,
           "trajectory": "S_o_state",
           "upper": 12119156.8
          },
          {
           "lower": 11828621.25,
           "timepoint": 20,
           "trajectory": "S_o_state",
           "upper": 11916682.8
          },
          {
           "lower": 10048837.9,
           "timepoint": 25,
           "trajectory": "S_o_state",
           "upper": 10666237.65
          },
          {
           "lower": 4288940.55,
           "timepoint": 30,
           "trajectory": "S_o_state",
           "upper": 5879993.65
          },
          {
           "lower": 429987.6578125,
           "timepoint": 35,
           "trajectory": "S_o_state",
           "upper": 943543.90625
          },
          {
           "lower": 14258.511474609375,
           "timepoint": 40,
           "trajectory": "S_o_state",
           "upper": 46582.855859375
          },
          {
           "lower": 338.9504455566406,
           "timepoint": 45,
           "trajectory": "S_o_state",
           "upper": 1446.3834716796873
          },
          {
           "lower": 9.369806575775147,
           "timepoint": 50,
           "trajectory": "S_o_state",
           "upper": 47.57599124908447
          },
          {
           "lower": 0.37930628210306166,
           "timepoint": 55,
           "trajectory": "S_o_state",
           "upper": 2.15530366897583
          },
          {
           "lower": 0.024407479260116816,
           "timepoint": 60,
           "trajectory": "S_o_state",
           "upper": 0.14910261332988736
          },
          {
           "lower": 0.0024992569466121494,
           "timepoint": 65,
           "trajectory": "S_o_state",
           "upper": 0.015991343092173337
          },
          {
           "lower": 0.000391611953091342,
           "timepoint": 70,
           "trajectory": "S_o_state",
           "upper": 0.00258044641232118
          },
          {
           "lower": 8.880338937160559e-05,
           "timepoint": 75,
           "trajectory": "S_o_state",
           "upper": 0.000596066250000149
          },
          {
           "lower": 2.7465210769150873e-05,
           "timepoint": 80,
           "trajectory": "S_o_state",
           "upper": 0.0001864811129053123
          },
          {
           "lower": 1.0955113839372644e-05,
           "timepoint": 85,
           "trajectory": "S_o_state",
           "upper": 7.490662101190537e-05
          },
          {
           "lower": 5.363130844671104e-06,
           "timepoint": 90,
           "trajectory": "S_o_state",
           "upper": 3.682575315906433e-05
          },
          {
           "lower": 3.0896282169123878e-06,
           "timepoint": 95,
           "trajectory": "S_o_state",
           "upper": 2.126699127984466e-05
          },
          {
           "lower": 2.022838941684313e-06,
           "timepoint": 100,
           "trajectory": "S_o_state",
           "upper": 1.3943043040853808e-05
          },
          {
           "lower": 1.4632815691584256e-06,
           "timepoint": 105,
           "trajectory": "S_o_state",
           "upper": 1.0093380797115968e-05
          },
          {
           "lower": 1.1434552675382293e-06,
           "timepoint": 110,
           "trajectory": "S_o_state",
           "upper": 7.889907556091202e-06
          },
          {
           "lower": 9.482224726298228e-07,
           "timepoint": 115,
           "trajectory": "S_o_state",
           "upper": 6.5435257738499776e-06
          },
          {
           "lower": 8.229259719882976e-07,
           "timepoint": 120,
           "trajectory": "S_o_state",
           "upper": 5.678837965206184e-06
          },
          {
           "lower": 7.394059821308474e-07,
           "timepoint": 125,
           "trajectory": "S_o_state",
           "upper": 5.102147110846999e-06
          },
          {
           "lower": 6.821200798867721e-07,
           "timepoint": 130,
           "trajectory": "S_o_state",
           "upper": 4.706435152002086e-06
          },
          {
           "lower": 6.419773995958167e-07,
           "timepoint": 135,
           "trajectory": "S_o_state",
           "upper": 4.429050295584602e-06
          },
          {
           "lower": 6.133953462494901e-07,
           "timepoint": 140,
           "trajectory": "S_o_state",
           "upper": 4.231494358464261e-06
          },
          {
           "lower": 5.928023171009045e-07,
           "timepoint": 145,
           "trajectory": "S_o_state",
           "upper": 4.089117874173098e-06
          },
          {
           "lower": 10304338.75,
           "timepoint": 5,
           "trajectory": "S_y_state",
           "upper": 10304470.15
          },
          {
           "lower": 10295119.7,
           "timepoint": 10,
           "trajectory": "S_y_state",
           "upper": 10296801.35
          },
          {
           "lower": 10226627.25,
           "timepoint": 15,
           "trajectory": "S_y_state",
           "upper": 10243888.9
          },
          {
           "lower": 9735177.4,
           "timepoint": 20,
           "trajectory": "S_y_state",
           "upper": 9887947.8
          },
          {
           "lower": 6927768.75,
           "timepoint": 25,
           "trajectory": "S_y_state",
           "upper": 7840751.425
          },
          {
           "lower": 1265331.79375,
           "timepoint": 30,
           "trajectory": "S_y_state",
           "upper": 2344799.7875
          },
          {
           "lower": 19031.2677734375,
           "timepoint": 35,
           "trajectory": "S_y_state",
           "upper": 76706.55507812499
          },
          {
           "lower": 59.267555236816406,
           "timepoint": 40,
           "trajectory": "S_y_state",
           "upper": 432.5889190673828
          },
          {
           "lower": 0.1318198975175619,
           "timepoint": 45,
           "trajectory": "S_y_state",
           "upper": 1.4293722331523893
          },
          {
           "lower": 0.0004175488822511397,
           "timepoint": 50,
           "trajectory": "S_y_state",
           "upper": 0.00587996479589492
          },
          {
           "lower": 2.577710199602734e-06,
           "timepoint": 55,
           "trajectory": "S_y_state",
           "upper": 4.311965967644937e-05
          },
          {
           "lower": 3.423448706740828e-08,
           "timepoint": 60,
           "trajectory": "S_y_state",
           "upper": 6.41290682779072e-07
          },
          {
           "lower": 9.622177887802507e-10,
           "timepoint": 65,
           "trajectory": "S_y_state",
           "upper": 1.9412909946225906e-08
          },
          {
           "lower": 5.324845859383531e-11,
           "timepoint": 70,
           "trajectory": "S_y_state",
           "upper": 1.1276964251294428e-09
          },
          {
           "lower": 5.282644894438749e-12,
           "timepoint": 75,
           "trajectory": "S_y_state",
           "upper": 1.1546859163269472e-10
          },
          {
           "lower": 8.531531872028181e-13,
           "timepoint": 80,
           "trajectory": "S_y_state",
           "upper": 1.9034789543181936e-11
          },
          {
           "lower": 2.0510860059539707e-13,
           "timepoint": 85,
           "trajectory": "S_y_state",
           "upper": 4.637224870589207e-12
          },
          {
           "lower": 6.785783652379137e-14,
           "timepoint": 90,
           "trajectory": "S_y_state",
           "upper": 1.5472888378539882e-12
          },
          {
           "lower": 2.8915551830916485e-14,
           "timepoint": 95,
           "trajectory": "S_y_state",
           "upper": 6.629207138742973e-13
          },
          {
           "lower": 1.5027916502760543e-14,
           "timepoint": 100,
           "trajectory": "S_y_state",
           "upper": 3.4571783641152566e-13
          },
          {
           "lower": 9.115433661523436e-15,
           "timepoint": 105,
           "trajectory": "S_y_state",
           "upper": 2.101532611668323e-13
          },
          {
           "lower": 6.230673541906086e-15,
           "timepoint": 110,
           "trajectory": "S_y_state",
           "upper": 1.4383755756017417e-13
          },
          {
           "lower": 4.6684676591646384e-15,
           "timepoint": 115,
           "trajectory": "S_y_state",
           "upper": 1.0786090411400629e-13
          },
          {
           "lower": 3.7525839881938635e-15,
           "timepoint": 120,
           "trajectory": "S_y_state",
           "upper": 8.674200240195699e-14
          },
          {
           "lower": 3.1823225398779012e-15,
           "timepoint": 125,
           "trajectory": "S_y_state",
           "upper": 7.358072857336759e-14
          },
          {
           "lower": 2.8107660212627332e-15,
           "timepoint": 130,
           "trajectory": "S_y_state",
           "upper": 6.4999586862533e-14
          },
          {
           "lower": 2.560267462057062e-15,
           "timepoint": 135,
           "trajectory": "S_y_state",
           "upper": 5.92113797635808e-14
          },
          {
           "lower": 2.38701035611919e-15,
           "timepoint": 140,
           "trajectory": "S_y_state",
           "upper": 5.520630932514527e-14
          },
          {
           "lower": 2.26486993095475e-15,
           "timepoint": 145,
           "trajectory": "S_y_state",
           "upper": 5.2381937085425525e-14
          },
          {
           "lower": 3213.8079467773437,
           "timepoint": 5,
           "trajectory": "exposed_observable_state",
           "upper": 3564.1138916015625
          },
          {
           "lower": 22147.32841796875,
           "timepoint": 10,
           "trajectory": "exposed_observable_state",
           "upper": 26457.0513671875
          },
          {
           "lower": 151986.0921875,
           "timepoint": 15,
           "trajectory": "exposed_observable_state",
           "upper": 195570.82890624998
          },
          {
           "lower": 1023794.528125,
           "timepoint": 20,
           "trajectory": "exposed_observable_state",
           "upper": 1407296.85625
          },
          {
           "lower": 6046771.75,
           "timepoint": 25,
           "trajectory": "exposed_observable_state",
           "upper": 8352620.95
          },
          {
           "lower": 19399787.1,
           "timepoint": 30,
           "trajectory": "exposed_observable_state",
           "upper": 21965361.9
          },
          {
           "lower": 20220846,
           "timepoint": 35,
           "trajectory": "exposed_observable_state",
           "upper": 21455098.7
          },
          {
           "lower": 13906035,
           "timepoint": 40,
           "trajectory": "exposed_observable_state",
           "upper": 15219407.2
          },
          {
           "lower": 9331950.65,
           "timepoint": 45,
           "trajectory": "exposed_observable_state",
           "upper": 10236496.3
          },
          {
           "lower": 6255637.7,
           "timepoint": 50,
           "trajectory": "exposed_observable_state",
           "upper": 6862776.825
          },
          {
           "lower": 4193285.65,
           "timepoint": 55,
           "trajectory": "exposed_observable_state",
           "upper": 4600287.35
          },
          {
           "lower": 2810843.975,
           "timepoint": 60,
           "trajectory": "exposed_observable_state",
           "upper": 3083667.4125
          },
          {
           "lower": 1884165.09375,
           "timepoint": 65,
           "trajectory": "exposed_observable_state",
           "upper": 2067044.175
          },
          {
           "lower": 1262993.11875,
           "timepoint": 70,
           "trajectory": "exposed_observable_state",
           "upper": 1385580.3875
          },
          {
           "lower": 846610.01875,
           "timepoint": 75,
           "trajectory": "exposed_observable_state",
           "upper": 928782.896875
          },
          {
           "lower": 567499.68125,
           "timepoint": 80,
           "trajectory": "exposed_observable_state",
           "upper": 622581.709375
          },
          {
           "lower": 380406.41875,
           "timepoint": 85,
           "trajectory": "exposed_observable_state",
           "upper": 417329.00625
          },
          {
           "lower": 254994.0984375,
           "timepoint": 90,
           "trajectory": "exposed_observable_state",
           "upper": 279743.93125
          },
          {
           "lower": 170927.6109375,
           "timepoint": 95,
           "trajectory": "exposed_observable_state",
           "upper": 187518.00703125
          },
          {
           "lower": 114576.2078125,
           "timepoint": 100,
           "trajectory": "exposed_observable_state",
           "upper": 125697.086328125
          },
          {
           "lower": 76802.733203125,
           "timepoint": 105,
           "trajectory": "exposed_observable_state",
           "upper": 84257.27109375
          },
          {
           "lower": 51482.4111328125,
           "timepoint": 110,
           "trajectory": "exposed_observable_state",
           "upper": 56479.32890625
          },
          {
           "lower": 34509.691796875,
           "timepoint": 115,
           "trajectory": "exposed_observable_state",
           "upper": 37859.2333984375
          },
          {
           "lower": 23132.53515625,
           "timepoint": 120,
           "trajectory": "exposed_observable_state",
           "upper": 25377.81337890625
          },
          {
           "lower": 15506.205126953126,
           "timepoint": 125,
           "trajectory": "exposed_observable_state",
           "upper": 17011.25107421875
          },
          {
           "lower": 10394.116943359375,
           "timepoint": 130,
           "trajectory": "exposed_observable_state",
           "upper": 11402.98330078125
          },
          {
           "lower": 6967.38642578125,
           "timepoint": 135,
           "trajectory": "exposed_observable_state",
           "upper": 7643.647973632813
          },
          {
           "lower": 4670.379956054688,
           "timepoint": 140,
           "trajectory": "exposed_observable_state",
           "upper": 5123.69091796875
          },
          {
           "lower": 3130.6488525390623,
           "timepoint": 145,
           "trajectory": "exposed_observable_state",
           "upper": 3434.512890625
          },
          {
           "lower": 594.3182312011719,
           "timepoint": 5,
           "trajectory": "infected_observable_state",
           "upper": 635.9624908447265
          },
          {
           "lower": 3989.2405517578127,
           "timepoint": 10,
           "trajectory": "infected_observable_state",
           "upper": 4608.5264892578125
          },
          {
           "lower": 27324.5896484375,
           "timepoint": 15,
           "trajectory": "infected_observable_state",
           "upper": 34027.065234375
          },
          {
           "lower": 185934.59296875,
           "timepoint": 20,
           "trajectory": "infected_observable_state",
           "upper": 248442.39765625
          },
          {
           "lower": 1179583.91875,
           "timepoint": 25,
           "trajectory": "infected_observable_state",
           "upper": 1635770.5875
          },
          {
           "lower": 5299342.075,
           "timepoint": 30,
           "trajectory": "infected_observable_state",
           "upper": 6725551.125
          },
          {
           "lower": 11519935.95,
           "timepoint": 35,
           "trajectory": "infected_observable_state",
           "upper": 12652056.15
          },
          {
           "lower": 14826057.5,
           "timepoint": 40,
           "trajectory": "infected_observable_state",
           "upper": 15179603.95
          },
          {
           "lower": 15169939.9,
           "timepoint": 45,
           "trajectory": "infected_observable_state",
           "upper": 15285583.85
          },
          {
           "lower": 13869790.8,
           "timepoint": 50,
           "trajectory": "infected_observable_state",
           "upper": 14210770.55
          },
          {
           "lower": 12039037.55,
           "timepoint": 55,
           "trajectory": "infected_observable_state",
           "upper": 12462854.95
          },
          {
           "lower": 10101213.25,
           "timepoint": 60,
           "trajectory": "infected_observable_state",
           "upper": 10529963.05
          },
          {
           "lower": 8275800.6,
           "timepoint": 65,
           "trajectory": "infected_observable_state",
           "upper": 8670361.8
          },
          {
           "lower": 6662183.7,
           "timepoint": 70,
           "trajectory": "infected_observable_state",
           "upper": 7006053
          },
          {
           "lower": 5291621.75,
           "timepoint": 75,
           "trajectory": "infected_observable_state",
           "upper": 5580932.725
          },
          {
           "lower": 4158868.2,
           "timepoint": 80,
           "trajectory": "infected_observable_state",
           "upper": 4396367.65
          },
          {
           "lower": 3240995.9375,
           "timepoint": 85,
           "trajectory": "infected_observable_state",
           "upper": 3432472.6625
          },
          {
           "lower": 2508260.6125,
           "timepoint": 90,
           "trajectory": "infected_observable_state",
           "upper": 2660521.3125
          },
          {
           "lower": 1930071.825,
           "timepoint": 95,
           "trajectory": "infected_observable_state",
           "upper": 2049848.96875
          },
          {
           "lower": 1478032.26875,
           "timepoint": 100,
           "trajectory": "infected_observable_state",
           "upper": 1571444.125
          },
          {
           "lower": 1127263.13125,
           "timepoint": 105,
           "trajectory": "infected_observable_state",
           "upper": 1199600.1625
          },
          {
           "lower": 856754.66875,
           "timepoint": 110,
           "trajectory": "infected_observable_state",
           "upper": 912445.6
          },
          {
           "lower": 649217.375,
           "timepoint": 115,
           "trajectory": "infected_observable_state",
           "upper": 691883.090625
          },
          {
           "lower": 490683.3765625,
           "timepoint": 120,
           "trajectory": "infected_observable_state",
           "upper": 523235.6640625
          },
          {
           "lower": 370030.5390625,
           "timepoint": 125,
           "trajectory": "infected_observable_state",
           "upper": 394778.8390625
          },
          {
           "lower": 278498.09375,
           "timepoint": 130,
           "trajectory": "infected_observable_state",
           "upper": 297256.459375
          },
          {
           "lower": 209247.46328125,
           "timepoint": 135,
           "trajectory": "infected_observable_state",
           "upper": 223428.521875
          },
          {
           "lower": 156979.05078125,
           "timepoint": 140,
           "trajectory": "infected_observable_state",
           "upper": 167675.35703125
          },
          {
           "lower": 117609.9625,
           "timepoint": 145,
           "trajectory": "infected_observable_state",
           "upper": 125661.8140625
          },
          {
           "lower": 0.13497437983751298,
           "timepoint": 5,
           "trajectory": "persistent_beta_param",
           "upper": 0.14401710629463196
          },
          {
           "lower": 0.13497437983751298,
           "timepoint": 10,
           "trajectory": "persistent_beta_param",
           "upper": 0.14401710629463196
          },
          {
           "lower": 0.13497437983751298,
           "timepoint": 15,
           "trajectory": "persistent_beta_param",
           "upper": 0.14401710629463196
          },
          {
           "lower": 0.13497437983751298,
           "timepoint": 20,
           "trajectory": "persistent_beta_param",
           "upper": 0.14401710629463196
          },
          {
           "lower": 0.13497437983751298,
           "timepoint": 25,
           "trajectory": "persistent_beta_param",
           "upper": 0.14401710629463196
          },
          {
           "lower": 0.13497437983751298,
           "timepoint": 30,
           "trajectory": "persistent_beta_param",
           "upper": 0.14401710629463196
          },
          {
           "lower": 0.13497437983751298,
           "timepoint": 35,
           "trajectory": "persistent_beta_param",
           "upper": 0.14401710629463196
          },
          {
           "lower": 0.13497437983751298,
           "timepoint": 40,
           "trajectory": "persistent_beta_param",
           "upper": 0.14401710629463196
          },
          {
           "lower": 0.13497437983751298,
           "timepoint": 45,
           "trajectory": "persistent_beta_param",
           "upper": 0.14401710629463196
          },
          {
           "lower": 0.13497437983751298,
           "timepoint": 50,
           "trajectory": "persistent_beta_param",
           "upper": 0.14401710629463196
          },
          {
           "lower": 0.13497437983751298,
           "timepoint": 55,
           "trajectory": "persistent_beta_param",
           "upper": 0.14401710629463196
          },
          {
           "lower": 0.13497437983751298,
           "timepoint": 60,
           "trajectory": "persistent_beta_param",
           "upper": 0.14401710629463196
          },
          {
           "lower": 0.13497437983751298,
           "timepoint": 65,
           "trajectory": "persistent_beta_param",
           "upper": 0.14401710629463196
          },
          {
           "lower": 0.13497437983751298,
           "timepoint": 70,
           "trajectory": "persistent_beta_param",
           "upper": 0.14401710629463196
          },
          {
           "lower": 0.13497437983751298,
           "timepoint": 75,
           "trajectory": "persistent_beta_param",
           "upper": 0.14401710629463196
          },
          {
           "lower": 0.13497437983751298,
           "timepoint": 80,
           "trajectory": "persistent_beta_param",
           "upper": 0.14401710629463196
          },
          {
           "lower": 0.13497437983751298,
           "timepoint": 85,
           "trajectory": "persistent_beta_param",
           "upper": 0.14401710629463196
          },
          {
           "lower": 0.13497437983751298,
           "timepoint": 90,
           "trajectory": "persistent_beta_param",
           "upper": 0.14401710629463196
          },
          {
           "lower": 0.13497437983751298,
           "timepoint": 95,
           "trajectory": "persistent_beta_param",
           "upper": 0.14401710629463196
          },
          {
           "lower": 0.13497437983751298,
           "timepoint": 100,
           "trajectory": "persistent_beta_param",
           "upper": 0.14401710629463196
          },
          {
           "lower": 0.13497437983751298,
           "timepoint": 105,
           "trajectory": "persistent_beta_param",
           "upper": 0.14401710629463196
          },
          {
           "lower": 0.13497437983751298,
           "timepoint": 110,
           "trajectory": "persistent_beta_param",
           "upper": 0.14401710629463196
          },
          {
           "lower": 0.13497437983751298,
           "timepoint": 115,
           "trajectory": "persistent_beta_param",
           "upper": 0.14401710629463196
          },
          {
           "lower": 0.13497437983751298,
           "timepoint": 120,
           "trajectory": "persistent_beta_param",
           "upper": 0.14401710629463196
          },
          {
           "lower": 0.13497437983751298,
           "timepoint": 125,
           "trajectory": "persistent_beta_param",
           "upper": 0.14401710629463196
          },
          {
           "lower": 0.13497437983751298,
           "timepoint": 130,
           "trajectory": "persistent_beta_param",
           "upper": 0.14401710629463196
          },
          {
           "lower": 0.13497437983751298,
           "timepoint": 135,
           "trajectory": "persistent_beta_param",
           "upper": 0.14401710629463196
          },
          {
           "lower": 0.13497437983751298,
           "timepoint": 140,
           "trajectory": "persistent_beta_param",
           "upper": 0.14401710629463196
          },
          {
           "lower": 0.13497437983751298,
           "timepoint": 145,
           "trajectory": "persistent_beta_param",
           "upper": 0.14401710629463196
          },
          {
           "lower": 86.03583221435547,
           "timepoint": 5,
           "trajectory": "recovered_observable_state",
           "upper": 89.40731468200684
          },
          {
           "lower": 619.0432861328125,
           "timepoint": 10,
           "trajectory": "recovered_observable_state",
           "upper": 689.1217102050781
          },
          {
           "lower": 4256.2212890625,
           "timepoint": 15,
           "trajectory": "recovered_observable_state",
           "upper": 5102.83876953125
          },
          {
           "lower": 29114.0806640625,
           "timepoint": 20,
           "trajectory": "recovered_observable_state",
           "upper": 37543.1701171875
          },
          {
           "lower": 192430.2578125,
           "timepoint": 25,
           "trajectory": "recovered_observable_state",
           "upper": 262356.06875
          },
          {
           "lower": 1056175.5875,
           "timepoint": 30,
           "trajectory": "recovered_observable_state",
           "upper": 1411322.89375
          },
          {
           "lower": 3608792.5875,
           "timepoint": 35,
           "trajectory": "recovered_observable_state",
           "upper": 4385001.3
          },
          {
           "lower": 7648981.5,
           "timepoint": 40,
           "trajectory": "recovered_observable_state",
           "upper": 8642228.25
          },
          {
           "lower": 12218771.95,
           "timepoint": 45,
           "trajectory": "recovered_observable_state",
           "upper": 13240076.65
          },
          {
           "lower": 16668728.2,
           "timepoint": 50,
           "trajectory": "recovered_observable_state",
           "upper": 17616892.3
          },
          {
           "lower": 20679175.3,
           "timepoint": 55,
           "trajectory": "recovered_observable_state",
           "upper": 21509982.4
          },
          {
           "lower": 24128676.3,
           "timepoint": 60,
           "trajectory": "recovered_observable_state",
           "upper": 24830247.7
          },
          {
           "lower": 27004904.7,
           "timepoint": 65,
           "trajectory": "recovered_observable_state",
           "upper": 27582333.5
          },
          {
           "lower": 29350698.2,
           "timepoint": 70,
           "trajectory": "recovered_observable_state",
           "upper": 29817127.5
          },
          {
           "lower": 31232588.7,
           "timepoint": 75,
           "trajectory": "recovered_observable_state",
           "upper": 31604070.4
          },
          {
           "lower": 32723364.9,
           "timepoint": 80,
           "trajectory": "recovered_observable_state",
           "upper": 33015937
          },
          {
           "lower": 33892505.6,
           "timepoint": 85,
           "trajectory": "recovered_observable_state",
           "upper": 34120901.6
          },
          {
           "lower": 34802040,
           "timepoint": 90,
           "trajectory": "recovered_observable_state",
           "upper": 34979046.2
          },
          {
           "lower": 35504942.8,
           "timepoint": 95,
           "trajectory": "recovered_observable_state",
           "upper": 35641306
          },
          {
           "lower": 36045161.6,
           "timepoint": 100,
           "trajectory": "recovered_observable_state",
           "upper": 36149696.4
          },
          {
           "lower": 36458450.2,
           "timepoint": 105,
           "trajectory": "recovered_observable_state",
           "upper": 36538237.2
          },
          {
           "lower": 36773380.8,
           "timepoint": 110,
           "trajectory": "recovered_observable_state",
           "upper": 36834067.8
          },
          {
           "lower": 37012563.2,
           "timepoint": 115,
           "trajectory": "recovered_observable_state",
           "upper": 37058580.6
          },
          {
           "lower": 37193712.6,
           "timepoint": 120,
           "trajectory": "recovered_observable_state",
           "upper": 37228478
          },
          {
           "lower": 37330518.4,
           "timepoint": 125,
           "trajectory": "recovered_observable_state",
           "upper": 37356767.6
          },
          {
           "lower": 37433648.4,
           "timepoint": 130,
           "trajectory": "recovered_observable_state",
           "upper": 37453420.2
          },
          {
           "lower": 37511237.4,
           "timepoint": 135,
           "trajectory": "recovered_observable_state",
           "upper": 37526087.6
          },
          {
           "lower": 37569508.8,
           "timepoint": 140,
           "trajectory": "recovered_observable_state",
           "upper": 37580659.4
          },
          {
           "lower": 37613207.8,
           "timepoint": 145,
           "trajectory": "recovered_observable_state",
           "upper": 37621568
          },
          {
           "lower": 37738015.4,
           "timepoint": 5,
           "trajectory": "susceptible_observable_state",
           "upper": 37738408.4
          },
          {
           "lower": 37710553.2,
           "timepoint": 10,
           "trajectory": "susceptible_observable_state",
           "upper": 37715548.2
          },
          {
           "lower": 37507609,
           "timepoint": 15,
           "trajectory": "susceptible_observable_state",
           "upper": 37558740.8
          },
          {
           "lower": 36049025.8,
           "timepoint": 20,
           "trajectory": "susceptible_observable_state",
           "upper": 36503460.8
          },
          {
           "lower": 27491566.4,
           "timepoint": 25,
           "trajectory": "susceptible_observable_state",
           "upper": 30323502.2
          },
          {
           "lower": 7640071.125,
           "timepoint": 30,
           "trajectory": "susceptible_observable_state",
           "upper": 11987002.9
          },
          {
           "lower": 484402.6046875,
           "timepoint": 35,
           "trajectory": "susceptible_observable_state",
           "upper": 1158478.5125
          },
          {
           "lower": 14436.033056640625,
           "timepoint": 40,
           "trajectory": "susceptible_observable_state",
           "upper": 47861.098242187494
          },
          {
           "lower": 339.3516357421875,
           "timepoint": 45,
           "trajectory": "susceptible_observable_state",
           "upper": 1450.696856689453
          },
          {
           "lower": 9.371075916290284,
           "timepoint": 50,
           "trajectory": "susceptible_observable_state",
           "upper": 47.593760871887206
          },
          {
           "lower": 0.37931403517723083,
           "timepoint": 55,
           "trajectory": "susceptible_observable_state",
           "upper": 2.1554327607154846
          },
          {
           "lower": 0.0244075795635581,
           "timepoint": 60,
           "trajectory": "susceptible_observable_state",
           "upper": 0.14910451099276542
          },
          {
           "lower": 0.0024992597289383413,
           "timepoint": 65,
           "trajectory": "susceptible_observable_state",
           "upper": 0.015991399157792328
          },
          {
           "lower": 0.0003916120986104943,
           "timepoint": 70,
           "trajectory": "susceptible_observable_state",
           "upper": 0.002580449683591723
          },
          {
           "lower": 8.880340392352082e-05,
           "timepoint": 75,
           "trajectory": "susceptible_observable_state",
           "upper": 0.0005960665992461144
          },
          {
           "lower": 2.7465212588140277e-05,
           "timepoint": 80,
           "trajectory": "susceptible_observable_state",
           "upper": 0.00018648115728865376
          },
          {
           "lower": 1.0955113839372644e-05,
           "timepoint": 85,
           "trajectory": "susceptible_observable_state",
           "upper": 7.49066355638206e-05
          },
          {
           "lower": 5.363130844671104e-06,
           "timepoint": 90,
           "trajectory": "susceptible_observable_state",
           "upper": 3.682575679704314e-05
          },
          {
           "lower": 3.0896282169123878e-06,
           "timepoint": 95,
           "trajectory": "susceptible_observable_state",
           "upper": 2.1266993098834063e-05
          },
          {
           "lower": 2.022838941684313e-06,
           "timepoint": 100,
           "trajectory": "susceptible_observable_state",
           "upper": 1.394304395034851e-05
          },
          {
           "lower": 1.4632815691584256e-06,
           "timepoint": 105,
           "trajectory": "susceptible_observable_state",
           "upper": 1.0093380797115968e-05
          },
          {
           "lower": 1.1434552675382293e-06,
           "timepoint": 110,
           "trajectory": "susceptible_observable_state",
           "upper": 7.889907556091202e-06
          },
          {
           "lower": 9.482224726298228e-07,
           "timepoint": 115,
           "trajectory": "susceptible_observable_state",
           "upper": 6.5435257738499776e-06
          },
          {
           "lower": 8.229259719882976e-07,
           "timepoint": 120,
           "trajectory": "susceptible_observable_state",
           "upper": 5.678837965206184e-06
          },
          {
           "lower": 7.394059821308474e-07,
           "timepoint": 125,
           "trajectory": "susceptible_observable_state",
           "upper": 5.102147110846999e-06
          },
          {
           "lower": 6.821200798867721e-07,
           "timepoint": 130,
           "trajectory": "susceptible_observable_state",
           "upper": 4.706435152002086e-06
          },
          {
           "lower": 6.419773995958167e-07,
           "timepoint": 135,
           "trajectory": "susceptible_observable_state",
           "upper": 4.429050295584602e-06
          },
          {
           "lower": 6.133953462494901e-07,
           "timepoint": 140,
           "trajectory": "susceptible_observable_state",
           "upper": 4.231494358464261e-06
          },
          {
           "lower": 5.928023171009045e-07,
           "timepoint": 145,
           "trajectory": "susceptible_observable_state",
           "upper": 4.089117874173098e-06
          }
         ]
        },
        {
         "name": "traces",
         "transform": [
          {
           "expr": "isValid(datum.value)",
           "type": "filter"
          },
          {
           "sort": {
            "field": [
             "trajectory",
             "timepoint"
            ]
           },
           "type": "collect"
          }
         ],
         "values": []
        },
        {
         "name": "points",
         "values": [
          {
           "sample_id": 0,
           "timepoint": 0,
           "trajectory": "I_y",
           "value": 50
          },
          {
           "sample_id": 0,
           "timepoint": 1,
           "trajectory": "I_y",
           "value": 54.76844049945464
          },
          {
           "sample_id": 0,
           "timepoint": 2,
           "trajectory": "I_y",
           "value": 67.12543867926537
          },
          {
           "sample_id": 0,
           "timepoint": 3,
           "trajectory": "I_y",
           "value": 88.07904334551255
          },
          {
           "sample_id": 0,
           "timepoint": 4,
           "trajectory": "I_y",
           "value": 119.90532325717972
          },
          {
           "sample_id": 0,
           "timepoint": 5,
           "trajectory": "I_y",
           "value": 166.3519376994675
          },
          {
           "sample_id": 0,
           "timepoint": 6,
           "trajectory": "I_y",
           "value": 233.05354782301097
          },
          {
           "sample_id": 0,
           "timepoint": 7,
           "trajectory": "I_y",
           "value": 328.198692928947
          },
          {
           "sample_id": 0,
           "timepoint": 8,
           "trajectory": "I_y",
           "value": 463.5219319457025
          },
          {
           "sample_id": 0,
           "timepoint": 9,
           "trajectory": "I_y",
           "value": 655.7393431633577
          },
          {
           "sample_id": 0,
           "timepoint": 10,
           "trajectory": "I_y",
           "value": 928.5991278369252
          },
          {
           "sample_id": 0,
           "timepoint": 11,
           "trajectory": "I_y",
           "value": 1315.7963085672675
          },
          {
           "sample_id": 0,
           "timepoint": 12,
           "trajectory": "I_y",
           "value": 1865.1032499381215
          },
          {
           "sample_id": 0,
           "timepoint": 13,
           "trajectory": "I_y",
           "value": 2644.213705698513
          },
          {
           "sample_id": 0,
           "timepoint": 14,
           "trajectory": "I_y",
           "value": 3748.9962411421902
          },
          {
           "sample_id": 0,
           "timepoint": 15,
           "trajectory": "I_y",
           "value": 5315.130023033656
          },
          {
           "sample_id": 0,
           "timepoint": 16,
           "trajectory": "I_y",
           "value": 7534.467258737611
          },
          {
           "sample_id": 0,
           "timepoint": 17,
           "trajectory": "I_y",
           "value": 10677.95758652167
          },
          {
           "sample_id": 0,
           "timepoint": 18,
           "trajectory": "I_y",
           "value": 15127.60850982789
          },
          {
           "sample_id": 0,
           "timepoint": 19,
           "trajectory": "I_y",
           "value": 21420.718979274418
          },
          {
           "sample_id": 0,
           "timepoint": 20,
           "trajectory": "I_y",
           "value": 30310.44695711411
          },
          {
           "sample_id": 0,
           "timepoint": 21,
           "trajectory": "I_y",
           "value": 40875.19783339374
          },
          {
           "sample_id": 0,
           "timepoint": 22,
           "trajectory": "I_y",
           "value": 51853.301466266304
          },
          {
           "sample_id": 0,
           "timepoint": 23,
           "trajectory": "I_y",
           "value": 63664.89147779658
          },
          {
           "sample_id": 0,
           "timepoint": 24,
           "trajectory": "I_y",
           "value": 76706.18752256814
          },
          {
           "sample_id": 0,
           "timepoint": 25,
           "trajectory": "I_y",
           "value": 91367.87458229616
          },
          {
           "sample_id": 0,
           "timepoint": 26,
           "trajectory": "I_y",
           "value": 108050.11248979288
          },
          {
           "sample_id": 0,
           "timepoint": 27,
           "trajectory": "I_y",
           "value": 127174.84601082612
          },
          {
           "sample_id": 0,
           "timepoint": 28,
           "trajectory": "I_y",
           "value": 149196.02562270965
          },
          {
           "sample_id": 0,
           "timepoint": 29,
           "trajectory": "I_y",
           "value": 174607.97304902316
          },
          {
           "sample_id": 0,
           "timepoint": 30,
           "trajectory": "I_y",
           "value": 203951.9356485652
          },
          {
           "sample_id": 0,
           "timepoint": 31,
           "trajectory": "I_y",
           "value": 237820.6043748803
          },
          {
           "sample_id": 0,
           "timepoint": 32,
           "trajectory": "I_y",
           "value": 276860.0977917608
          },
          {
           "sample_id": 0,
           "timepoint": 33,
           "trajectory": "I_y",
           "value": 321768.8283896769
          },
          {
           "sample_id": 0,
           "timepoint": 34,
           "trajectory": "I_y",
           "value": 373292.3067936868
          },
          {
           "sample_id": 0,
           "timepoint": 35,
           "trajectory": "I_y",
           "value": 432212.8101954211
          },
          {
           "sample_id": 0,
           "timepoint": 36,
           "trajectory": "I_y",
           "value": 499332.4601073938
          },
          {
           "sample_id": 0,
           "timepoint": 37,
           "trajectory": "I_y",
           "value": 575449.0655378785
          },
          {
           "sample_id": 0,
           "timepoint": 38,
           "trajectory": "I_y",
           "value": 661323.0140889081
          },
          {
           "sample_id": 0,
           "timepoint": 39,
           "trajectory": "I_y",
           "value": 757634.8281256454
          },
          {
           "sample_id": 0,
           "timepoint": 40,
           "trajectory": "I_y",
           "value": 864933.4776537506
          },
          {
           "sample_id": 0,
           "timepoint": 41,
           "trajectory": "I_y",
           "value": 983576.7488674916
          },
          {
           "sample_id": 0,
           "timepoint": 42,
           "trajectory": "I_y",
           "value": 1113666.3796754302
          },
          {
           "sample_id": 0,
           "timepoint": 43,
           "trajectory": "I_y",
           "value": 1254982.6150820036
          },
          {
           "sample_id": 0,
           "timepoint": 44,
           "trajectory": "I_y",
           "value": 1406924.623778465
          },
          {
           "sample_id": 0,
           "timepoint": 45,
           "trajectory": "I_y",
           "value": 1568464.597734082
          },
          {
           "sample_id": 0,
           "timepoint": 46,
           "trajectory": "I_y",
           "value": 1738124.0257879985
          },
          {
           "sample_id": 0,
           "timepoint": 47,
           "trajectory": "I_y",
           "value": 1913979.7944315053
          },
          {
           "sample_id": 0,
           "timepoint": 48,
           "trajectory": "I_y",
           "value": 2093705.355857268
          },
          {
           "sample_id": 0,
           "timepoint": 49,
           "trajectory": "I_y",
           "value": 2274648.2209171485
          },
          {
           "sample_id": 0,
           "timepoint": 50,
           "trajectory": "I_y",
           "value": 2453939.789008833
          },
          {
           "sample_id": 0,
           "timepoint": 51,
           "trajectory": "I_y",
           "value": 2624350.459190919
          },
          {
           "sample_id": 0,
           "timepoint": 52,
           "trajectory": "I_y",
           "value": 2780660.082552712
          },
          {
           "sample_id": 0,
           "timepoint": 53,
           "trajectory": "I_y",
           "value": 2922775.6539981524
          },
          {
           "sample_id": 0,
           "timepoint": 54,
           "trajectory": "I_y",
           "value": 3050493.062109983
          },
          {
           "sample_id": 0,
           "timepoint": 55,
           "trajectory": "I_y",
           "value": 3163591.2767420607
          },
          {
           "sample_id": 0,
           "timepoint": 56,
           "trajectory": "I_y",
           "value": 3261903.64702867
          },
          {
           "sample_id": 0,
           "timepoint": 57,
           "trajectory": "I_y",
           "value": 3345368.386735579
          },
          {
           "sample_id": 0,
           "timepoint": 58,
           "trajectory": "I_y",
           "value": 3414057.390962636
          },
          {
           "sample_id": 0,
           "timepoint": 59,
           "trajectory": "I_y",
           "value": 3468190.2200619723
          },
          {
           "sample_id": 0,
           "timepoint": 60,
           "trajectory": "I_y",
           "value": 3508133.3689514506
          },
          {
           "sample_id": 0,
           "timepoint": 61,
           "trajectory": "I_y",
           "value": 3534390.979222826
          },
          {
           "sample_id": 0,
           "timepoint": 62,
           "trajectory": "I_y",
           "value": 3547588.316630364
          },
          {
           "sample_id": 0,
           "timepoint": 63,
           "trajectory": "I_y",
           "value": 3548451.215222767
          },
          {
           "sample_id": 0,
           "timepoint": 64,
           "trajectory": "I_y",
           "value": 3537783.753810789
          },
          {
           "sample_id": 0,
           "timepoint": 65,
           "trajectory": "I_y",
           "value": 3516445.8012366686
          },
          {
           "sample_id": 0,
           "timepoint": 66,
           "trajectory": "I_y",
           "value": 3485331.74115358
          },
          {
           "sample_id": 0,
           "timepoint": 67,
           "trajectory": "I_y",
           "value": 3445351.2045058343
          },
          {
           "sample_id": 0,
           "timepoint": 68,
           "trajectory": "I_y",
           "value": 3397412.284356815
          },
          {
           "sample_id": 0,
           "timepoint": 69,
           "trajectory": "I_y",
           "value": 3342407.4384552008
          },
          {
           "sample_id": 0,
           "timepoint": 70,
           "trajectory": "I_y",
           "value": 3281202.071552026
          },
          {
           "sample_id": 0,
           "timepoint": 71,
           "trajectory": "I_y",
           "value": 3214625.649902515
          },
          {
           "sample_id": 0,
           "timepoint": 72,
           "trajectory": "I_y",
           "value": 3143465.1130753737
          },
          {
           "sample_id": 0,
           "timepoint": 73,
           "trajectory": "I_y",
           "value": 3068460.3019043244
          },
          {
           "sample_id": 0,
           "timepoint": 74,
           "trajectory": "I_y",
           "value": 2990301.1068245294
          },
          {
           "sample_id": 0,
           "timepoint": 75,
           "trajectory": "I_y",
           "value": 2909626.047070287
          },
          {
           "sample_id": 0,
           "timepoint": 76,
           "trajectory": "I_y",
           "value": 2827022.010952801
          },
          {
           "sample_id": 0,
           "timepoint": 77,
           "trajectory": "I_y",
           "value": 2743024.915055706
          },
          {
           "sample_id": 0,
           "timepoint": 78,
           "trajectory": "I_y",
           "value": 2658121.068233936
          },
          {
           "sample_id": 0,
           "timepoint": 79,
           "trajectory": "I_y",
           "value": 2572749.0597965405
          },
          {
           "sample_id": 0,
           "timepoint": 80,
           "trajectory": "I_y",
           "value": 2487302.049350701
          },
          {
           "sample_id": 0,
           "timepoint": 81,
           "trajectory": "I_y",
           "value": 2402311.29193452
          },
          {
           "sample_id": 0,
           "timepoint": 82,
           "trajectory": "I_y",
           "value": 2318136.3973649982
          },
          {
           "sample_id": 0,
           "timepoint": 83,
           "trajectory": "I_y",
           "value": 2234910.9110614383
          },
          {
           "sample_id": 0,
           "timepoint": 84,
           "trajectory": "I_y",
           "value": 2152788.8706507687
          },
          {
           "sample_id": 0,
           "timepoint": 85,
           "trajectory": "I_y",
           "value": 2071927.816613684
          },
          {
           "sample_id": 0,
           "timepoint": 86,
           "trajectory": "I_y",
           "value": 1992478.5908274185
          },
          {
           "sample_id": 0,
           "timepoint": 87,
           "trajectory": "I_y",
           "value": 1914579.4659831508
          },
          {
           "sample_id": 0,
           "timepoint": 88,
           "trajectory": "I_y",
           "value": 1838353.0640745035
          },
          {
           "sample_id": 0,
           "timepoint": 89,
           "trajectory": "I_y",
           "value": 1763905.054110684
          },
          {
           "sample_id": 0,
           "timepoint": 90,
           "trajectory": "I_y",
           "value": 1691323.9709072202
          },
          {
           "sample_id": 0,
           "timepoint": 91,
           "trajectory": "I_y",
           "value": 1620681.7240527845
          },
          {
           "sample_id": 0,
           "timepoint": 92,
           "trajectory": "I_y",
           "value": 1552034.518852089
          },
          {
           "sample_id": 0,
           "timepoint": 93,
           "trajectory": "I_y",
           "value": 1485424.0012931293
          },
          {
           "sample_id": 0,
           "timepoint": 94,
           "trajectory": "I_y",
           "value": 1420878.5096127028
          },
          {
           "sample_id": 0,
           "timepoint": 95,
           "trajectory": "I_y",
           "value": 1358414.3545799465
          },
          {
           "sample_id": 0,
           "timepoint": 96,
           "trajectory": "I_y",
           "value": 1298037.0791656987
          },
          {
           "sample_id": 0,
           "timepoint": 97,
           "trajectory": "I_y",
           "value": 1239742.667580893
          },
          {
           "sample_id": 0,
           "timepoint": 98,
           "trajectory": "I_y",
           "value": 1183518.6856340086
          },
          {
           "sample_id": 0,
           "timepoint": 99,
           "trajectory": "I_y",
           "value": 1129345.3433263488
          },
          {
           "sample_id": 0,
           "timepoint": 100,
           "trajectory": "I_y",
           "value": 1077196.4825417378
          },
          {
           "sample_id": 0,
           "timepoint": 101,
           "trajectory": "I_y",
           "value": 1027040.8730769462
          },
          {
           "sample_id": 0,
           "timepoint": 102,
           "trajectory": "I_y",
           "value": 978842.3817496644
          },
          {
           "sample_id": 0,
           "timepoint": 103,
           "trajectory": "I_y",
           "value": 932560.4961753011
          },
          {
           "sample_id": 0,
           "timepoint": 104,
           "trajectory": "I_y",
           "value": 888151.5587075496
          },
          {
           "sample_id": 0,
           "timepoint": 105,
           "trajectory": "I_y",
           "value": 845569.3376991084
          },
          {
           "sample_id": 0,
           "timepoint": 106,
           "trajectory": "I_y",
           "value": 804765.5442849597
          },
          {
           "sample_id": 0,
           "timepoint": 107,
           "trajectory": "I_y",
           "value": 765690.298169881
          },
          {
           "sample_id": 0,
           "timepoint": 108,
           "trajectory": "I_y",
           "value": 728292.5444055579
          },
          {
           "sample_id": 0,
           "timepoint": 109,
           "trajectory": "I_y",
           "value": 692520.4245587053
          },
          {
           "sample_id": 0,
           "timepoint": 110,
           "trajectory": "I_y",
           "value": 658321.605642361
          },
          {
           "sample_id": 0,
           "timepoint": 111,
           "trajectory": "I_y",
           "value": 625643.5702106933
          },
          {
           "sample_id": 0,
           "timepoint": 112,
           "trajectory": "I_y",
           "value": 594433.8707922946
          },
          {
           "sample_id": 0,
           "timepoint": 113,
           "trajectory": "I_y",
           "value": 564640.3518766435
          },
          {
           "sample_id": 0,
           "timepoint": 114,
           "trajectory": "I_y",
           "value": 536211.3424134484
          },
          {
           "sample_id": 0,
           "timepoint": 115,
           "trajectory": "I_y",
           "value": 509095.82164438686
          },
          {
           "sample_id": 0,
           "timepoint": 116,
           "trajectory": "I_y",
           "value": 483243.5607678226
          },
          {
           "sample_id": 0,
           "timepoint": 117,
           "trajectory": "I_y",
           "value": 458605.2430258957
          },
          {
           "sample_id": 0,
           "timepoint": 118,
           "trajectory": "I_y",
           "value": 435132.564230408
          },
          {
           "sample_id": 0,
           "timepoint": 119,
           "trajectory": "I_y",
           "value": 412778.3158685303
          },
          {
           "sample_id": 0,
           "timepoint": 120,
           "trajectory": "I_y",
           "value": 391496.4526176301
          },
          {
           "sample_id": 0,
           "timepoint": 121,
           "trajectory": "I_y",
           "value": 371242.1459682557
          },
          {
           "sample_id": 0,
           "timepoint": 122,
           "trajectory": "I_y",
           "value": 351971.8255049676
          },
          {
           "sample_id": 0,
           "timepoint": 123,
           "trajectory": "I_y",
           "value": 333643.2092398595
          },
          {
           "sample_id": 0,
           "timepoint": 124,
           "trajectory": "I_y",
           "value": 316215.32429604104
          },
          {
           "sample_id": 0,
           "timepoint": 125,
           "trajectory": "I_y",
           "value": 299648.51907182694
          },
          {
           "sample_id": 0,
           "timepoint": 126,
           "trajectory": "I_y",
           "value": 283904.46794997726
          },
          {
           "sample_id": 0,
           "timepoint": 127,
           "trajectory": "I_y",
           "value": 268946.1694895926
          },
          {
           "sample_id": 0,
           "timepoint": 128,
           "trajectory": "I_y",
           "value": 254737.9389548052
          },
          {
           "sample_id": 0,
           "timepoint": 129,
           "trajectory": "I_y",
           "value": 241245.395948488
          },
          {
           "sample_id": 0,
           "timepoint": 130,
           "trajectory": "I_y",
           "value": 228435.4478410561
          },
          {
           "sample_id": 0,
           "timepoint": 131,
           "trajectory": "I_y",
           "value": 216276.26961467095
          },
          {
           "sample_id": 0,
           "timepoint": 132,
           "trajectory": "I_y",
           "value": 204737.2806784886
          },
          {
           "sample_id": 0,
           "timepoint": 133,
           "trajectory": "I_y",
           "value": 193789.11915219828
          },
          {
           "sample_id": 0,
           "timepoint": 134,
           "trajectory": "I_y",
           "value": 183403.614061882
          },
          {
           "sample_id": 0,
           "timepoint": 135,
           "trajectory": "I_y",
           "value": 173553.7558438933
          },
          {
           "sample_id": 0,
           "timepoint": 136,
           "trajectory": "I_y",
           "value": 164213.66550861462
          },
          {
           "sample_id": 0,
           "timepoint": 137,
           "trajectory": "I_y",
           "value": 155358.56277620196
          },
          {
           "sample_id": 0,
           "timepoint": 138,
           "trajectory": "I_y",
           "value": 146964.73346043288
          },
          {
           "sample_id": 0,
           "timepoint": 139,
           "trajectory": "I_y",
           "value": 139009.4963442137
          },
          {
           "sample_id": 0,
           "timepoint": 140,
           "trajectory": "I_y",
           "value": 131471.16976087695
          },
          {
           "sample_id": 0,
           "timepoint": 141,
           "trajectory": "I_y",
           "value": 124329.03806884124
          },
          {
           "sample_id": 0,
           "timepoint": 142,
           "trajectory": "I_y",
           "value": 117563.31818325663
          },
          {
           "sample_id": 0,
           "timepoint": 143,
           "trajectory": "I_y",
           "value": 111155.12630669522
          },
          {
           "sample_id": 0,
           "timepoint": 144,
           "trajectory": "I_y",
           "value": 105086.44498154896
          },
          {
           "sample_id": 0,
           "timepoint": 145,
           "trajectory": "I_y",
           "value": 99340.09056937874
          },
          {
           "sample_id": 0,
           "timepoint": 146,
           "trajectory": "I_y",
           "value": 93899.6812468339
          },
          {
           "sample_id": 0,
           "timepoint": 147,
           "trajectory": "I_y",
           "value": 88749.60559377281
          },
          {
           "sample_id": 0,
           "timepoint": 148,
           "trajectory": "I_y",
           "value": 83874.99183670913
          },
          {
           "sample_id": 0,
           "timepoint": 149,
           "trajectory": "I_y",
           "value": 79261.67779954964
          },
          {
           "sample_id": 0,
           "timepoint": 150,
           "trajectory": "I_y",
           "value": 74896.18160365234
          },
          {
           "sample_id": 0,
           "timepoint": 0,
           "trajectory": "I_m",
           "value": 50
          },
          {
           "sample_id": 0,
           "timepoint": 1,
           "trajectory": "I_m",
           "value": 56.236214225965696
          },
          {
           "sample_id": 0,
           "timepoint": 2,
           "trajectory": "I_m",
           "value": 73.02524272413537
          },
          {
           "sample_id": 0,
           "timepoint": 3,
           "trajectory": "I_m",
           "value": 101.79273577358346
          },
          {
           "sample_id": 0,
           "timepoint": 4,
           "trajectory": "I_m",
           "value": 145.74112083180276
          },
          {
           "sample_id": 0,
           "timepoint": 5,
           "trajectory": "I_m",
           "value": 210.1322775140568
          },
          {
           "sample_id": 0,
           "timepoint": 6,
           "trajectory": "I_m",
           "value": 302.8660397679341
          },
          {
           "sample_id": 0,
           "timepoint": 7,
           "trajectory": "I_m",
           "value": 435.4095111781269
          },
          {
           "sample_id": 0,
           "timepoint": 8,
           "trajectory": "I_m",
           "value": 624.1798265006489
          },
          {
           "sample_id": 0,
           "timepoint": 9,
           "trajectory": "I_m",
           "value": 892.5447262657582
          },
          {
           "sample_id": 0,
           "timepoint": 10,
           "trajectory": "I_m",
           "value": 1273.6800769794295
          },
          {
           "sample_id": 0,
           "timepoint": 11,
           "trajectory": "I_m",
           "value": 1814.6311320010916
          },
          {
           "sample_id": 0,
           "timepoint": 12,
           "trajectory": "I_m",
           "value": 2582.067581198414
          },
          {
           "sample_id": 0,
           "timepoint": 13,
           "trajectory": "I_m",
           "value": 3670.426119851629
          },
          {
           "sample_id": 0,
           "timepoint": 14,
           "trajectory": "I_m",
           "value": 5213.411053450941
          },
          {
           "sample_id": 0,
           "timepoint": 15,
           "trajectory": "I_m",
           "value": 7400.211214249435
          },
          {
           "sample_id": 0,
           "timepoint": 16,
           "trajectory": "I_m",
           "value": 10498.312300135738
          },
          {
           "sample_id": 0,
           "timepoint": 17,
           "trajectory": "I_m",
           "value": 14885.4752488386
          },
          {
           "sample_id": 0,
           "timepoint": 18,
           "trajectory": "I_m",
           "value": 21094.35652350576
          },
          {
           "sample_id": 0,
           "timepoint": 19,
           "trajectory": "I_m",
           "value": 29874.340105293293
          },
          {
           "sample_id": 0,
           "timepoint": 20,
           "trajectory": "I_m",
           "value": 42276.359259429424
          },
          {
           "sample_id": 0,
           "timepoint": 21,
           "trajectory": "I_m",
           "value": 57015.38103124442
          },
          {
           "sample_id": 0,
           "timepoint": 22,
           "trajectory": "I_m",
           "value": 72331.52609696313
          },
          {
           "sample_id": 0,
           "timepoint": 23,
           "trajectory": "I_m",
           "value": 88811.4605913911
          },
          {
           "sample_id": 0,
           "timepoint": 24,
           "trajectory": "I_m",
           "value": 107008.91379354236
          },
          {
           "sample_id": 0,
           "timepoint": 25,
           "trajectory": "I_m",
           "value": 127470.46019564626
          },
          {
           "sample_id": 0,
           "timepoint": 26,
           "trajectory": "I_m",
           "value": 150756.66030253295
          },
          {
           "sample_id": 0,
           "timepoint": 27,
           "trajectory": "I_m",
           "value": 177459.51258486143
          },
          {
           "sample_id": 0,
           "timepoint": 28,
           "trajectory": "I_m",
           "value": 208217.09008163615
          },
          {
           "sample_id": 0,
           "timepoint": 29,
           "trajectory": "I_m",
           "value": 243725.71394886205
          },
          {
           "sample_id": 0,
           "timepoint": 30,
           "trajectory": "I_m",
           "value": 284749.75522212364
          },
          {
           "sample_id": 0,
           "timepoint": 31,
           "trajectory": "I_m",
           "value": 332128.78674313327
          },
          {
           "sample_id": 0,
           "timepoint": 32,
           "trajectory": "I_m",
           "value": 386781.4299433503
          },
          {
           "sample_id": 0,
           "timepoint": 33,
           "trajectory": "I_m",
           "value": 449705.11359247
          },
          {
           "sample_id": 0,
           "timepoint": 34,
           "trajectory": "I_m",
           "value": 521970.4510485249
          },
          {
           "sample_id": 0,
           "timepoint": 35,
           "trajectory": "I_m",
           "value": 604708.743500324
          },
          {
           "sample_id": 0,
           "timepoint": 36,
           "trajectory": "I_m",
           "value": 699090.5578676357
          },
          {
           "sample_id": 0,
           "timepoint": 37,
           "trajectory": "I_m",
           "value": 806294.3466201021
          },
          {
           "sample_id": 0,
           "timepoint": 38,
           "trajectory": "I_m",
           "value": 927462.5882801532
          },
          {
           "sample_id": 0,
           "timepoint": 39,
           "trajectory": "I_m",
           "value": 1063644.597923949
          },
          {
           "sample_id": 0,
           "timepoint": 40,
           "trajectory": "I_m",
           "value": 1215725.726660651
          },
          {
           "sample_id": 0,
           "timepoint": 41,
           "trajectory": "I_m",
           "value": 1384344.2132457974
          },
          {
           "sample_id": 0,
           "timepoint": 42,
           "trajectory": "I_m",
           "value": 1569798.8256290194
          },
          {
           "sample_id": 0,
           "timepoint": 43,
           "trajectory": "I_m",
           "value": 1771953.112766293
          },
          {
           "sample_id": 0,
           "timepoint": 44,
           "trajectory": "I_m",
           "value": 1990144.6924530135
          },
          {
           "sample_id": 0,
           "timepoint": 45,
           "trajectory": "I_m",
           "value": 2223110.2261686707
          },
          {
           "sample_id": 0,
           "timepoint": 46,
           "trajectory": "I_m",
           "value": 2468938.1646757224
          },
          {
           "sample_id": 0,
           "timepoint": 47,
           "trajectory": "I_m",
           "value": 2725060.8551463047
          },
          {
           "sample_id": 0,
           "timepoint": 48,
           "trajectory": "I_m",
           "value": 2988294.964908458
          },
          {
           "sample_id": 0,
           "timepoint": 49,
           "trajectory": "I_m",
           "value": 3254934.2267363854
          },
          {
           "sample_id": 0,
           "timepoint": 50,
           "trajectory": "I_m",
           "value": 3520891.5124290893
          },
          {
           "sample_id": 0,
           "timepoint": 51,
           "trajectory": "I_m",
           "value": 3775312.628031479
          },
          {
           "sample_id": 0,
           "timepoint": 52,
           "trajectory": "I_m",
           "value": 4010224.7910207706
          },
          {
           "sample_id": 0,
           "timepoint": 53,
           "trajectory": "I_m",
           "value": 4225423.915356531
          },
          {
           "sample_id": 0,
           "timepoint": 54,
           "trajectory": "I_m",
           "value": 4420504.996176578
          },
          {
           "sample_id": 0,
           "timepoint": 55,
           "trajectory": "I_m",
           "value": 4595006.792734076
          },
          {
           "sample_id": 0,
           "timepoint": 56,
           "trajectory": "I_m",
           "value": 4748524.290806878
          },
          {
           "sample_id": 0,
           "timepoint": 57,
           "trajectory": "I_m",
           "value": 4880791.264505126
          },
          {
           "sample_id": 0,
           "timepoint": 58,
           "trajectory": "I_m",
           "value": 4991731.215790682
          },
          {
           "sample_id": 0,
           "timepoint": 59,
           "trajectory": "I_m",
           "value": 5081485.854680484
          },
          {
           "sample_id": 0,
           "timepoint": 60,
           "trajectory": "I_m",
           "value": 5150420.93871077
          },
          {
           "sample_id": 0,
           "timepoint": 61,
           "trajectory": "I_m",
           "value": 5199118.121582535
          },
          {
           "sample_id": 0,
           "timepoint": 62,
           "trajectory": "I_m",
           "value": 5228354.688316071
          },
          {
           "sample_id": 0,
           "timepoint": 63,
           "trajectory": "I_m",
           "value": 5239075.893821107
          },
          {
           "sample_id": 0,
           "timepoint": 64,
           "trajectory": "I_m",
           "value": 5232363.311758418
          },
          {
           "sample_id": 0,
           "timepoint": 65,
           "trajectory": "I_m",
           "value": 5209401.8585614655
          },
          {
           "sample_id": 0,
           "timepoint": 66,
           "trajectory": "I_m",
           "value": 5171447.635911217
          },
          {
           "sample_id": 0,
           "timepoint": 67,
           "trajectory": "I_m",
           "value": 5119798.064436
          },
          {
           "sample_id": 0,
           "timepoint": 68,
           "trajectory": "I_m",
           "value": 5055765.239340099
          },
          {
           "sample_id": 0,
           "timepoint": 69,
           "trajectory": "I_m",
           "value": 4980653.006245588
          },
          {
           "sample_id": 0,
           "timepoint": 70,
           "trajectory": "I_m",
           "value": 4895737.907204248
          },
          {
           "sample_id": 0,
           "timepoint": 71,
           "trajectory": "I_m",
           "value": 4802253.900654221
          },
          {
           "sample_id": 0,
           "timepoint": 72,
           "trajectory": "I_m",
           "value": 4701380.594532648
          },
          {
           "sample_id": 0,
           "timepoint": 73,
           "trajectory": "I_m",
           "value": 4594234.632791717
          },
          {
           "sample_id": 0,
           "timepoint": 74,
           "trajectory": "I_m",
           "value": 4481863.828885869
          },
          {
           "sample_id": 0,
           "timepoint": 75,
           "trajectory": "I_m",
           "value": 4365243.629991221
          },
          {
           "sample_id": 0,
           "timepoint": 76,
           "trajectory": "I_m",
           "value": 4245275.511133961
          },
          {
           "sample_id": 0,
           "timepoint": 77,
           "trajectory": "I_m",
           "value": 4122786.930026892
          },
          {
           "sample_id": 0,
           "timepoint": 78,
           "trajectory": "I_m",
           "value": 3998532.508467292
          },
          {
           "sample_id": 0,
           "timepoint": 79,
           "trajectory": "I_m",
           "value": 3873196.152797085
          },
          {
           "sample_id": 0,
           "timepoint": 80,
           "trajectory": "I_m",
           "value": 3747393.921580775
          },
          {
           "sample_id": 0,
           "timepoint": 81,
           "trajectory": "I_m",
           "value": 3621989.06216981
          },
          {
           "sample_id": 0,
           "timepoint": 82,
           "trajectory": "I_m",
           "value": 3497556.3412038046
          },
          {
           "sample_id": 0,
           "timepoint": 83,
           "trajectory": "I_m",
           "value": 3374289.0954003884
          },
          {
           "sample_id": 0,
           "timepoint": 84,
           "trajectory": "I_m",
           "value": 3252423.5305059515
          },
          {
           "sample_id": 0,
           "timepoint": 85,
           "trajectory": "I_m",
           "value": 3132208.326904362
          },
          {
           "sample_id": 0,
           "timepoint": 86,
           "trajectory": "I_m",
           "value": 3013886.1580712623
          },
          {
           "sample_id": 0,
           "timepoint": 87,
           "trajectory": "I_m",
           "value": 2897682.825947919
          },
          {
           "sample_id": 0,
           "timepoint": 88,
           "trajectory": "I_m",
           "value": 2783801.3179420675
          },
          {
           "sample_id": 0,
           "timepoint": 89,
           "trajectory": "I_m",
           "value": 2672419.019075631
          },
          {
           "sample_id": 0,
           "timepoint": 90,
           "trajectory": "I_m",
           "value": 2563686.926967587
          },
          {
           "sample_id": 0,
           "timepoint": 91,
           "trajectory": "I_m",
           "value": 2457730.1140188677
          },
          {
           "sample_id": 0,
           "timepoint": 92,
           "trajectory": "I_m",
           "value": 2354648.9479523343
          },
          {
           "sample_id": 0,
           "timepoint": 93,
           "trajectory": "I_m",
           "value": 2254520.7394990628
          },
          {
           "sample_id": 0,
           "timepoint": 94,
           "trajectory": "I_m",
           "value": 2157401.6094401097
          },
          {
           "sample_id": 0,
           "timepoint": 95,
           "trajectory": "I_m",
           "value": 2063328.4363709604
          },
          {
           "sample_id": 0,
           "timepoint": 96,
           "trajectory": "I_m",
           "value": 1972320.7966184905
          },
          {
           "sample_id": 0,
           "timepoint": 97,
           "trajectory": "I_m",
           "value": 1884382.8416201929
          },
          {
           "sample_id": 0,
           "timepoint": 98,
           "trajectory": "I_m",
           "value": 1799505.0791221866
          },
          {
           "sample_id": 0,
           "timepoint": 99,
           "trajectory": "I_m",
           "value": 1717666.040369877
          },
          {
           "sample_id": 0,
           "timepoint": 100,
           "trajectory": "I_m",
           "value": 1638833.8346398342
          },
          {
           "sample_id": 0,
           "timepoint": 101,
           "trajectory": "I_m",
           "value": 1562968.1993792208
          },
          {
           "sample_id": 0,
           "timepoint": 102,
           "trajectory": "I_m",
           "value": 1490020.7566076026
          },
          {
           "sample_id": 0,
           "timepoint": 103,
           "trajectory": "I_m",
           "value": 1419935.8580906985
          },
          {
           "sample_id": 0,
           "timepoint": 104,
           "trajectory": "I_m",
           "value": 1352652.5450792415
          },
          {
           "sample_id": 0,
           "timepoint": 105,
           "trajectory": "I_m",
           "value": 1288105.456244808
          },
          {
           "sample_id": 0,
           "timepoint": 106,
           "trajectory": "I_m",
           "value": 1226225.6514632087
          },
          {
           "sample_id": 0,
           "timepoint": 107,
           "trajectory": "I_m",
           "value": 1166941.3562401822
          },
          {
           "sample_id": 0,
           "timepoint": 108,
           "trajectory": "I_m",
           "value": 1110178.62954599
          },
          {
           "sample_id": 0,
           "timepoint": 109,
           "trajectory": "I_m",
           "value": 1055861.9600710848
          },
          {
           "sample_id": 0,
           "timepoint": 110,
           "trajectory": "I_m",
           "value": 1003914.7960432726
          },
          {
           "sample_id": 0,
           "timepoint": 111,
           "trajectory": "I_m",
           "value": 954260.0138029612
          },
          {
           "sample_id": 0,
           "timepoint": 112,
           "trajectory": "I_m",
           "value": 906820.3300627532
          },
          {
           "sample_id": 0,
           "timepoint": 113,
           "trajectory": "I_m",
           "value": 861518.6628339712
          },
          {
           "sample_id": 0,
           "timepoint": 114,
           "trajectory": "I_m",
           "value": 818278.4456417453
          },
          {
           "sample_id": 0,
           "timepoint": 115,
           "trajectory": "I_m",
           "value": 777023.899439568
          },
          {
           "sample_id": 0,
           "timepoint": 116,
           "trajectory": "I_m",
           "value": 737680.2661408385
          },
          {
           "sample_id": 0,
           "timepoint": 117,
           "trajectory": "I_m",
           "value": 700174.0078328028
          },
          {
           "sample_id": 0,
           "timepoint": 118,
           "trajectory": "I_m",
           "value": 664432.97484359
          },
          {
           "sample_id": 0,
           "timepoint": 119,
           "trajectory": "I_m",
           "value": 630386.5460305703
          },
          {
           "sample_id": 0,
           "timepoint": 120,
           "trajectory": "I_m",
           "value": 597965.7441710661
          },
          {
           "sample_id": 0,
           "timepoint": 121,
           "trajectory": "I_m",
           "value": 567103.3291350097
          },
          {
           "sample_id": 0,
           "timepoint": 122,
           "trajectory": "I_m",
           "value": 537733.8712835747
          },
          {
           "sample_id": 0,
           "timepoint": 123,
           "trajectory": "I_m",
           "value": 509793.8072967384
          },
          {
           "sample_id": 0,
           "timepoint": 124,
           "trajectory": "I_m",
           "value": 483221.4804793654
          },
          {
           "sample_id": 0,
           "timepoint": 125,
           "trajectory": "I_m",
           "value": 457957.1673339926
          },
          {
           "sample_id": 0,
           "timepoint": 126,
           "trajectory": "I_m",
           "value": 433943.09208460816
          },
          {
           "sample_id": 0,
           "timepoint": 127,
           "trajectory": "I_m",
           "value": 411123.43063637655
          },
          {
           "sample_id": 0,
           "timepoint": 128,
           "trajectory": "I_m",
           "value": 389444.305325232
          },
          {
           "sample_id": 0,
           "timepoint": 129,
           "trajectory": "I_m",
           "value": 368853.77167606086
          },
          {
           "sample_id": 0,
           "timepoint": 130,
           "trajectory": "I_m",
           "value": 349301.79826529644
          },
          {
           "sample_id": 0,
           "timepoint": 131,
           "trajectory": "I_m",
           "value": 330740.24067390565
          },
          {
           "sample_id": 0,
           "timepoint": 132,
           "trajectory": "I_m",
           "value": 313122.8104149164
          },
          {
           "sample_id": 0,
           "timepoint": 133,
           "trajectory": "I_m",
           "value": 296405.0396276241
          },
          {
           "sample_id": 0,
           "timepoint": 134,
           "trajectory": "I_m",
           "value": 280544.24224672595
          },
          {
           "sample_id": 0,
           "timepoint": 135,
           "trajectory": "I_m",
           "value": 265499.47227840807
          },
          {
           "sample_id": 0,
           "timepoint": 136,
           "trajectory": "I_m",
           "value": 251231.47974622948
          },
          {
           "sample_id": 0,
           "timepoint": 137,
           "trajectory": "I_m",
           "value": 237702.6648068882
          },
          {
           "sample_id": 0,
           "timepoint": 138,
           "trajectory": "I_m",
           "value": 224877.0304790945
          },
          {
           "sample_id": 0,
           "timepoint": 139,
           "trajectory": "I_m",
           "value": 212720.13437730828
          },
          {
           "sample_id": 0,
           "timepoint": 140,
           "trajectory": "I_m",
           "value": 201199.03979555465
          },
          {
           "sample_id": 0,
           "timepoint": 141,
           "trajectory": "I_m",
           "value": 190282.2664444942
          },
          {
           "sample_id": 0,
           "timepoint": 142,
           "trajectory": "I_m",
           "value": 179939.74110699017
          },
          {
           "sample_id": 0,
           "timepoint": 143,
           "trajectory": "I_m",
           "value": 170142.7484432301
          },
          {
           "sample_id": 0,
           "timepoint": 144,
           "trajectory": "I_m",
           "value": 160863.88214568698
          },
          {
           "sample_id": 0,
           "timepoint": 145,
           "trajectory": "I_m",
           "value": 152076.99661654228
          },
          {
           "sample_id": 0,
           "timepoint": 146,
           "trajectory": "I_m",
           "value": 143757.1593153596
          },
          {
           "sample_id": 0,
           "timepoint": 147,
           "trajectory": "I_m",
           "value": 135880.60390253618
          },
          {
           "sample_id": 0,
           "timepoint": 148,
           "trajectory": "I_m",
           "value": 128424.68428413854
          },
          {
           "sample_id": 0,
           "timepoint": 149,
           "trajectory": "I_m",
           "value": 121367.82964592878
          },
          {
           "sample_id": 0,
           "timepoint": 150,
           "trajectory": "I_m",
           "value": 114689.5005485159
          },
          {
           "sample_id": 0,
           "timepoint": 0,
           "trajectory": "I_o",
           "value": 50
          },
          {
           "sample_id": 0,
           "timepoint": 1,
           "trajectory": "I_o",
           "value": 53.50496266794707
          },
          {
           "sample_id": 0,
           "timepoint": 2,
           "trajectory": "I_o",
           "value": 62.00622830668749
          },
          {
           "sample_id": 0,
           "timepoint": 3,
           "trajectory": "I_o",
           "value": 76.03297764331653
          },
          {
           "sample_id": 0,
           "timepoint": 4,
           "trajectory": "I_o",
           "value": 96.8574054745044
          },
          {
           "sample_id": 0,
           "timepoint": 5,
           "trajectory": "I_o",
           "value": 126.60400661601804
          },
          {
           "sample_id": 0,
           "timepoint": 6,
           "trajectory": "I_o",
           "value": 168.47906652869318
          },
          {
           "sample_id": 0,
           "timepoint": 7,
           "trajectory": "I_o",
           "value": 227.14216345931948
          },
          {
           "sample_id": 0,
           "timepoint": 8,
           "trajectory": "I_o",
           "value": 309.2607195478557
          },
          {
           "sample_id": 0,
           "timepoint": 9,
           "trajectory": "I_o",
           "value": 424.3135579138505
          },
          {
           "sample_id": 0,
           "timepoint": 10,
           "trajectory": "I_o",
           "value": 585.7396241188114
          },
          {
           "sample_id": 0,
           "timepoint": 11,
           "trajectory": "I_o",
           "value": 812.5716073578096
          },
          {
           "sample_id": 0,
           "timepoint": 12,
           "trajectory": "I_o",
           "value": 1131.7523897336278
          },
          {
           "sample_id": 0,
           "timepoint": 13,
           "trajectory": "I_o",
           "value": 1581.4154000101523
          },
          {
           "sample_id": 0,
           "timepoint": 14,
           "trajectory": "I_o",
           "value": 2215.523841069344
          },
          {
           "sample_id": 0,
           "timepoint": 15,
           "trajectory": "I_o",
           "value": 3110.425066443142
          },
          {
           "sample_id": 0,
           "timepoint": 16,
           "trajectory": "I_o",
           "value": 4374.096843903459
          },
          {
           "sample_id": 0,
           "timepoint": 17,
           "trajectory": "I_o",
           "value": 6159.162524377079
          },
          {
           "sample_id": 0,
           "timepoint": 18,
           "trajectory": "I_o",
           "value": 8681.161011887447
          },
          {
           "sample_id": 0,
           "timepoint": 19,
           "trajectory": "I_o",
           "value": 12244.086660958345
          },
          {
           "sample_id": 0,
           "timepoint": 20,
           "trajectory": "I_o",
           "value": 17275.87449862455
          },
          {
           "sample_id": 0,
           "timepoint": 21,
           "trajectory": "I_o",
           "value": 23257.32678325394
          },
          {
           "sample_id": 0,
           "timepoint": 22,
           "trajectory": "I_o",
           "value": 29474.83001023701
          },
          {
           "sample_id": 0,
           "timepoint": 23,
           "trajectory": "I_o",
           "value": 36168.47503440313
          },
          {
           "sample_id": 0,
           "timepoint": 24,
           "trajectory": "I_o",
           "value": 43566.24400051031
          },
          {
           "sample_id": 0,
           "timepoint": 25,
           "trajectory": "I_o",
           "value": 51894.89106947875
          },
          {
           "sample_id": 0,
           "timepoint": 26,
           "trajectory": "I_o",
           "value": 61389.10885067844
          },
          {
           "sample_id": 0,
           "timepoint": 27,
           "trajectory": "I_o",
           "value": 72299.42022769876
          },
          {
           "sample_id": 0,
           "timepoint": 28,
           "trajectory": "I_o",
           "value": 84899.22005411764
          },
          {
           "sample_id": 0,
           "timepoint": 29,
           "trajectory": "I_o",
           "value": 99491.19294101011
          },
          {
           "sample_id": 0,
           "timepoint": 30,
           "trajectory": "I_o",
           "value": 116413.24416334672
          },
          {
           "sample_id": 0,
           "timepoint": 31,
           "trajectory": "I_o",
           "value": 136043.95951635737
          },
          {
           "sample_id": 0,
           "timepoint": 32,
           "trajectory": "I_o",
           "value": 158807.47886356217
          },
          {
           "sample_id": 0,
           "timepoint": 33,
           "trajectory": "I_o",
           "value": 185177.61624814957
          },
          {
           "sample_id": 0,
           "timepoint": 34,
           "trajectory": "I_o",
           "value": 215680.8594441115
          },
          {
           "sample_id": 0,
           "timepoint": 35,
           "trajectory": "I_o",
           "value": 250897.78624861903
          },
          {
           "sample_id": 0,
           "timepoint": 36,
           "trajectory": "I_o",
           "value": 291462.2003410339
          },
          {
           "sample_id": 0,
           "timepoint": 37,
           "trajectory": "I_o",
           "value": 338057.39508710423
          },
          {
           "sample_id": 0,
           "timepoint": 38,
           "trajectory": "I_o",
           "value": 391408.470507458
          },
          {
           "sample_id": 0,
           "timepoint": 39,
           "trajectory": "I_o",
           "value": 452269.7975811472
          },
          {
           "sample_id": 0,
           "timepoint": 40,
           "trajectory": "I_o",
           "value": 521406.6866216264
          },
          {
           "sample_id": 0,
           "timepoint": 41,
           "trajectory": "I_o",
           "value": 599570.4301468292
          },
          {
           "sample_id": 0,
           "timepoint": 42,
           "trajectory": "I_o",
           "value": 687466.2040173672
          },
          {
           "sample_id": 0,
           "timepoint": 43,
           "trajectory": "I_o",
           "value": 785713.8893542296
          },
          {
           "sample_id": 0,
           "timepoint": 44,
           "trajectory": "I_o",
           "value": 894802.6649211072
          },
          {
           "sample_id": 0,
           "timepoint": 45,
           "trajectory": "I_o",
           "value": 1015041.1914153894
          },
          {
           "sample_id": 0,
           "timepoint": 46,
           "trajectory": "I_o",
           "value": 1146506.3875787703
          },
          {
           "sample_id": 0,
           "timepoint": 47,
           "trajectory": "I_o",
           "value": 1288994.8683402098
          },
          {
           "sample_id": 0,
           "timepoint": 48,
           "trajectory": "I_o",
           "value": 1441981.9574837056
          },
          {
           "sample_id": 0,
           "timepoint": 49,
           "trajectory": "I_o",
           "value": 1604593.5312899414
          },
          {
           "sample_id": 0,
           "timepoint": 50,
           "trajectory": "I_o",
           "value": 1775595.7948296613
          },
          {
           "sample_id": 0,
           "timepoint": 51,
           "trajectory": "I_o",
           "value": 1947817.457541596
          },
          {
           "sample_id": 0,
           "timepoint": 52,
           "trajectory": "I_o",
           "value": 2115262.568233625
          },
          {
           "sample_id": 0,
           "timepoint": 53,
           "trajectory": "I_o",
           "value": 2277909.60312127
          },
          {
           "sample_id": 0,
           "timepoint": 54,
           "trajectory": "I_o",
           "value": 2435434.6158035146
          },
          {
           "sample_id": 0,
           "timepoint": 55,
           "trajectory": "I_o",
           "value": 2587292.9353645435
          },
          {
           "sample_id": 0,
           "timepoint": 56,
           "trajectory": "I_o",
           "value": 2732792.8396677226
          },
          {
           "sample_id": 0,
           "timepoint": 57,
           "trajectory": "I_o",
           "value": 2871161.3385757776
          },
          {
           "sample_id": 0,
           "timepoint": 58,
           "trajectory": "I_o",
           "value": 3001599.941848398
          },
          {
           "sample_id": 0,
           "timepoint": 59,
           "trajectory": "I_o",
           "value": 3123332.3493317585
          },
          {
           "sample_id": 0,
           "timepoint": 60,
           "trajectory": "I_o",
           "value": 3235642.4767245348
          },
          {
           "sample_id": 0,
           "timepoint": 61,
           "trajectory": "I_o",
           "value": 3337904.2142251623
          },
          {
           "sample_id": 0,
           "timepoint": 62,
           "trajectory": "I_o",
           "value": 3429602.6821784144
          },
          {
           "sample_id": 0,
           "timepoint": 63,
           "trajectory": "I_o",
           "value": 3510347.804013595
          },
          {
           "sample_id": 0,
           "timepoint": 64,
           "trajectory": "I_o",
           "value": 3579880.995377132
          },
          {
           "sample_id": 0,
           "timepoint": 65,
           "trajectory": "I_o",
           "value": 3638075.9495339226
          },
          {
           "sample_id": 0,
           "timepoint": 66,
           "trajectory": "I_o",
           "value": 3684934.549977855
          },
          {
           "sample_id": 0,
           "timepoint": 67,
           "trajectory": "I_o",
           "value": 3720578.971475301
          },
          {
           "sample_id": 0,
           "timepoint": 68,
           "trajectory": "I_o",
           "value": 3745240.975753598
          },
          {
           "sample_id": 0,
           "timepoint": 69,
           "trajectory": "I_o",
           "value": 3759249.328735961
          },
          {
           "sample_id": 0,
           "timepoint": 70,
           "trajectory": "I_o",
           "value": 3763016.1511592255
          },
          {
           "sample_id": 0,
           "timepoint": 71,
           "trajectory": "I_o",
           "value": 3757022.885918386
          },
          {
           "sample_id": 0,
           "timepoint": 72,
           "trajectory": "I_o",
           "value": 3741806.43338191
          },
          {
           "sample_id": 0,
           "timepoint": 73,
           "trajectory": "I_o",
           "value": 3717945.877968977
          },
          {
           "sample_id": 0,
           "timepoint": 74,
           "trajectory": "I_o",
           "value": 3686050.112554258
          },
          {
           "sample_id": 0,
           "timepoint": 75,
           "trajectory": "I_o",
           "value": 3646746.565002408
          },
          {
           "sample_id": 0,
           "timepoint": 76,
           "trajectory": "I_o",
           "value": 3600671.1451207106
          },
          {
           "sample_id": 0,
           "timepoint": 77,
           "trajectory": "I_o",
           "value": 3548459.461251367
          },
          {
           "sample_id": 0,
           "timepoint": 78,
           "trajectory": "I_o",
           "value": 3490739.296361532
          },
          {
           "sample_id": 0,
           "timepoint": 79,
           "trajectory": "I_o",
           "value": 3428124.291871048
          },
          {
           "sample_id": 0,
           "timepoint": 80,
           "trajectory": "I_o",
           "value": 3361208.8435073816
          },
          {
           "sample_id": 0,
           "timepoint": 81,
           "trajectory": "I_o",
           "value": 3292542.7338041547
          },
          {
           "sample_id": 0,
           "timepoint": 82,
           "trajectory": "I_o",
           "value": 3223544.9931444963
          },
          {
           "sample_id": 0,
           "timepoint": 83,
           "trajectory": "I_o",
           "value": 3153442.5936743314
          },
          {
           "sample_id": 0,
           "timepoint": 84,
           "trajectory": "I_o",
           "value": 3081817.8460563915
          },
          {
           "sample_id": 0,
           "timepoint": 85,
           "trajectory": "I_o",
           "value": 3008505.30822887
          },
          {
           "sample_id": 0,
           "timepoint": 86,
           "trajectory": "I_o",
           "value": 2933515.599565807
          },
          {
           "sample_id": 0,
           "timepoint": 87,
           "trajectory": "I_o",
           "value": 2856979.0236132364
          },
          {
           "sample_id": 0,
           "timepoint": 88,
           "trajectory": "I_o",
           "value": 2779103.960323132
          },
          {
           "sample_id": 0,
           "timepoint": 89,
           "trajectory": "I_o",
           "value": 2700146.3008918115
          },
          {
           "sample_id": 0,
           "timepoint": 90,
           "trajectory": "I_o",
           "value": 2620387.1556296297
          },
          {
           "sample_id": 0,
           "timepoint": 91,
           "trajectory": "I_o",
           "value": 2540116.765588162
          },
          {
           "sample_id": 0,
           "timepoint": 92,
           "trajectory": "I_o",
           "value": 2459623.0800763085
          },
          {
           "sample_id": 0,
           "timepoint": 93,
           "trajectory": "I_o",
           "value": 2379183.81974849
          },
          {
           "sample_id": 0,
           "timepoint": 94,
           "trajectory": "I_o",
           "value": 2299061.149389168
          },
          {
           "sample_id": 0,
           "timepoint": 95,
           "trajectory": "I_o",
           "value": 2219498.2940113926
          },
          {
           "sample_id": 0,
           "timepoint": 96,
           "trajectory": "I_o",
           "value": 2140717.590599075
          },
          {
           "sample_id": 0,
           "timepoint": 97,
           "trajectory": "I_o",
           "value": 2062919.5942791903
          },
          {
           "sample_id": 0,
           "timepoint": 98,
           "trajectory": "I_o",
           "value": 1986282.946789196
          },
          {
           "sample_id": 0,
           "timepoint": 99,
           "trajectory": "I_o",
           "value": 1910964.7890011077
          },
          {
           "sample_id": 0,
           "timepoint": 100,
           "trajectory": "I_o",
           "value": 1837101.5568320772
          },
          {
           "sample_id": 0,
           "timepoint": 101,
           "trajectory": "I_o",
           "value": 1764831.5558816986
          },
          {
           "sample_id": 0,
           "timepoint": 102,
           "trajectory": "I_o",
           "value": 1694263.4224169035
          },
          {
           "sample_id": 0,
           "timepoint": 103,
           "trajectory": "I_o",
           "value": 1625464.9664376532
          },
          {
           "sample_id": 0,
           "timepoint": 104,
           "trajectory": "I_o",
           "value": 1558491.9060003152
          },
          {
           "sample_id": 0,
           "timepoint": 105,
           "trajectory": "I_o",
           "value": 1493388.256748383
          },
          {
           "sample_id": 0,
           "timepoint": 106,
           "trajectory": "I_o",
           "value": 1430186.9289407928
          },
          {
           "sample_id": 0,
           "timepoint": 107,
           "trajectory": "I_o",
           "value": 1368910.449008989
          },
          {
           "sample_id": 0,
           "timepoint": 108,
           "trajectory": "I_o",
           "value": 1309571.7574653944
          },
          {
           "sample_id": 0,
           "timepoint": 109,
           "trajectory": "I_o",
           "value": 1252175.0379548462
          },
          {
           "sample_id": 0,
           "timepoint": 110,
           "trajectory": "I_o",
           "value": 1196716.5514600324
          },
          {
           "sample_id": 0,
           "timepoint": 111,
           "trajectory": "I_o",
           "value": 1143185.4535019558
          },
          {
           "sample_id": 0,
           "timepoint": 112,
           "trajectory": "I_o",
           "value": 1091564.5827685066
          },
          {
           "sample_id": 0,
           "timepoint": 113,
           "trajectory": "I_o",
           "value": 1041831.2105109226
          },
          {
           "sample_id": 0,
           "timepoint": 114,
           "trajectory": "I_o",
           "value": 993957.7455272066
          },
          {
           "sample_id": 0,
           "timepoint": 115,
           "trajectory": "I_o",
           "value": 947912.3916752592
          },
          {
           "sample_id": 0,
           "timepoint": 116,
           "trajectory": "I_o",
           "value": 903659.75657341
          },
          {
           "sample_id": 0,
           "timepoint": 117,
           "trajectory": "I_o",
           "value": 861161.4114902054
          },
          {
           "sample_id": 0,
           "timepoint": 118,
           "trajectory": "I_o",
           "value": 820376.4036925801
          },
          {
           "sample_id": 0,
           "timepoint": 119,
           "trajectory": "I_o",
           "value": 781261.7227728916
          },
          {
           "sample_id": 0,
           "timepoint": 120,
           "trajectory": "I_o",
           "value": 743772.7230505073
          },
          {
           "sample_id": 0,
           "timepoint": 121,
           "trajectory": "I_o",
           "value": 707863.504604663
          },
          {
           "sample_id": 0,
           "timepoint": 122,
           "trajectory": "I_o",
           "value": 673487.2553588375
          },
          {
           "sample_id": 0,
           "timepoint": 123,
           "trajectory": "I_o",
           "value": 640596.5569050818
          },
          {
           "sample_id": 0,
           "timepoint": 124,
           "trajectory": "I_o",
           "value": 609143.6566827628
          },
          {
           "sample_id": 0,
           "timepoint": 125,
           "trajectory": "I_o",
           "value": 579080.7090474834
          },
          {
           "sample_id": 0,
           "timepoint": 126,
           "trajectory": "I_o",
           "value": 550359.987741283
          },
          {
           "sample_id": 0,
           "timepoint": 127,
           "trajectory": "I_o",
           "value": 522934.07212643407
          },
          {
           "sample_id": 0,
           "timepoint": 128,
           "trajectory": "I_o",
           "value": 496756.009448242
          },
          {
           "sample_id": 0,
           "timepoint": 129,
           "trajectory": "I_o",
           "value": 471779.4552516686
          },
          {
           "sample_id": 0,
           "timepoint": 130,
           "trajectory": "I_o",
           "value": 447958.7939506468
          },
          {
           "sample_id": 0,
           "timepoint": 131,
           "trajectory": "I_o",
           "value": 425249.2414129932
          },
          {
           "sample_id": 0,
           "timepoint": 132,
           "trajectory": "I_o",
           "value": 403606.9312938632
          },
          {
           "sample_id": 0,
           "timepoint": 133,
           "trajectory": "I_o",
           "value": 382988.98672305234
          },
          {
           "sample_id": 0,
           "timepoint": 134,
           "trajectory": "I_o",
           "value": 363353.57882867503
          },
          {
           "sample_id": 0,
           "timepoint": 135,
           "trajectory": "I_o",
           "value": 344659.9734628279
          },
          {
           "sample_id": 0,
           "timepoint": 136,
           "trajectory": "I_o",
           "value": 326868.56738383864
          },
          {
           "sample_id": 0,
           "timepoint": 137,
           "trajectory": "I_o",
           "value": 309940.9150451588
          },
          {
           "sample_id": 0,
           "timepoint": 138,
           "trajectory": "I_o",
           "value": 293839.7470428555
          },
          {
           "sample_id": 0,
           "timepoint": 139,
           "trajectory": "I_o",
           "value": 278528.98118198285
          },
          {
           "sample_id": 0,
           "timepoint": 140,
           "trajectory": "I_o",
           "value": 263973.72703674005
          },
          {
           "sample_id": 0,
           "timepoint": 141,
           "trajectory": "I_o",
           "value": 250140.2848000435
          },
          {
           "sample_id": 0,
           "timepoint": 142,
           "trajectory": "I_o",
           "value": 236996.1391447189
          },
          {
           "sample_id": 0,
           "timepoint": 143,
           "trajectory": "I_o",
           "value": 224509.94875067187
          },
          {
           "sample_id": 0,
           "timepoint": 144,
           "trajectory": "I_o",
           "value": 212651.53208983413
          },
          {
           "sample_id": 0,
           "timepoint": 145,
           "trajectory": "I_o",
           "value": 201391.85000310748
          },
          {
           "sample_id": 0,
           "timepoint": 146,
           "trajectory": "I_o",
           "value": 190702.9855506248
          },
          {
           "sample_id": 0,
           "timepoint": 147,
           "trajectory": "I_o",
           "value": 180558.12156812768
          },
          {
           "sample_id": 0,
           "timepoint": 148,
           "trajectory": "I_o",
           "value": 170931.51631782117
          },
          {
           "sample_id": 0,
           "timepoint": 149,
           "trajectory": "I_o",
           "value": 161798.47758142758
          },
          {
           "sample_id": 0,
           "timepoint": 150,
           "trajectory": "I_o",
           "value": 153135.33550604896
          }
         ]
        },
        {
         "name": "markers_v",
         "values": []
        },
        {
         "name": "markers_h",
         "values": []
        },
        {
         "name": "selected",
         "on": [
          {
           "remove": true,
           "trigger": "clear"
          },
          {
           "remove": true,
           "trigger": "!shift"
          },
          {
           "insert": "clicked",
           "trigger": "!shift && clicked"
          },
          {
           "toggle": "clicked",
           "trigger": "shift && clicked"
          }
         ]
        },
        {
         "name": "selectedData",
         "on": [
          {
           "remove": true,
           "trigger": "clearData"
          },
          {
           "toggle": "clickedData",
           "trigger": "clickedData"
          }
         ]
        }
       ],
       "height": 300,
       "legends": [
        {
         "encode": {
          "labels": {
           "interactive": true,
           "name": "legendLabel",
           "update": {
            "opacity": [
             {
              "test": "!length(data('selectedData')) || indata('selectedData', 'value', datum.value)",
              "value": 1
             },
             {
              "value": 0.25
             }
            ]
           }
          },
          "symbols": {
           "interactive": true,
           "name": "legendSymbol",
           "update": {
            "fill": {
             "value": "transparent"
            },
            "opacity": [
             {
              "test": "!length(data('selected')) || indata('selected', 'value', datum.value) || indata('selectedData', 'value', datum.value)",
              "value": 0.7
             },
             {
              "value": 0.15
             }
            ],
            "size": {
             "value": 64
            },
            "strokeWidth": {
             "value": 2
            }
           }
          }
         },
         "name": "color_legend",
         "stroke": "color"
        }
       ],
       "marks": [
        {
         "from": {
          "facet": {
           "data": "points",
           "groupby": "trajectory",
           "name": "points_split"
          }
         },
         "marks": [
          {
           "encode": {
            "hover": {
             "fillOpacity": {
              "value": 0.9
             }
            },
            "update": {
             "fill": {
              "field": "trajectory",
              "scale": "color"
             },
             "fillOpacity": [
              {
               "test": "!length(data('selected')) || indata('selected', 'value', datum.trajectory)",
               "value": 0.5
              },
              {
               "value": 0.15
              }
             ],
             "size": {
              "value": 35
             },
             "stroke": {
              "field": "trajectory",
              "scale": "color"
             },
             "strokeOpacity": [
              {
               "test": "!length(data('selected')) || indata('selected', 'value', datum.trajectory)",
               "value": 0.75
              },
              {
               "value": 0.15
              }
             ],
             "strokeWidth": {
              "value": 2
             },
             "tooltip": {
              "field": "value"
             },
             "x": {
              "field": "timepoint",
              "scale": "xscale"
             },
             "y": {
              "field": "value",
              "scale": "yscale"
             }
            }
           },
           "from": {
            "data": "points_split"
           },
           "name": "_points_symbol",
           "type": "symbol",
           "zindex": 3
          },
          {
           "encode": {
            "hover": {
             "fillOpacity": {
              "value": 0.9
             }
            },
            "update": {
             "interpolate": {
              "value": "linear"
             },
             "stroke": {
              "field": "trajectory",
              "scale": "color"
             },
             "strokeDash": {
              "value": [
               5,
               3
              ]
             },
             "strokeOpacity": [
              {
               "test": "!length(data('selected')) || indata('selected', 'value', datum.trajectory)",
               "value": 0.3
              },
              {
               "value": 0.1
              }
             ],
             "strokeWidth": {
              "value": 2
             },
             "x": {
              "field": "timepoint",
              "scale": "xscale"
             },
             "y": {
              "field": "value",
              "scale": "yscale"
             }
            }
           },
           "from": {
            "data": "points_split"
           },
           "name": "_points_line",
           "type": "line",
           "zindex": 3
          }
         ],
         "name": "_points",
         "type": "group",
         "zindex": 3
        },
        {
         "from": {
          "facet": {
           "data": "traces",
           "groupby": "trajectory",
           "name": "traces_split"
          }
         },
         "marks": [
          {
           "encode": {
            "hover": {
             "fillOpacity": {
              "value": 0.9
             }
            },
            "update": {
             "interpolate": {
              "value": "linear"
             },
             "stroke": {
              "field": "trajectory",
              "scale": "color"
             },
             "strokeOpacity": [
              {
               "test": "!length(data('selected')) || indata('selected', 'value', datum.trajectory)",
               "value": 0.75
              },
              {
               "value": 0.15
              }
             ],
             "strokeWidth": {
              "value": 2
             },
             "x": {
              "field": "timepoint",
              "scale": "xscale"
             },
             "y": {
              "field": "value",
              "scale": "yscale"
             }
            }
           },
           "from": {
            "data": "traces_split"
           },
           "name": "_traces_lines",
           "type": "line"
          }
         ],
         "name": "_traces",
         "type": "group",
         "zindex": 2
        },
        {
         "from": {
          "facet": {
           "data": "distributions",
           "groupby": "trajectory",
           "name": "trajectory_split"
          }
         },
         "marks": [
          {
           "encode": {
            "hover": {
             "fillOpacity": {
              "value": 0.9
             }
            },
            "update": {
             "fill": {
              "field": "trajectory",
              "scale": "color"
             },
             "fillOpacity": [
              {
               "test": "!length(data('selected')) || indata('selected', 'value', datum.trajectory)",
               "value": 0.5
              },
              {
               "value": 0.15
              }
             ],
             "interpolate": {
              "value": "linear"
             },
             "stroke": {
              "field": "trajectory",
              "scale": "color"
             },
             "strokeOpacity": [
              {
               "test": "!length(data('selected')) || indata('selected', 'value', datum.trajectory)",
               "value": 0.75
              },
              {
               "value": 0.15
              }
             ],
             "strokeWidth": {
              "value": 2
             },
             "x": {
              "field": "timepoint",
              "scale": "xscale"
             },
             "y": {
              "field": "upper",
              "scale": "yscale"
             },
             "y2": {
              "field": "lower",
              "scale": "yscale"
             }
            }
           },
           "from": {
            "data": "trajectory_split"
           },
           "interactive": true,
           "name": "area",
           "type": "area"
          }
         ],
         "name": "_distributions",
         "type": "group",
         "zindex": 1
        },
        {
         "marks": [
          {
           "encode": {
            "enter": {
             "stroke": {
              "value": "lightgray"
             }
            },
            "update": {
             "opacity": {
              "value": 1
             },
             "x": {
              "field": "axis_value",
              "scale": "xscale"
             },
             "y": {
              "signal": "height"
             },
             "y2": {
              "value": 0
             }
            }
           },
           "from": {
            "data": "markers_v"
           },
           "name": "_marker_v text",
           "type": "rule"
          },
          {
           "encode": {
            "enter": {
             "fontSize": {
              "value": 8
             },
             "text": {
              "field": "datum.label"
             },
             "y": {
              "value": 0
             }
            }
           },
           "from": {
            "data": "_marker_v text"
           },
           "name": "_marker_v flags",
           "transform": [
            {
             "as": [
              "x",
              "_y",
              "opacity",
              "align",
              "baseline"
             ],
             "lineAnchor": "start",
             "offset": [
              1
             ],
             "size": {
              "signal": "[width, height]"
             },
             "type": "label"
            }
           ],
           "type": "text"
          }
         ],
         "name": "_markers_v",
         "type": "group"
        },
        {
         "marks": [
          {
           "encode": {
            "enter": {
             "stroke": {
              "value": "lightgray"
             }
            },
            "update": {
             "opacity": {
              "value": 1
             },
             "x": {
              "signal": "width"
             },
             "x2": {
              "value": 0
             },
             "y": {
              "field": "axis_value",
              "scale": "yscale"
             }
            }
           },
           "from": {
            "data": "markers_h"
           },
           "name": "_marker_h text",
           "type": "rule"
          },
          {
           "encode": {
            "enter": {
             "fontSize": {
              "value": 8
             },
             "text": {
              "field": "datum.label"
             },
             "x": {
              "signal": "width+20"
             }
            }
           },
           "from": {
            "data": "_marker_h text"
           },
           "name": "_marker_h flags",
           "transform": [
            {
             "as": [
              "_x",
              "y",
              "opacity",
              "align",
              "baseline"
             ],
             "lineAnchor": "start",
             "offset": [
              1
             ],
             "size": {
              "signal": "[width, height]"
             },
             "type": "label"
            }
           ],
           "type": "text"
          }
         ],
         "name": "_markers_h",
         "type": "group"
        }
       ],
       "scales": [
        {
         "domain": {
          "fields": [
           {
            "data": "distributions",
            "field": "timepoint"
           },
           {
            "data": "traces",
            "field": "timepoint"
           },
           {
            "data": "points",
            "field": "timepoint"
           }
          ]
         },
         "name": "xscale",
         "range": "width",
         "type": "linear",
         "zero": false
        },
        {
         "domain": {
          "fields": [
           {
            "data": "distributions",
            "field": "lower"
           },
           {
            "data": "distributions",
            "field": "upper"
           },
           {
            "data": "traces",
            "field": "value"
           },
           {
            "data": "points",
            "field": "value"
           }
          ]
         },
         "name": "yscale",
         "nice": true,
         "range": "height",
         "type": "linear",
         "zero": true
        },
        {
         "domain": {
          "fields": [
           {
            "data": "distributions",
            "field": "trajectory"
           },
           {
            "data": "traces",
            "field": "trajectory"
           },
           {
            "data": "points",
            "field": "trajectory"
           }
          ],
          "sort": {
           "field": "key",
           "order": "ascending"
          }
         },
         "name": "color",
         "range": "category",
         "type": "ordinal"
        }
       ],
       "signals": [
        {
         "name": "clear",
         "on": [
          {
           "events": "mouseup[!event.item]",
           "force": true,
           "update": "true"
          }
         ],
         "value": true
        },
        {
         "name": "shift",
         "on": [
          {
           "events": "@legendSymbol:click, @legendLabel:click",
           "force": true,
           "update": "event.shiftKey"
          }
         ],
         "value": false
        },
        {
         "name": "clicked",
         "on": [
          {
           "events": "@legendSymbol:click, @legendLabel:click",
           "force": true,
           "update": "{value: datum.value}"
          }
         ],
         "value": null
        },
        {
         "name": "clearData",
         "on": [
          {
           "events": "mouseup[!event.item]",
           "force": true,
           "update": "true"
          }
         ],
         "value": true
        },
        {
         "name": "clickedData",
         "on": [
          {
           "events": "@area:click",
           "force": true,
           "update": "{value: datum.trajectory}"
          }
         ],
         "value": null
        }
       ],
       "width": 500
      },
      "image/png": "[encoded data removed]"
     },
     "metadata": {},
     "output_type": "display_data"
    }
   ],
   "source": [
    "# Plot results for all states\n",
    "logging_step_size = 5.0\n",
    "calibrated_sample_results = pyciemss.sample(model1, end_time, logging_step_size, num_samples, \n",
    "                start_time=start_time, inferred_parameters=parameter_estimates)\n",
    "schema = plots.trajectories(calibrated_sample_results[\"data\"], #keep=\"I_.*\", \n",
    "                            points = run_n.drop(['Timestamp'],axis=1))\n",
    "# plots.save_schema(schema, \"_schema.json\")\n",
    "plots.ipy_display(schema,format='interactive')"
   ]
  },
  {
   "cell_type": "code",
   "execution_count": null,
   "id": "bd218c32-0c08-43f6-a684-5d9bf2dab31a",
   "metadata": {},
   "outputs": [],
   "source": []
  }
 ],
 "metadata": {
  "kernelspec": {
   "display_name": "Python 3 (ipykernel)",
   "language": "python",
   "name": "python3"
  },
  "language_info": {
   "codemirror_mode": {
    "name": "ipython",
    "version": 3
   },
   "file_extension": ".py",
   "mimetype": "text/x-python",
   "name": "python",
   "nbconvert_exporter": "python",
   "pygments_lexer": "ipython3",
   "version": "3.10.9"
  }
 },
 "nbformat": 4,
 "nbformat_minor": 5
}
