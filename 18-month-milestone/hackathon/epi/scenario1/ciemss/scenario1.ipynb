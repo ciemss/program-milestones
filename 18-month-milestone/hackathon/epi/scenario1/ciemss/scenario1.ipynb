{
 "cells": [
  {
   "cell_type": "markdown",
   "id": "f2bf2d11-7e3f-4d76-9a08-d0460026be85",
   "metadata": {},
   "source": [
    "# Scenario 1: Calibrating models and estimating causal effects\n",
    "\n",
    "In this scenario, we are interested in determining the effects of masking and social distancing on Covid-19 infections using simulated data for four different countries: Afghanistan, Colombia, France, and the United Kingdom. The simulations use contact matrices and populations subdivided into age groups for each of the countries. In these simulations, each country implements interventions at the same time, and we are interested in understanding how the effects of the interventions differ between countries. The data are generated from an SEIRD model. \n",
    "\n",
    "In these questions, we provide the contact matrices and population data for each country, as well as the outputs of the simulated SEIRD model. We ask you to calibrate a model to estimate R0, and to estimate the causal effects of interventions.\n",
    "\n",
    "In the data provided, ‘UK_population.csv’ and ‘UK_contact_matrix.csv’ contain data on the population counts and the contact matrix for each age group in the UK. ‘UK_compartments.csv’ has compartments S, E, ICase, IMild, R, and D. All patients in IMild transition to R, whereas all patients in ICase transition to the hospital (IHospital, not currently included in this output). From there, some patients recover and others transition to D. ‘UK_infections.csv’ has total infections for each day. There are analogous files for the other countries.\n",
    "\n",
    "In each country:\n",
    "1. From t = 0 to t = 40 days, there are no interventions in place, and Covid spreads unabated.\n",
    "2. At t = 40 days, people begin wearing masks, decreasing the spread of covid.\n",
    "3. At t = 100 days, mask fatigue sets in. People start to mask less, but more than they did from t = 0 to t = 40. Cases increase again.\n",
    "\n",
    "During this same time frame, each country begins implementing a social distancing policy at t = 60 days. Due to the policy, contact decreases to 30% of its original levels for the interactions of people over the age of 65 with others over the age of 65 (i.e., the 3x3 matrix on the bottom right of the contact matrix) and it decreases to 60% of its original levels otherwise.\n",
    "\n",
    "Because this model is stochastic, (in particular, the number of people transitioning between compartments is randomly drawn from a binomial distribution), we run each simulation ten times for each country. The dt parameter is set to 0.2 so that there are 5 time steps per day and 1000 time steps in each 200-day simulation.\n",
    "\n",
    "Using the data provided, which includes contact matrices and population counts for all four countries, along with the output from running 10 simulations for each country:\n",
    "\n",
    "### (1) Calibrate models to estimate R0 for each country in each of the four time intervals: [0,40), [40,60), [60,100), [100, 200].\n",
    "\n",
    "### (2) Estimate the causal effects of masking alone, the combined effect of masking and social distancing, and the effect of social distancing alone on infections. Include uncertainty in the estimated effects.\n",
    "\n",
    "### (3) (Optional) In each country, what is the maximum value R0  can be over the last time interval ([100, 200]), to ensure that there are no more than 50 infections at t = 200 days with 90% confidence? Are these different across countries? \n",
    "\n",
    "### (4) (Optional) Can R0 be changed in one of the three preceding intervals ([0,40), [40,60), [60,100)), without changing it in the fourth, to ensure that infections at t = 200 days stay below ¾ of their simulated value at t = 200 with 95% confidence?\""
   ]
  },
  {
   "cell_type": "markdown",
   "id": "2b99fe54-2ab5-4ece-bbd3-fd4dd60c291e",
   "metadata": {},
   "source": [
    "### Load dependencies"
   ]
  },
  {
   "cell_type": "code",
   "execution_count": 1,
   "id": "f9ae5848-9d23-4c92-a520-7e18932fd257",
   "metadata": {},
   "outputs": [],
   "source": [
    "import os\n",
    "import pyciemss\n",
    "import torch\n",
    "import pandas as pd\n",
    "import numpy as np\n",
    "import requests\n",
    "from io import StringIO\n",
    "from typing import Dict, List\n",
    "\n",
    "import pyciemss.visuals.plots as plots\n",
    "import pyciemss.visuals.vega as vega\n",
    "import pyciemss.visuals.trajectories as trajectories"
   ]
  },
  {
   "cell_type": "markdown",
   "id": "14666411-4ffa-43c6-8db7-9e9f63d3f67a",
   "metadata": {},
   "source": [
    "# Country 1: Let's start with France\n",
    "\n",
    "### Collect data"
   ]
  },
  {
   "cell_type": "code",
   "execution_count": 2,
   "id": "07b3c4c1-3df8-4980-94e0-552d913daf08",
   "metadata": {},
   "outputs": [],
   "source": [
    "DATA_PATH = \"https://raw.githubusercontent.com/ciemss/program-milestones/epi-scenario-1/18-month-milestone/hackathon/epi/Scenario%201%20Supplemental/\"\n",
    "\n",
    "COUNTRY = \"France\" # \"UK\", \"Afghanistan\", \"Colombia\"\n",
    "infection_data = os.path.join(DATA_PATH, COUNTRY + \"_infections.csv\")\n",
    "death_data = os.path.join(DATA_PATH, COUNTRY + \"_compartments.csv\")\n",
    "population_data = os.path.join(DATA_PATH, COUNTRY + \"_population.csv\")\n",
    "contact_matrix = os.path.join(DATA_PATH, COUNTRY + \"_contact_matrix.csv\")"
   ]
  },
  {
   "cell_type": "markdown",
   "id": "ae4c2a2c-9898-4dba-8242-ef976e0c409f",
   "metadata": {},
   "source": [
    "### Define functions to read and manipulate data"
   ]
  },
  {
   "cell_type": "code",
   "execution_count": 5,
   "id": "a03dfba4-b22a-488d-a89e-7898e2ae022f",
   "metadata": {},
   "outputs": [],
   "source": [
    "def read_data(data_location: str):\n",
    "    \n",
    "    # Fetch the contents of the CSV file from the URL\n",
    "    response = requests.get(data_location)\n",
    "    csv_content = StringIO(response.text)\n",
    "    df = pd.read_csv(csv_content)\n",
    "    # print(df.head())\n",
    "    \n",
    "    return df\n",
    "\n",
    "def add_over_age_groups(df: pd.DataFrame, input_comp: str, output_comp: str):\n",
    "\n",
    "    # Aggregate data by age\n",
    "    df = df.drop(columns=['Unnamed: 0'])\n",
    "    replicate_1_df = df[df['replicate'] == 1] # only using first run\n",
    "    compartment_df = replicate_1_df[replicate_1_df[\"compartment\"] == input_comp] # only use chosen compartment\n",
    "    result = compartment_df.groupby('t')['y'].sum().reset_index()\n",
    "    result.rename(columns={'t': 'Timestamp', 'y': output_comp}, inplace=True)\n",
    "    result.set_index('Timestamp', inplace=True)\n",
    "    result.index.name = 'Timestamp'\n",
    "    # print(result.head())\n",
    "\n",
    "    return result"
   ]
  },
  {
   "cell_type": "markdown",
   "id": "64707eb7-8fcc-41bb-8715-3558c2321b7f",
   "metadata": {},
   "source": [
    "### Produce dataset for calibration, calculate total population"
   ]
  },
  {
   "cell_type": "code",
   "execution_count": 6,
   "id": "80dbe84a-d6d5-4943-94e3-7e4801e8a652",
   "metadata": {},
   "outputs": [
    {
     "name": "stdout",
     "output_type": "stream",
     "text": [
      "France total population: 65273512\n"
     ]
    }
   ],
   "source": [
    "# Aggregate case data by age\n",
    "case_by_age_df = read_data(infection_data)\n",
    "case_df = add_over_age_groups(case_by_age_df, \"infections\", \"cases\")\n",
    "\n",
    "# Aggregate death data by age\n",
    "death_by_age_df = read_data(death_data)\n",
    "death_df = add_over_age_groups(death_by_age_df, \"D\", \"deaths\")\n",
    "\n",
    "# Merge data into one DataFrame\n",
    "death_column = death_df[\"deaths\"]\n",
    "data_df = pd.concat([case_df, death_column], axis=1)\n",
    "\n",
    "data_df.to_csv(COUNTRY + \"_case_death_data.csv\", index=True)\n",
    "\n",
    "# Calculate the total population\n",
    "pop_data_by_age = read_data(population_data)\n",
    "total_population = pop_data_by_age[\"n\"].sum()\n",
    "print(COUNTRY + \" total population:\", total_population)"
   ]
  },
  {
   "cell_type": "code",
   "execution_count": null,
   "id": "b2c14008-ce39-46db-aac8-562c97ea02fa",
   "metadata": {},
   "outputs": [],
   "source": []
  },
  {
   "cell_type": "code",
   "execution_count": null,
   "id": "bf1d9def-9fcc-4341-9dd1-81357036924f",
   "metadata": {},
   "outputs": [],
   "source": []
  }
 ],
 "metadata": {
  "kernelspec": {
   "display_name": "Python 3 (ipykernel)",
   "language": "python",
   "name": "python3"
  },
  "language_info": {
   "codemirror_mode": {
    "name": "ipython",
    "version": 3
   },
   "file_extension": ".py",
   "mimetype": "text/x-python",
   "name": "python",
   "nbconvert_exporter": "python",
   "pygments_lexer": "ipython3",
   "version": "3.10.9"
  }
 },
 "nbformat": 4,
 "nbformat_minor": 5
}
