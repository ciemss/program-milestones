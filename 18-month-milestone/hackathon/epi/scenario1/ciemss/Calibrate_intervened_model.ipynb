{
 "cells": [
  {
   "cell_type": "markdown",
   "id": "693e97ae-b0e5-4008-a565-53ebb865a7ec",
   "metadata": {},
   "source": [
    "# Notebook to show how an intervened model is calibrated using PyCIEMSS\n",
    "\n",
    "As in Scenario 1, we want to calibrate a model to data where there should be one transmission rate from `t = 0` to `t = 40`, and another from `t = 40` to `t = 60`"
   ]
  },
  {
   "cell_type": "markdown",
   "id": "9b187f55-44af-4fff-b4f7-5c60e86c2414",
   "metadata": {},
   "source": [
    "### Load dependencies"
   ]
  },
  {
   "cell_type": "code",
   "execution_count": 1,
   "id": "b1bef066-8df7-435c-8c9f-4438e3110fea",
   "metadata": {},
   "outputs": [],
   "source": [
    "import os\n",
    "import pyciemss\n",
    "import torch\n",
    "import pyro\n",
    "import pyro.distributions as dist\n",
    "\n",
    "import pyciemss.visuals.plots as plots\n",
    "import pyciemss.visuals.vega as vega\n",
    "import pyciemss.visuals.trajectories as trajectories"
   ]
  },
  {
   "cell_type": "markdown",
   "id": "7346902a-c0c5-4d34-966f-674f9995d925",
   "metadata": {},
   "source": [
    "### Collect model and data"
   ]
  },
  {
   "cell_type": "code",
   "execution_count": 2,
   "id": "209087dd-0292-4e15-969e-c1cb4701dcc3",
   "metadata": {},
   "outputs": [],
   "source": [
    "COUNTRY = \"France\"\n",
    "MAIN_PATH = \"https://raw.githubusercontent.com/ciemss/program-milestones/epi-scenario-1/18-month-milestone/hackathon/epi/scenario1/ciemss/\"\n",
    "model = os.path.join(MAIN_PATH, \"SEIIRHD_model_\" + COUNTRY + \".json\")\n",
    "dataset = os.path.join(MAIN_PATH, COUNTRY + \"_data2.csv\")"
   ]
  },
  {
   "cell_type": "markdown",
   "id": "7c0af215-7084-4516-80bc-fd1c45e08db8",
   "metadata": {},
   "source": [
    "## Define the intervention as a function or distribution \n",
    "Either option will work and allow for calibration before and after the intervention."
   ]
  },
  {
   "cell_type": "code",
   "execution_count": 3,
   "id": "130fb59f-c804-4d6f-94e6-7767a967e63a",
   "metadata": {},
   "outputs": [],
   "source": [
    "static_intervention40A = {torch.tensor(40.0): {\"beta_mild\": lambda x : x/2, \n",
    "                                               \"beta_case\": lambda x : x/2}}\n",
    "\n",
    "mask_effect = pyro.sample(\"mask_effect\", dist.Uniform(0,1))\n",
    "static_intervention40B = {torch.tensor(40.0): {\"beta_mild\": lambda x: x*mask_effect, \n",
    "                                               \"beta_case\": lambda x: x*mask_effect}}"
   ]
  },
  {
   "cell_type": "markdown",
   "id": "e0d7c15b-0373-4f95-b17f-727dcc3da796",
   "metadata": {},
   "source": [
    "### Calibrate using `static_intervention40A`"
   ]
  },
  {
   "cell_type": "code",
   "execution_count": 4,
   "id": "1119de49-5981-432c-82b5-5a6fee0e1f22",
   "metadata": {},
   "outputs": [
    {
     "name": "stderr",
     "output_type": "stream",
     "text": [
      "/Users/altu809/Projects/pyciemss/pyciemss/integration_utils/observation.py:49: FutureWarning: DataFrame.applymap has been deprecated. Use DataFrame.map instead.\n",
      "  if not data_df.applymap(lambda x: isinstance(x, (int, float))).all().all():\n"
     ]
    },
    {
     "name": "stdout",
     "output_type": "stream",
     "text": [
      "Data printout: This dataset contains 58 rows of data. The first column, Timestamp, begins at 1.0 and ends at 59.0. The subsequent columns are named: cases\n"
     ]
    },
    {
     "data": {
      "text/plain": [
       "{'persistent_beta_mild': tensor(0.2415, grad_fn=<ExpandBackward0>),\n",
       " 'persistent_beta_case': tensor(0.3573, grad_fn=<ExpandBackward0>),\n",
       " 'persistent_gamma_mildR': tensor(0.1436, grad_fn=<ExpandBackward0>),\n",
       " 'persistent_gamma_caseH': tensor(0.1341, grad_fn=<ExpandBackward0>),\n",
       " 'persistent_delta_caseR': tensor(0.2252, grad_fn=<ExpandBackward0>),\n",
       " 'persistent_mu_caseD': tensor(0.0259, grad_fn=<ExpandBackward0>),\n",
       " 'persistent_Im0': tensor(1.8376, grad_fn=<ExpandBackward0>),\n",
       " 'persistent_Ic0': tensor(1.8201, grad_fn=<ExpandBackward0>)}"
      ]
     },
     "execution_count": 4,
     "metadata": {},
     "output_type": "execute_result"
    }
   ],
   "source": [
    "num_iterations = 100\n",
    "data_mapping = {\"cases\": \"infected\"} \n",
    "calibrated_results = pyciemss.calibrate(model, dataset, data_mapping=data_mapping, \n",
    "                                        static_parameter_interventions=static_intervention40A,\n",
    "                                        num_iterations=num_iterations)\n",
    "parameter_estimates = calibrated_results[\"inferred_parameters\"]\n",
    "parameter_estimates()"
   ]
  },
  {
   "cell_type": "markdown",
   "id": "b151fb37-7117-4c18-98b5-7f1f17aa8af7",
   "metadata": {},
   "source": [
    "### Calibrate using `static_intervention40B`"
   ]
  },
  {
   "cell_type": "code",
   "execution_count": 6,
   "id": "60ac146d-b352-4a4e-ae9b-8b875b6ffee6",
   "metadata": {},
   "outputs": [
    {
     "name": "stderr",
     "output_type": "stream",
     "text": [
      "/Users/altu809/Projects/pyciemss/pyciemss/integration_utils/observation.py:49: FutureWarning: DataFrame.applymap has been deprecated. Use DataFrame.map instead.\n",
      "  if not data_df.applymap(lambda x: isinstance(x, (int, float))).all().all():\n"
     ]
    },
    {
     "name": "stdout",
     "output_type": "stream",
     "text": [
      "Data printout: This dataset contains 58 rows of data. The first column, Timestamp, begins at 1.0 and ends at 59.0. The subsequent columns are named: cases\n"
     ]
    },
    {
     "data": {
      "text/plain": [
       "{'persistent_beta_mild': tensor(0.2165, grad_fn=<ExpandBackward0>),\n",
       " 'persistent_beta_case': tensor(0.3805, grad_fn=<ExpandBackward0>),\n",
       " 'persistent_gamma_mildR': tensor(0.1424, grad_fn=<ExpandBackward0>),\n",
       " 'persistent_gamma_caseH': tensor(0.1413, grad_fn=<ExpandBackward0>),\n",
       " 'persistent_delta_caseR': tensor(0.2284, grad_fn=<ExpandBackward0>),\n",
       " 'persistent_mu_caseD': tensor(0.0234, grad_fn=<ExpandBackward0>),\n",
       " 'persistent_Im0': tensor(1.7697, grad_fn=<ExpandBackward0>),\n",
       " 'persistent_Ic0': tensor(2.1896, grad_fn=<ExpandBackward0>)}"
      ]
     },
     "execution_count": 6,
     "metadata": {},
     "output_type": "execute_result"
    }
   ],
   "source": [
    "num_iterations = 100\n",
    "data_mapping = {\"cases\": \"infected\"} \n",
    "calibrated_results = pyciemss.calibrate(model, dataset, data_mapping=data_mapping, \n",
    "                                        static_parameter_interventions=static_intervention40B,\n",
    "                                        num_iterations=num_iterations)\n",
    "parameter_estimates = calibrated_results[\"inferred_parameters\"]\n",
    "parameter_estimates()"
   ]
  },
  {
   "cell_type": "code",
   "execution_count": null,
   "id": "cad600c6-e2a6-4a72-be32-528550a258d8",
   "metadata": {},
   "outputs": [],
   "source": []
  },
  {
   "cell_type": "code",
   "execution_count": null,
   "id": "19d3474f-c8b3-4838-8146-0af0b36c09a1",
   "metadata": {},
   "outputs": [],
   "source": []
  },
  {
   "cell_type": "code",
   "execution_count": null,
   "id": "42caef90-4d60-4a22-8f5a-56dded760ed0",
   "metadata": {},
   "outputs": [],
   "source": []
  }
 ],
 "metadata": {
  "kernelspec": {
   "display_name": "Python 3 (ipykernel)",
   "language": "python",
   "name": "python3"
  },
  "language_info": {
   "codemirror_mode": {
    "name": "ipython",
    "version": 3
   },
   "file_extension": ".py",
   "mimetype": "text/x-python",
   "name": "python",
   "nbconvert_exporter": "python",
   "pygments_lexer": "ipython3",
   "version": "3.10.9"
  }
 },
 "nbformat": 4,
 "nbformat_minor": 5
}
