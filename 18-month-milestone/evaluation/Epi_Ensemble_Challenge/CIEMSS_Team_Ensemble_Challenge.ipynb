{
 "cells": [
  {
   "cell_type": "markdown",
   "id": "5ab42061-ad65-4117-945a-c6fe2bc36a8b",
   "metadata": {},
   "source": [
    "# Ensemble Challenge\n",
    "\n",
    "Timepoint: July 15, 2021. \n",
    "\n",
    "Setting: New York State upon the arrival of the Delta variant. Vaccines available"
   ]
  },
  {
   "cell_type": "code",
   "execution_count": null,
   "id": "103cf6a1-ed56-43d7-b5ed-fb52ac754a3d",
   "metadata": {},
   "outputs": [],
   "source": [
    "# TODO: \n",
    "# - collect and process data\n",
    "# - collect 3 candidate models\n",
    "# - set parameter values and interventions\n",
    "# - create observables for cumulative cases, hospitalizations, and deaths\n",
    "# - calibrate models independently\n",
    "# - calibrate ensemble of 3 models \n",
    "# - improve calibration with more data\n",
    "# - plot and post-process results"
   ]
  },
  {
   "cell_type": "code",
   "execution_count": null,
   "id": "c7c3a88c-8ea8-43d4-a783-652af5266034",
   "metadata": {},
   "outputs": [],
   "source": []
  },
  {
   "cell_type": "code",
   "execution_count": null,
   "id": "8d5df367-9080-4267-9f31-96fb4f918371",
   "metadata": {},
   "outputs": [],
   "source": []
  },
  {
   "cell_type": "code",
   "execution_count": null,
   "id": "25e356d2-1c0b-428e-8057-f32fbf3ab564",
   "metadata": {},
   "outputs": [],
   "source": []
  }
 ],
 "metadata": {
  "kernelspec": {
   "display_name": "Python 3 (ipykernel)",
   "language": "python",
   "name": "python3"
  },
  "language_info": {
   "codemirror_mode": {
    "name": "ipython",
    "version": 3
   },
   "file_extension": ".py",
   "mimetype": "text/x-python",
   "name": "python",
   "nbconvert_exporter": "python",
   "pygments_lexer": "ipython3",
   "version": "3.10.9"
  }
 },
 "nbformat": 4,
 "nbformat_minor": 5
}
