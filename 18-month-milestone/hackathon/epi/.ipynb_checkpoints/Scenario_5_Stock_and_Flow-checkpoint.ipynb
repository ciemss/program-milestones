{
 "cells": [
  {
   "cell_type": "markdown",
   "id": "83c2d90b",
   "metadata": {},
   "source": [
    "# 18-Month Hackathon Scenario 5: Stock and flow testing and diagnostics model\n",
    "\n",
    "One of the major challenges that ASKEM aims to address is the limited reproducibility of models that are created using proprietary or specialized modeling software. Within the epidemiological modeling use case, the use of proprietary modeling software is particularly common within the system dynamics (“stock and flow”) component of the modeling ecosystem. System dynamics models are useful for exploring multifaceted scenarios, such as supply chain connections with disease dynamics.\n",
    "\n",
    "The goal of this scenario is to demonstrate that ASKEM can ingest and simulate a model that is representative of the types of system dynamics approaches that were implemented in the early stage of the COVID-19 pandemic."
   ]
  },
  {
   "cell_type": "markdown",
   "id": "41bb5ab1",
   "metadata": {},
   "source": [
    "### Load dependencies"
   ]
  },
  {
   "cell_type": "code",
   "execution_count": 1,
   "id": "d1e1d37e",
   "metadata": {},
   "outputs": [],
   "source": [
    "import os\n",
    "import pyciemss\n",
    "import torch\n",
    "import pandas as pd\n",
    "\n",
    "import pyciemss.visuals.plots as plots\n",
    "import pyciemss.visuals.vega as vega\n",
    "import pyciemss.visuals.trajectories as trajectories"
   ]
  },
  {
   "cell_type": "markdown",
   "id": "07a3909a",
   "metadata": {},
   "source": [
    "## Part I, Part II"
   ]
  },
  {
   "cell_type": "code",
   "execution_count": 4,
   "id": "47383595",
   "metadata": {},
   "outputs": [],
   "source": [
    "#MODEL_PATH = \"https://raw.githubusercontent.com/gyorilab/mira/main/notebooks/hackathon_2024.02/scenario5/\"\n",
    "MODEL_PATH = \"../../../18-month-milestone/hackathon/epi/\"\n",
    "\n",
    "model = os.path.join(MODEL_PATH, \"scenario_5_stockflow.json\")"
   ]
  },
  {
   "cell_type": "markdown",
   "id": "e0db895f",
   "metadata": {},
   "source": [
    "## Part III\n",
    "\n",
    "Simulate the model using the base configurations in the .mdl file. The simulation output for the base case should indicate a peak around day 250, at 5 million cases/day."
   ]
  },
  {
   "cell_type": "code",
   "execution_count": 5,
   "id": "c245e83e",
   "metadata": {},
   "outputs": [
    {
     "name": "stderr",
     "output_type": "stream",
     "text": [
      "ERROR:root:\n",
      "                ###############################\n",
      "\n",
      "                There was an exception in pyciemss\n",
      "\n",
      "                Error occured in function: sample\n",
      "\n",
      "                Function docs : \n",
      "    Load a model from a file, compile it into a probabilistic program, and sample from it.\n",
      "\n",
      "    Args:\n",
      "        model_path_or_json: Union[str, Dict]\n",
      "            - A path to a AMR model file or JSON containing a model in AMR form.\n",
      "        end_time: float\n",
      "            - The end time of the sampled simulation.\n",
      "        logging_step_size: float\n",
      "            - The step size to use for logging the trajectory.\n",
      "        num_samples: int\n",
      "            - The number of samples to draw from the model.\n",
      "        solver_method: str\n",
      "            - The method to use for solving the ODE. See torchdiffeq's `odeint` method for more details.\n",
      "            - If performance is incredibly slow, we suggest using `euler` to debug.\n",
      "              If using `euler` results in faster simulation, the issue is likely that the model is stiff.\n",
      "        solver_options: Dict[str, Any]\n",
      "            - Options to pass to the solver. See torchdiffeq' `odeint` method for more details.\n",
      "        start_time: float\n",
      "            - The start time of the model. This is used to align the `start_state` from the\n",
      "              AMR model with the simulation timepoints.\n",
      "            - By default we set the `start_time` to be 0.\n",
      "        inferred_parameters: Optional[pyro.nn.PyroModule]\n",
      "            - A Pyro module that contains the inferred parameters of the model.\n",
      "              This is typically the result of `calibrate`.\n",
      "            - If not provided, we will use the default values from the AMR model.\n",
      "        static_state_interventions: Dict[float, Dict[str, Intervention]]\n",
      "            - A dictionary of static interventions to apply to the model.\n",
      "            - Each key is the time at which the intervention is applied.\n",
      "            - Each value is a dictionary of the form {state_variable_name: intervention_assignment}.\n",
      "            - Note that the `intervention_assignment` can be any type supported by\n",
      "              :func:`~chirho.interventional.ops.intervene`, including functions.\n",
      "        static_parameter_interventions: Dict[float, Dict[str, Intervention]]\n",
      "            - A dictionary of static interventions to apply to the model.\n",
      "            - Each key is the time at which the intervention is applied.\n",
      "            - Each value is a dictionary of the form {parameter_name: intervention_assignment}.\n",
      "            - Note that the `intervention_assignment` can be any type supported by\n",
      "              :func:`~chirho.interventional.ops.intervene`, including functions.\n",
      "        dynamic_state_interventions: Dict[\n",
      "                                        Callable[[torch.Tensor, Dict[str, torch.Tensor]], torch.Tensor],\n",
      "                                        Dict[str, Intervention]\n",
      "                                        ]\n",
      "            - A dictionary of dynamic interventions to apply to the model.\n",
      "            - Each key is a function that takes in the current state of the model and returns a tensor.\n",
      "              When this function crosses 0, the dynamic intervention is applied.\n",
      "            - Each value is a dictionary of the form {state_variable_name: intervention_assignment}.\n",
      "            - Note that the `intervention_assignment` can be any type supported by\n",
      "              :func:`~chirho.interventional.ops.intervene`, including functions.\n",
      "        dynamic_parameter_interventions: Dict[\n",
      "                                            Callable[[torch.Tensor, Dict[str, torch.Tensor]], torch.Tensor],\n",
      "                                            Dict[str, Intervention]\n",
      "                                            ]\n",
      "            - A dictionary of dynamic interventions to apply to the model.\n",
      "            - Each key is a function that takes in the current state of the model and returns a tensor.\n",
      "              When this function crosses 0, the dynamic intervention is applied.\n",
      "            - Each value is a dictionary of the form {parameter_name: intervention_assignment}.\n",
      "            - Note that the `intervention_assignment` can be any type supported by\n",
      "              :func:`~chirho.interventional.ops.intervene`, including functions.\n",
      "\n",
      "    Returns:\n",
      "        result: Dict[str, torch.Tensor]\n",
      "            - Dictionary of outputs from the model.\n",
      "                - Each key is the name of a parameter or state variable in the model.\n",
      "                - Each value is a tensor of shape (num_samples, num_timepoints) for state variables\n",
      "                    and (num_samples,) for parameters.\n",
      "    \n",
      "\n",
      "                ################################\n",
      "            \n",
      "Traceback (most recent call last):\n",
      "  File \"/Users/altu809/Projects/pyciemss/pyciemss/integration_utils/custom_decorators.py\", line 10, in wrapped\n",
      "    result = function(*args, **kwargs)\n",
      "  File \"/Users/altu809/Projects/pyciemss/pyciemss/interfaces.py\", line 239, in sample\n",
      "    model = CompiledDynamics.load(model_path_or_json)\n",
      "  File \"/Users/altu809/anaconda3/lib/python3.10/functools.py\", line 926, in _method\n",
      "    return method.__get__(obj, cls)(*args, **kwargs)\n",
      "  File \"/Users/altu809/Projects/pyciemss/pyciemss/compiled_dynamics.py\", line 109, in _load_from_url_or_path\n",
      "    return cls.load(model)\n",
      "  File \"/Users/altu809/anaconda3/lib/python3.10/functools.py\", line 926, in _method\n",
      "    return method.__get__(obj, cls)(*args, **kwargs)\n",
      "  File \"/Users/altu809/Projects/pyciemss/pyciemss/compiled_dynamics.py\", line 119, in _load_from_template_model\n",
      "    return cls.load(mira.modeling.Model(template))\n",
      "  File \"/Users/altu809/anaconda3/lib/python3.10/functools.py\", line 926, in _method\n",
      "    return method.__get__(obj, cls)(*args, **kwargs)\n",
      "  File \"/Users/altu809/Projects/pyciemss/pyciemss/compiled_dynamics.py\", line 124, in _load_from_mira_model\n",
      "    return cls(src)\n",
      "  File \"/Users/altu809/Projects/pyciemss/pyciemss/compiled_dynamics.py\", line 36, in __init__\n",
      "    setattr(self, \"numeric_deriv_func\", _compile_deriv(src))\n",
      "  File \"/Users/altu809/anaconda3/lib/python3.10/functools.py\", line 889, in wrapper\n",
      "    return dispatch(args[0].__class__)(*args, **kw)\n",
      "  File \"/Users/altu809/Projects/pyciemss/pyciemss/mira_integration/compiled_dynamics.py\", line 38, in _compile_deriv_mira\n",
      "    flux = transition.template.rate_law.args[0]\n",
      "AttributeError: 'NoneType' object has no attribute 'args'\n"
     ]
    },
    {
     "ename": "AttributeError",
     "evalue": "'NoneType' object has no attribute 'args'",
     "output_type": "error",
     "traceback": [
      "\u001b[0;31m---------------------------------------------------------------------------\u001b[0m",
      "\u001b[0;31mAttributeError\u001b[0m                            Traceback (most recent call last)",
      "Cell \u001b[0;32mIn[5], line 6\u001b[0m\n\u001b[1;32m      3\u001b[0m logging_step_size \u001b[38;5;241m=\u001b[39m \u001b[38;5;241m10.0\u001b[39m\n\u001b[1;32m      4\u001b[0m num_samples \u001b[38;5;241m=\u001b[39m \u001b[38;5;241m1\u001b[39m\n\u001b[0;32m----> 6\u001b[0m result \u001b[38;5;241m=\u001b[39m \u001b[43mpyciemss\u001b[49m\u001b[38;5;241;43m.\u001b[39;49m\u001b[43msample\u001b[49m\u001b[43m(\u001b[49m\u001b[43mmodel\u001b[49m\u001b[43m,\u001b[49m\u001b[43m \u001b[49m\u001b[43mend_time\u001b[49m\u001b[43m,\u001b[49m\u001b[43m \u001b[49m\u001b[43mlogging_step_size\u001b[49m\u001b[43m,\u001b[49m\u001b[43m \u001b[49m\u001b[43mnum_samples\u001b[49m\u001b[43m,\u001b[49m\u001b[43m \u001b[49m\u001b[43mstart_time\u001b[49m\u001b[38;5;241;43m=\u001b[39;49m\u001b[43mstart_time\u001b[49m\u001b[43m)\u001b[49m\n\u001b[1;32m      7\u001b[0m \u001b[38;5;66;03m# display(result['data'].head())\u001b[39;00m\n\u001b[1;32m      8\u001b[0m \n\u001b[1;32m      9\u001b[0m \u001b[38;5;66;03m# Plot results\u001b[39;00m\n\u001b[1;32m     10\u001b[0m schema \u001b[38;5;241m=\u001b[39m plots\u001b[38;5;241m.\u001b[39mtrajectories(result[\u001b[38;5;124m\"\u001b[39m\u001b[38;5;124mdata\u001b[39m\u001b[38;5;124m\"\u001b[39m], keep\u001b[38;5;241m=\u001b[39m\u001b[38;5;124m\"\u001b[39m\u001b[38;5;124m.*_state\u001b[39m\u001b[38;5;124m\"\u001b[39m)\n",
      "File \u001b[0;32m~/Projects/pyciemss/pyciemss/integration_utils/custom_decorators.py:29\u001b[0m, in \u001b[0;36mpyciemss_logging_wrapper.<locals>.wrapped\u001b[0;34m(*args, **kwargs)\u001b[0m\n\u001b[1;32m     17\u001b[0m log_message \u001b[38;5;241m=\u001b[39m \u001b[38;5;124m\"\"\"\u001b[39m\n\u001b[1;32m     18\u001b[0m \u001b[38;5;124m    ###############################\u001b[39m\n\u001b[1;32m     19\u001b[0m \n\u001b[0;32m   (...)\u001b[0m\n\u001b[1;32m     26\u001b[0m \u001b[38;5;124m    ################################\u001b[39m\n\u001b[1;32m     27\u001b[0m \u001b[38;5;124m\u001b[39m\u001b[38;5;124m\"\"\"\u001b[39m\n\u001b[1;32m     28\u001b[0m logging\u001b[38;5;241m.\u001b[39mexception(log_message, function\u001b[38;5;241m.\u001b[39m\u001b[38;5;18m__name__\u001b[39m, function\u001b[38;5;241m.\u001b[39m\u001b[38;5;18m__doc__\u001b[39m)\n\u001b[0;32m---> 29\u001b[0m \u001b[38;5;28;01mraise\u001b[39;00m e\n",
      "File \u001b[0;32m~/Projects/pyciemss/pyciemss/integration_utils/custom_decorators.py:10\u001b[0m, in \u001b[0;36mpyciemss_logging_wrapper.<locals>.wrapped\u001b[0;34m(*args, **kwargs)\u001b[0m\n\u001b[1;32m      8\u001b[0m \u001b[38;5;28;01mtry\u001b[39;00m:\n\u001b[1;32m      9\u001b[0m     start_time \u001b[38;5;241m=\u001b[39m time\u001b[38;5;241m.\u001b[39mperf_counter()\n\u001b[0;32m---> 10\u001b[0m     result \u001b[38;5;241m=\u001b[39m \u001b[43mfunction\u001b[49m\u001b[43m(\u001b[49m\u001b[38;5;241;43m*\u001b[39;49m\u001b[43margs\u001b[49m\u001b[43m,\u001b[49m\u001b[43m \u001b[49m\u001b[38;5;241;43m*\u001b[39;49m\u001b[38;5;241;43m*\u001b[39;49m\u001b[43mkwargs\u001b[49m\u001b[43m)\u001b[49m\n\u001b[1;32m     11\u001b[0m     end_time \u001b[38;5;241m=\u001b[39m time\u001b[38;5;241m.\u001b[39mperf_counter()\n\u001b[1;32m     12\u001b[0m     logging\u001b[38;5;241m.\u001b[39minfo(\n\u001b[1;32m     13\u001b[0m         \u001b[38;5;124m\"\u001b[39m\u001b[38;5;124mElapsed time for \u001b[39m\u001b[38;5;132;01m%s\u001b[39;00m\u001b[38;5;124m: \u001b[39m\u001b[38;5;132;01m%f\u001b[39;00m\u001b[38;5;124m\"\u001b[39m, function\u001b[38;5;241m.\u001b[39m\u001b[38;5;18m__name__\u001b[39m, end_time \u001b[38;5;241m-\u001b[39m start_time\n\u001b[1;32m     14\u001b[0m     )\n",
      "File \u001b[0;32m~/Projects/pyciemss/pyciemss/interfaces.py:239\u001b[0m, in \u001b[0;36msample\u001b[0;34m(model_path_or_json, end_time, logging_step_size, num_samples, noise_model, noise_model_kwargs, solver_method, solver_options, start_time, inferred_parameters, static_state_interventions, static_parameter_interventions, dynamic_state_interventions, dynamic_parameter_interventions)\u001b[0m\n\u001b[1;32m    171\u001b[0m \u001b[38;5;124;03m\"\"\"\u001b[39;00m\n\u001b[1;32m    172\u001b[0m \u001b[38;5;124;03mLoad a model from a file, compile it into a probabilistic program, and sample from it.\u001b[39;00m\n\u001b[1;32m    173\u001b[0m \n\u001b[0;32m   (...)\u001b[0m\n\u001b[1;32m    235\u001b[0m \u001b[38;5;124;03m                and (num_samples,) for parameters.\u001b[39;00m\n\u001b[1;32m    236\u001b[0m \u001b[38;5;124;03m\"\"\"\u001b[39;00m\n\u001b[1;32m    238\u001b[0m \u001b[38;5;28;01mwith\u001b[39;00m torch\u001b[38;5;241m.\u001b[39mno_grad():\n\u001b[0;32m--> 239\u001b[0m     model \u001b[38;5;241m=\u001b[39m \u001b[43mCompiledDynamics\u001b[49m\u001b[38;5;241;43m.\u001b[39;49m\u001b[43mload\u001b[49m\u001b[43m(\u001b[49m\u001b[43mmodel_path_or_json\u001b[49m\u001b[43m)\u001b[49m\n\u001b[1;32m    241\u001b[0m     logging_times \u001b[38;5;241m=\u001b[39m torch\u001b[38;5;241m.\u001b[39marange(\n\u001b[1;32m    242\u001b[0m         start_time \u001b[38;5;241m+\u001b[39m logging_step_size, end_time, logging_step_size\n\u001b[1;32m    243\u001b[0m     )\n\u001b[1;32m    245\u001b[0m     \u001b[38;5;66;03m# Check that num_samples is a positive integer\u001b[39;00m\n",
      "File \u001b[0;32m~/anaconda3/lib/python3.10/functools.py:926\u001b[0m, in \u001b[0;36msingledispatchmethod.__get__.<locals>._method\u001b[0;34m(*args, **kwargs)\u001b[0m\n\u001b[1;32m    924\u001b[0m \u001b[38;5;28;01mdef\u001b[39;00m \u001b[38;5;21m_method\u001b[39m(\u001b[38;5;241m*\u001b[39margs, \u001b[38;5;241m*\u001b[39m\u001b[38;5;241m*\u001b[39mkwargs):\n\u001b[1;32m    925\u001b[0m     method \u001b[38;5;241m=\u001b[39m \u001b[38;5;28mself\u001b[39m\u001b[38;5;241m.\u001b[39mdispatcher\u001b[38;5;241m.\u001b[39mdispatch(args[\u001b[38;5;241m0\u001b[39m]\u001b[38;5;241m.\u001b[39m\u001b[38;5;18m__class__\u001b[39m)\n\u001b[0;32m--> 926\u001b[0m     \u001b[38;5;28;01mreturn\u001b[39;00m \u001b[43mmethod\u001b[49m\u001b[38;5;241;43m.\u001b[39;49m\u001b[38;5;21;43m__get__\u001b[39;49m\u001b[43m(\u001b[49m\u001b[43mobj\u001b[49m\u001b[43m,\u001b[49m\u001b[43m \u001b[49m\u001b[38;5;28;43mcls\u001b[39;49m\u001b[43m)\u001b[49m\u001b[43m(\u001b[49m\u001b[38;5;241;43m*\u001b[39;49m\u001b[43margs\u001b[49m\u001b[43m,\u001b[49m\u001b[43m \u001b[49m\u001b[38;5;241;43m*\u001b[39;49m\u001b[38;5;241;43m*\u001b[39;49m\u001b[43mkwargs\u001b[49m\u001b[43m)\u001b[49m\n",
      "File \u001b[0;32m~/Projects/pyciemss/pyciemss/compiled_dynamics.py:109\u001b[0m, in \u001b[0;36mCompiledDynamics._load_from_url_or_path\u001b[0;34m(cls, path)\u001b[0m\n\u001b[1;32m    107\u001b[0m \u001b[38;5;28;01melse\u001b[39;00m:\n\u001b[1;32m    108\u001b[0m     model \u001b[38;5;241m=\u001b[39m mira\u001b[38;5;241m.\u001b[39msources\u001b[38;5;241m.\u001b[39mamr\u001b[38;5;241m.\u001b[39mmodel_from_json_file(path)\n\u001b[0;32m--> 109\u001b[0m \u001b[38;5;28;01mreturn\u001b[39;00m \u001b[38;5;28;43mcls\u001b[39;49m\u001b[38;5;241;43m.\u001b[39;49m\u001b[43mload\u001b[49m\u001b[43m(\u001b[49m\u001b[43mmodel\u001b[49m\u001b[43m)\u001b[49m\n",
      "File \u001b[0;32m~/anaconda3/lib/python3.10/functools.py:926\u001b[0m, in \u001b[0;36msingledispatchmethod.__get__.<locals>._method\u001b[0;34m(*args, **kwargs)\u001b[0m\n\u001b[1;32m    924\u001b[0m \u001b[38;5;28;01mdef\u001b[39;00m \u001b[38;5;21m_method\u001b[39m(\u001b[38;5;241m*\u001b[39margs, \u001b[38;5;241m*\u001b[39m\u001b[38;5;241m*\u001b[39mkwargs):\n\u001b[1;32m    925\u001b[0m     method \u001b[38;5;241m=\u001b[39m \u001b[38;5;28mself\u001b[39m\u001b[38;5;241m.\u001b[39mdispatcher\u001b[38;5;241m.\u001b[39mdispatch(args[\u001b[38;5;241m0\u001b[39m]\u001b[38;5;241m.\u001b[39m\u001b[38;5;18m__class__\u001b[39m)\n\u001b[0;32m--> 926\u001b[0m     \u001b[38;5;28;01mreturn\u001b[39;00m \u001b[43mmethod\u001b[49m\u001b[38;5;241;43m.\u001b[39;49m\u001b[38;5;21;43m__get__\u001b[39;49m\u001b[43m(\u001b[49m\u001b[43mobj\u001b[49m\u001b[43m,\u001b[49m\u001b[43m \u001b[49m\u001b[38;5;28;43mcls\u001b[39;49m\u001b[43m)\u001b[49m\u001b[43m(\u001b[49m\u001b[38;5;241;43m*\u001b[39;49m\u001b[43margs\u001b[49m\u001b[43m,\u001b[49m\u001b[43m \u001b[49m\u001b[38;5;241;43m*\u001b[39;49m\u001b[38;5;241;43m*\u001b[39;49m\u001b[43mkwargs\u001b[49m\u001b[43m)\u001b[49m\n",
      "File \u001b[0;32m~/Projects/pyciemss/pyciemss/compiled_dynamics.py:119\u001b[0m, in \u001b[0;36mCompiledDynamics._load_from_template_model\u001b[0;34m(cls, template)\u001b[0m\n\u001b[1;32m    116\u001b[0m \u001b[38;5;129m@load\u001b[39m\u001b[38;5;241m.\u001b[39mregister(mira\u001b[38;5;241m.\u001b[39mmetamodel\u001b[38;5;241m.\u001b[39mTemplateModel)\n\u001b[1;32m    117\u001b[0m \u001b[38;5;129m@classmethod\u001b[39m\n\u001b[1;32m    118\u001b[0m \u001b[38;5;28;01mdef\u001b[39;00m \u001b[38;5;21m_load_from_template_model\u001b[39m(\u001b[38;5;28mcls\u001b[39m, template: mira\u001b[38;5;241m.\u001b[39mmetamodel\u001b[38;5;241m.\u001b[39mTemplateModel):\n\u001b[0;32m--> 119\u001b[0m     \u001b[38;5;28;01mreturn\u001b[39;00m \u001b[38;5;28;43mcls\u001b[39;49m\u001b[38;5;241;43m.\u001b[39;49m\u001b[43mload\u001b[49m\u001b[43m(\u001b[49m\u001b[43mmira\u001b[49m\u001b[38;5;241;43m.\u001b[39;49m\u001b[43mmodeling\u001b[49m\u001b[38;5;241;43m.\u001b[39;49m\u001b[43mModel\u001b[49m\u001b[43m(\u001b[49m\u001b[43mtemplate\u001b[49m\u001b[43m)\u001b[49m\u001b[43m)\u001b[49m\n",
      "File \u001b[0;32m~/anaconda3/lib/python3.10/functools.py:926\u001b[0m, in \u001b[0;36msingledispatchmethod.__get__.<locals>._method\u001b[0;34m(*args, **kwargs)\u001b[0m\n\u001b[1;32m    924\u001b[0m \u001b[38;5;28;01mdef\u001b[39;00m \u001b[38;5;21m_method\u001b[39m(\u001b[38;5;241m*\u001b[39margs, \u001b[38;5;241m*\u001b[39m\u001b[38;5;241m*\u001b[39mkwargs):\n\u001b[1;32m    925\u001b[0m     method \u001b[38;5;241m=\u001b[39m \u001b[38;5;28mself\u001b[39m\u001b[38;5;241m.\u001b[39mdispatcher\u001b[38;5;241m.\u001b[39mdispatch(args[\u001b[38;5;241m0\u001b[39m]\u001b[38;5;241m.\u001b[39m\u001b[38;5;18m__class__\u001b[39m)\n\u001b[0;32m--> 926\u001b[0m     \u001b[38;5;28;01mreturn\u001b[39;00m \u001b[43mmethod\u001b[49m\u001b[38;5;241;43m.\u001b[39;49m\u001b[38;5;21;43m__get__\u001b[39;49m\u001b[43m(\u001b[49m\u001b[43mobj\u001b[49m\u001b[43m,\u001b[49m\u001b[43m \u001b[49m\u001b[38;5;28;43mcls\u001b[39;49m\u001b[43m)\u001b[49m\u001b[43m(\u001b[49m\u001b[38;5;241;43m*\u001b[39;49m\u001b[43margs\u001b[49m\u001b[43m,\u001b[49m\u001b[43m \u001b[49m\u001b[38;5;241;43m*\u001b[39;49m\u001b[38;5;241;43m*\u001b[39;49m\u001b[43mkwargs\u001b[49m\u001b[43m)\u001b[49m\n",
      "File \u001b[0;32m~/Projects/pyciemss/pyciemss/compiled_dynamics.py:124\u001b[0m, in \u001b[0;36mCompiledDynamics._load_from_mira_model\u001b[0;34m(cls, src)\u001b[0m\n\u001b[1;32m    121\u001b[0m \u001b[38;5;129m@load\u001b[39m\u001b[38;5;241m.\u001b[39mregister(mira\u001b[38;5;241m.\u001b[39mmodeling\u001b[38;5;241m.\u001b[39mModel)\n\u001b[1;32m    122\u001b[0m \u001b[38;5;129m@classmethod\u001b[39m\n\u001b[1;32m    123\u001b[0m \u001b[38;5;28;01mdef\u001b[39;00m \u001b[38;5;21m_load_from_mira_model\u001b[39m(\u001b[38;5;28mcls\u001b[39m, src: mira\u001b[38;5;241m.\u001b[39mmodeling\u001b[38;5;241m.\u001b[39mModel):\n\u001b[0;32m--> 124\u001b[0m     \u001b[38;5;28;01mreturn\u001b[39;00m \u001b[38;5;28;43mcls\u001b[39;49m\u001b[43m(\u001b[49m\u001b[43msrc\u001b[49m\u001b[43m)\u001b[49m\n",
      "File \u001b[0;32m~/Projects/pyciemss/pyciemss/compiled_dynamics.py:36\u001b[0m, in \u001b[0;36mCompiledDynamics.__init__\u001b[0;34m(self, src, **kwargs)\u001b[0m\n\u001b[1;32m     33\u001b[0m         \u001b[38;5;28mself\u001b[39m\u001b[38;5;241m.\u001b[39mregister_buffer(\u001b[38;5;124mf\u001b[39m\u001b[38;5;124m\"\u001b[39m\u001b[38;5;124mpersistent_\u001b[39m\u001b[38;5;132;01m{\u001b[39;00mget_name(k)\u001b[38;5;132;01m}\u001b[39;00m\u001b[38;5;124m\"\u001b[39m, v)\n\u001b[1;32m     35\u001b[0m \u001b[38;5;66;03m# Compile the numeric derivative of the model from the transition rate laws.\u001b[39;00m\n\u001b[0;32m---> 36\u001b[0m \u001b[38;5;28msetattr\u001b[39m(\u001b[38;5;28mself\u001b[39m, \u001b[38;5;124m\"\u001b[39m\u001b[38;5;124mnumeric_deriv_func\u001b[39m\u001b[38;5;124m\"\u001b[39m, \u001b[43m_compile_deriv\u001b[49m\u001b[43m(\u001b[49m\u001b[43msrc\u001b[49m\u001b[43m)\u001b[49m)\n\u001b[1;32m     37\u001b[0m \u001b[38;5;28msetattr\u001b[39m(\u001b[38;5;28mself\u001b[39m, \u001b[38;5;124m\"\u001b[39m\u001b[38;5;124mnumeric_initial_state_func\u001b[39m\u001b[38;5;124m\"\u001b[39m, _compile_initial_state(src))\n\u001b[1;32m     38\u001b[0m \u001b[38;5;28msetattr\u001b[39m(\u001b[38;5;28mself\u001b[39m, \u001b[38;5;124m\"\u001b[39m\u001b[38;5;124mnumeric_observables_func\u001b[39m\u001b[38;5;124m\"\u001b[39m, _compile_observables(src))\n",
      "File \u001b[0;32m~/anaconda3/lib/python3.10/functools.py:889\u001b[0m, in \u001b[0;36msingledispatch.<locals>.wrapper\u001b[0;34m(*args, **kw)\u001b[0m\n\u001b[1;32m    885\u001b[0m \u001b[38;5;28;01mif\u001b[39;00m \u001b[38;5;129;01mnot\u001b[39;00m args:\n\u001b[1;32m    886\u001b[0m     \u001b[38;5;28;01mraise\u001b[39;00m \u001b[38;5;167;01mTypeError\u001b[39;00m(\u001b[38;5;124mf\u001b[39m\u001b[38;5;124m'\u001b[39m\u001b[38;5;132;01m{\u001b[39;00mfuncname\u001b[38;5;132;01m}\u001b[39;00m\u001b[38;5;124m requires at least \u001b[39m\u001b[38;5;124m'\u001b[39m\n\u001b[1;32m    887\u001b[0m                     \u001b[38;5;124m'\u001b[39m\u001b[38;5;124m1 positional argument\u001b[39m\u001b[38;5;124m'\u001b[39m)\n\u001b[0;32m--> 889\u001b[0m \u001b[38;5;28;01mreturn\u001b[39;00m \u001b[43mdispatch\u001b[49m\u001b[43m(\u001b[49m\u001b[43margs\u001b[49m\u001b[43m[\u001b[49m\u001b[38;5;241;43m0\u001b[39;49m\u001b[43m]\u001b[49m\u001b[38;5;241;43m.\u001b[39;49m\u001b[38;5;18;43m__class__\u001b[39;49m\u001b[43m)\u001b[49m\u001b[43m(\u001b[49m\u001b[38;5;241;43m*\u001b[39;49m\u001b[43margs\u001b[49m\u001b[43m,\u001b[49m\u001b[43m \u001b[49m\u001b[38;5;241;43m*\u001b[39;49m\u001b[38;5;241;43m*\u001b[39;49m\u001b[43mkw\u001b[49m\u001b[43m)\u001b[49m\n",
      "File \u001b[0;32m~/Projects/pyciemss/pyciemss/mira_integration/compiled_dynamics.py:38\u001b[0m, in \u001b[0;36m_compile_deriv_mira\u001b[0;34m(src)\u001b[0m\n\u001b[1;32m     36\u001b[0m symbolic_deriv \u001b[38;5;241m=\u001b[39m {get_name(var): \u001b[38;5;241m0\u001b[39m \u001b[38;5;28;01mfor\u001b[39;00m var \u001b[38;5;129;01min\u001b[39;00m src\u001b[38;5;241m.\u001b[39mvariables\u001b[38;5;241m.\u001b[39mvalues()}\n\u001b[1;32m     37\u001b[0m \u001b[38;5;28;01mfor\u001b[39;00m transition \u001b[38;5;129;01min\u001b[39;00m src\u001b[38;5;241m.\u001b[39mtransitions\u001b[38;5;241m.\u001b[39mvalues():\n\u001b[0;32m---> 38\u001b[0m     flux \u001b[38;5;241m=\u001b[39m \u001b[43mtransition\u001b[49m\u001b[38;5;241;43m.\u001b[39;49m\u001b[43mtemplate\u001b[49m\u001b[38;5;241;43m.\u001b[39;49m\u001b[43mrate_law\u001b[49m\u001b[38;5;241;43m.\u001b[39;49m\u001b[43margs\u001b[49m[\u001b[38;5;241m0\u001b[39m]\n\u001b[1;32m     39\u001b[0m     \u001b[38;5;28;01mfor\u001b[39;00m c \u001b[38;5;129;01min\u001b[39;00m transition\u001b[38;5;241m.\u001b[39mconsumed:\n\u001b[1;32m     40\u001b[0m         symbolic_deriv[get_name(c)] \u001b[38;5;241m-\u001b[39m\u001b[38;5;241m=\u001b[39m flux\n",
      "\u001b[0;31mAttributeError\u001b[0m: 'NoneType' object has no attribute 'args'"
     ]
    }
   ],
   "source": [
    "start_time = 1e-5\n",
    "end_time = 300.0\n",
    "logging_step_size = 10.0\n",
    "num_samples = 1\n",
    "\n",
    "result = pyciemss.sample(model, end_time, logging_step_size, num_samples, start_time=start_time)\n",
    "# display(result['data'].head())\n",
    "\n",
    "# Plot results\n",
    "schema = plots.trajectories(result[\"data\"], keep=\".*_state\")\n",
    "schema = plots.set_title(schema, \"Stock and Flow Model\")\n",
    "schema = plots.set_title(schema, \"time (days)\", target=\"x\")\n",
    "plots.save_schema(schema, \"_schema.json\")\n",
    "plots.ipy_display(schema, dpi=150)"
   ]
  },
  {
   "cell_type": "code",
   "execution_count": null,
   "id": "cfde74f3",
   "metadata": {},
   "outputs": [],
   "source": []
  }
 ],
 "metadata": {
  "kernelspec": {
   "display_name": "Python (pyciemss)",
   "language": "python",
   "name": "pyciemss"
  },
  "language_info": {
   "codemirror_mode": {
    "name": "ipython",
    "version": 3
   },
   "file_extension": ".py",
   "mimetype": "text/x-python",
   "name": "python",
   "nbconvert_exporter": "python",
   "pygments_lexer": "ipython3",
   "version": "3.10.9"
  }
 },
 "nbformat": 4,
 "nbformat_minor": 5
}
